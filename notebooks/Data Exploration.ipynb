{
 "cells": [
  {
   "cell_type": "code",
   "execution_count": 331,
   "metadata": {},
   "outputs": [
    {
     "name": "stderr",
     "output_type": "stream",
     "text": [
      "C:\\Users\\Drew\\Anaconda3\\lib\\site-packages\\IPython\\core\\interactiveshell.py:2717: DtypeWarning: Columns (5,6,10,11,12,13,20,21,26,27,35,38,40,51,53,59,60,61,64,65,67,68,76,82,83,88,94,95,97,98) have mixed types. Specify dtype option on import or set low_memory=False.\n",
      "  interactivity=interactivity, compiler=compiler, result=result)\n"
     ]
    }
   ],
   "source": [
    "# Import the necessary packages and data\n",
    "from collections import defaultdict\n",
    "import matplotlib.pyplot as plt\n",
    "import numpy as np\n",
    "import os\n",
    "import pandas as pd\n",
    "import seaborn as sns\n",
    "sns.set()\n",
    "path = os.path.expanduser('~/Projects/capstone-two/data/raw/Harbor_Water_Quality.csv')\n",
    "df = pd.read_csv(path, parse_dates=['Sample Date', 'Sample Time'])"
   ]
  },
  {
   "cell_type": "markdown",
   "metadata": {},
   "source": [
    "There are dataype problems with certain columns, but before dealing with those, I first want to see what the dataframe looks like."
   ]
  },
  {
   "cell_type": "code",
   "execution_count": 332,
   "metadata": {},
   "outputs": [
    {
     "data": {
      "text/plain": [
       "(88366, 100)"
      ]
     },
     "execution_count": 332,
     "metadata": {},
     "output_type": "execute_result"
    }
   ],
   "source": [
    "df.shape"
   ]
  },
  {
   "cell_type": "code",
   "execution_count": 333,
   "metadata": {
    "scrolled": true
   },
   "outputs": [
    {
     "data": {
      "text/html": [
       "<div>\n",
       "<style scoped>\n",
       "    .dataframe tbody tr th:only-of-type {\n",
       "        vertical-align: middle;\n",
       "    }\n",
       "\n",
       "    .dataframe tbody tr th {\n",
       "        vertical-align: top;\n",
       "    }\n",
       "\n",
       "    .dataframe thead th {\n",
       "        text-align: right;\n",
       "    }\n",
       "</style>\n",
       "<table border=\"1\" class=\"dataframe\">\n",
       "  <thead>\n",
       "    <tr style=\"text-align: right;\">\n",
       "      <th></th>\n",
       "      <th>Sampling Location</th>\n",
       "      <th>Duplicate Sample</th>\n",
       "      <th>Sample Date</th>\n",
       "      <th>Sample Time</th>\n",
       "      <th>Weather Condition (Dry or Wet)</th>\n",
       "      <th>Top Sample Temperature (ºC)</th>\n",
       "      <th>Bottom Sample Temperature (ºC)</th>\n",
       "      <th>Site Actual Depth (ft)</th>\n",
       "      <th>Top Sample Depth(ft)</th>\n",
       "      <th>Bottom Sample Depth (ft)</th>\n",
       "      <th>...</th>\n",
       "      <th>Oakwood BOD Top Sample (mg/L)</th>\n",
       "      <th>Oakwood BOD Bottom Sample(mg/L)</th>\n",
       "      <th>Oakwood  Total Suspended Solid Top Sample  (mg/L)</th>\n",
       "      <th>Oakwood Total Suspended Solid Bottom Sample (mg/L)</th>\n",
       "      <th>Top Turbidity( Nephelometric Turbidity Units)</th>\n",
       "      <th>Bottom Turbidity YSI (Nephelometric Turbidity Units)</th>\n",
       "      <th>Sampling Comment</th>\n",
       "      <th>Long</th>\n",
       "      <th>Lat</th>\n",
       "      <th>Type</th>\n",
       "    </tr>\n",
       "  </thead>\n",
       "  <tbody>\n",
       "    <tr>\n",
       "      <th>0</th>\n",
       "      <td>BR5</td>\n",
       "      <td>NaN</td>\n",
       "      <td>2015-08-17</td>\n",
       "      <td>1:07 PM</td>\n",
       "      <td>Dry</td>\n",
       "      <td>24.68</td>\n",
       "      <td>NaN</td>\n",
       "      <td>13.0</td>\n",
       "      <td>3.0</td>\n",
       "      <td>NaN</td>\n",
       "      <td>...</td>\n",
       "      <td>NaN</td>\n",
       "      <td>NaN</td>\n",
       "      <td>NaN</td>\n",
       "      <td>NaN</td>\n",
       "      <td>NaN</td>\n",
       "      <td>NaN</td>\n",
       "      <td>NaN</td>\n",
       "      <td>-73.8713</td>\n",
       "      <td>40.813667</td>\n",
       "      <td>Permanent</td>\n",
       "    </tr>\n",
       "    <tr>\n",
       "      <th>1</th>\n",
       "      <td>K2</td>\n",
       "      <td>NaN</td>\n",
       "      <td>1965-07-06</td>\n",
       "      <td>9:50 AM</td>\n",
       "      <td>NaN</td>\n",
       "      <td>22.8</td>\n",
       "      <td>22.2</td>\n",
       "      <td>21.0</td>\n",
       "      <td>NaN</td>\n",
       "      <td>NaN</td>\n",
       "      <td>...</td>\n",
       "      <td>NaN</td>\n",
       "      <td>NaN</td>\n",
       "      <td>NaN</td>\n",
       "      <td>NaN</td>\n",
       "      <td>NaN</td>\n",
       "      <td>NaN</td>\n",
       "      <td>NaN</td>\n",
       "      <td>-74.153</td>\n",
       "      <td>40.641167</td>\n",
       "      <td>Permanent</td>\n",
       "    </tr>\n",
       "    <tr>\n",
       "      <th>2</th>\n",
       "      <td>N8</td>\n",
       "      <td>NaN</td>\n",
       "      <td>1909-07-16</td>\n",
       "      <td>4:10 PM</td>\n",
       "      <td>NaN</td>\n",
       "      <td>20</td>\n",
       "      <td>NaN</td>\n",
       "      <td>NaN</td>\n",
       "      <td>1.0</td>\n",
       "      <td>NaN</td>\n",
       "      <td>...</td>\n",
       "      <td>NaN</td>\n",
       "      <td>NaN</td>\n",
       "      <td>NaN</td>\n",
       "      <td>NaN</td>\n",
       "      <td>NaN</td>\n",
       "      <td>NaN</td>\n",
       "      <td>NaN</td>\n",
       "      <td>-74.0455</td>\n",
       "      <td>40.606167</td>\n",
       "      <td>Permanent</td>\n",
       "    </tr>\n",
       "    <tr>\n",
       "      <th>3</th>\n",
       "      <td>N9</td>\n",
       "      <td>NaN</td>\n",
       "      <td>1972-07-27</td>\n",
       "      <td>9:22 AM</td>\n",
       "      <td>NaN</td>\n",
       "      <td>17.2</td>\n",
       "      <td>16.1</td>\n",
       "      <td>NaN</td>\n",
       "      <td>NaN</td>\n",
       "      <td>NaN</td>\n",
       "      <td>...</td>\n",
       "      <td>0.6</td>\n",
       "      <td>0.6</td>\n",
       "      <td>NaN</td>\n",
       "      <td>NaN</td>\n",
       "      <td>NaN</td>\n",
       "      <td>NaN</td>\n",
       "      <td>NaN</td>\n",
       "      <td>-73.9833</td>\n",
       "      <td>40.568333</td>\n",
       "      <td>Permanent</td>\n",
       "    </tr>\n",
       "    <tr>\n",
       "      <th>4</th>\n",
       "      <td>NC0</td>\n",
       "      <td>NaN</td>\n",
       "      <td>2014-02-26</td>\n",
       "      <td>10:45 AM</td>\n",
       "      <td>Dry</td>\n",
       "      <td>2.51</td>\n",
       "      <td>2.46</td>\n",
       "      <td>15.0</td>\n",
       "      <td>3.0</td>\n",
       "      <td>12.0</td>\n",
       "      <td>...</td>\n",
       "      <td>NaN</td>\n",
       "      <td>NaN</td>\n",
       "      <td>NaN</td>\n",
       "      <td>NaN</td>\n",
       "      <td>NaN</td>\n",
       "      <td>NaN</td>\n",
       "      <td>Light snow</td>\n",
       "      <td>-73.9316</td>\n",
       "      <td>40.714961</td>\n",
       "      <td>Permanent</td>\n",
       "    </tr>\n",
       "  </tbody>\n",
       "</table>\n",
       "<p>5 rows × 100 columns</p>\n",
       "</div>"
      ],
      "text/plain": [
       "  Sampling Location Duplicate Sample Sample Date Sample Time  \\\n",
       "0               BR5              NaN  2015-08-17     1:07 PM   \n",
       "1                K2              NaN  1965-07-06     9:50 AM   \n",
       "2                N8              NaN  1909-07-16     4:10 PM   \n",
       "3                N9              NaN  1972-07-27     9:22 AM   \n",
       "4               NC0              NaN  2014-02-26    10:45 AM   \n",
       "\n",
       "  Weather Condition (Dry or Wet) Top Sample Temperature (ºC)  \\\n",
       "0                            Dry                       24.68   \n",
       "1                            NaN                        22.8   \n",
       "2                            NaN                          20   \n",
       "3                            NaN                        17.2   \n",
       "4                            Dry                        2.51   \n",
       "\n",
       "  Bottom Sample Temperature (ºC)  Site Actual Depth (ft)  \\\n",
       "0                            NaN                    13.0   \n",
       "1                           22.2                    21.0   \n",
       "2                            NaN                     NaN   \n",
       "3                           16.1                     NaN   \n",
       "4                           2.46                    15.0   \n",
       "\n",
       "   Top Sample Depth(ft)  Bottom Sample Depth (ft)  ...  \\\n",
       "0                   3.0                       NaN  ...   \n",
       "1                   NaN                       NaN  ...   \n",
       "2                   1.0                       NaN  ...   \n",
       "3                   NaN                       NaN  ...   \n",
       "4                   3.0                      12.0  ...   \n",
       "\n",
       "  Oakwood BOD Top Sample (mg/L)  Oakwood BOD Bottom Sample(mg/L)  \\\n",
       "0                            NaN                             NaN   \n",
       "1                            NaN                             NaN   \n",
       "2                            NaN                             NaN   \n",
       "3                            0.6                             0.6   \n",
       "4                            NaN                             NaN   \n",
       "\n",
       "  Oakwood  Total Suspended Solid Top Sample  (mg/L)  \\\n",
       "0                                               NaN   \n",
       "1                                               NaN   \n",
       "2                                               NaN   \n",
       "3                                               NaN   \n",
       "4                                               NaN   \n",
       "\n",
       "  Oakwood Total Suspended Solid Bottom Sample (mg/L)  \\\n",
       "0                                                NaN   \n",
       "1                                                NaN   \n",
       "2                                                NaN   \n",
       "3                                                NaN   \n",
       "4                                                NaN   \n",
       "\n",
       "   Top Turbidity( Nephelometric Turbidity Units)  \\\n",
       "0                                            NaN   \n",
       "1                                            NaN   \n",
       "2                                            NaN   \n",
       "3                                            NaN   \n",
       "4                                            NaN   \n",
       "\n",
       "   Bottom Turbidity YSI (Nephelometric Turbidity Units)  Sampling Comment  \\\n",
       "0                                                NaN                  NaN   \n",
       "1                                                NaN                  NaN   \n",
       "2                                                NaN                  NaN   \n",
       "3                                                NaN                  NaN   \n",
       "4                                                NaN           Light snow   \n",
       "\n",
       "      Long        Lat       Type  \n",
       "0 -73.8713  40.813667  Permanent  \n",
       "1  -74.153  40.641167  Permanent  \n",
       "2 -74.0455  40.606167  Permanent  \n",
       "3 -73.9833  40.568333  Permanent  \n",
       "4 -73.9316  40.714961  Permanent  \n",
       "\n",
       "[5 rows x 100 columns]"
      ]
     },
     "execution_count": 333,
     "metadata": {},
     "output_type": "execute_result"
    }
   ],
   "source": [
    "df.head()"
   ]
  },
  {
   "cell_type": "code",
   "execution_count": 334,
   "metadata": {
    "scrolled": true
   },
   "outputs": [
    {
     "name": "stdout",
     "output_type": "stream",
     "text": [
      "<class 'pandas.core.frame.DataFrame'>\n",
      "RangeIndex: 88366 entries, 0 to 88365\n",
      "Data columns (total 100 columns):\n",
      "Sampling Location                                                                   88365 non-null object\n",
      "Duplicate Sample                                                                    2929 non-null object\n",
      "Sample Date                                                                         88365 non-null datetime64[ns]\n",
      "Sample Time                                                                         88366 non-null object\n",
      "Weather Condition (Dry or Wet)                                                      32498 non-null object\n",
      "Top Sample Temperature (ºC)                                                         69920 non-null object\n",
      "Bottom Sample Temperature (ºC)                                                      69147 non-null object\n",
      "Site Actual Depth (ft)                                                              60162 non-null float64\n",
      "Top Sample Depth(ft)                                                                27969 non-null float64\n",
      "Bottom Sample Depth (ft)                                                            27475 non-null float64\n",
      "Top Salinity  (psu)                                                                 67326 non-null object\n",
      "Bottom Salinity  (psu)                                                              65926 non-null object\n",
      "Top Conductivity (S/m)                                                              26256 non-null object\n",
      "Bottom Conductivity (S/m)                                                           24909 non-null object\n",
      "CTD (conductivity, temperature, depth profiler) Top Dissolved Oxygen (mg/L)         20367 non-null float64\n",
      "CTD (conductivity, temperature, depth profiler) Bottom Dissolved Oxygen (mg/L)      18812 non-null float64\n",
      "Percentage O2 Saturation Top Sample                                                 22129 non-null float64\n",
      "Percentage O2 Saturation Bottom sample                                              20618 non-null float64\n",
      "Light Trans (% transparency) Top Sample                                             16788 non-null float64\n",
      "Light Trans (% transparency) Bottom Sample                                          15781 non-null float64\n",
      "Top Sigma-T (kg/m3)                                                                 25403 non-null object\n",
      "Bottom Sigma-T (kg/m3)                                                              24110 non-null object\n",
      "Top Fluorometer (mg/m3)                                                             18555 non-null float64\n",
      "Bottom Fluorometer mg/m3                                                            17267 non-null float64\n",
      "CTD (conductivity, temperature, depth profiler) PH Top Sample                       8009 non-null float64\n",
      "CTD (conductivity, temperature, depth profiler) PH Bottom Sample                    7389 non-null float64\n",
      "Top Sample Photosysthetically Active Radiation Reference (400-700nm light (uE/S)    15194 non-null object\n",
      "Top Sample Par (uE/S m2)                                                            16399 non-null object\n",
      "Bottom Sample Par uE/S (uE/S m2)                                                    12145 non-null float64\n",
      "Oxidation Reduction Potential (mV) Top Sample                                       12956 non-null float64\n",
      "Oxidation Reduction Potential (mV) Bottom Sample                                    11942 non-null float64\n",
      "Current Speed (knot)                                                                23099 non-null object\n",
      "Current Direction (Current Direction)                                               76938 non-null object\n",
      "Wind Speed (mph)                                                                    30948 non-null object\n",
      "Wind Direction (Wind Direction)                                                     29640 non-null object\n",
      "Sea State                                                                           31001 non-null object\n",
      "Winkler Method Top Dissolved Oxygen (mg/L)                                          75564 non-null float64\n",
      "Winkler Method Bottom Dissolved Oxygen (mg/L)                                       73199 non-null float64\n",
      "Secchi Depth (ft)                                                                   36561 non-null object\n",
      "Top PH                                                                              39235 non-null float64\n",
      "Bottom PH                                                                           31780 non-null object\n",
      "Top Total Coliform Cells/100 mL                                                     28373 non-null float64\n",
      "Top Bottom Coliform Cells/100 mL                                                    28346 non-null float64\n",
      "Fecal Coliform Top Sample Less Than or Greater Than Result                          5394 non-null object\n",
      "Fecal Coliform Bottom Sample Less Than or Greater Than Result                       499 non-null object\n",
      "Top Fecal Coliform Bacteria (Cells/100mL)                                           40597 non-null object\n",
      "Bottom Fecal Coliform Bacteria (Cells/100mL)                                        10322 non-null object\n",
      "Enterococcus Top Sample Less Than or Greater Than Result                            13522 non-null object\n",
      "Enterococcus Bottom Sample Less Than or Greater Than Result                         1658 non-null object\n",
      "Top Enterococci Bacteria (Cells/100mL)                                              30477 non-null object\n",
      "Bottom Enterococci Bacteria (Cells/100mL)                                           3260 non-null float64\n",
      "Top Nitrate/Nitrite (mg/L)                                                          39879 non-null object\n",
      "Bottom Nitrate/Nitrite (mg/L)                                                       1025 non-null float64\n",
      "Top Ammonium (mg/L)                                                                 39792 non-null object\n",
      "Bottom Ammonium (mg/L)                                                              1021 non-null float64\n",
      "Top Ortho-Phosphorus (mg/L)                                                         28483 non-null object\n",
      "Bottom Ortho-Phosphorus (mg/L)                                                      885 non-null float64\n",
      "Top Total Kjeldhal Nitrogen (mg/L)                                                  33846 non-null float64\n",
      "Bottom Total Kjeldhal Nitrogen (mg/L)                                               668 non-null float64\n",
      "Top Silica (mg/L)                                                                   31713 non-null object\n",
      "Bottom Silica (mg/L)                                                                8672 non-null object\n",
      "Total Phosphorus(mg/L)                                                              39664 non-null object\n",
      "Bottom Total Phosphorus (mg/L)                                                      1019 non-null float64\n",
      "Top Total Suspended Solid (mg/L)                                                    38130 non-null float64\n",
      "Bottom Total Suspended Solid (mg/L)                                                 29820 non-null object\n",
      "Top Active Chlorophyll 'A' (µg/L)                                                   39126 non-null object\n",
      "Bottom Active Chlorophyll 'A' (µg/L)                                                192 non-null float64\n",
      "Chlorophyll Top Sample Field (u/L (YSI)                                             8448 non-null object\n",
      "Chlorophyll Bottom Sample Field (u/L (YSI)                                          2094 non-null object\n",
      "TOP Total Organic Carbon (mg/L)                                                     764 non-null float64\n",
      "Top Dissolved Organic Carbon (mg/L)                                                 28950 non-null float64\n",
      "Bottom Dissolved Organic Carbon (mg/L)                                              7 non-null float64\n",
      "Top Dissolved Organic Carbon YSI (mg/L)                                             9295 non-null float64\n",
      "Bottom Dissolved Organic Carbon YSI (mg/L)                                          4020 non-null float64\n",
      "Top Sample Depth  YSI (ft)                                                          237 non-null float64\n",
      "Bottom Depth  YSI (ft)                                                              79 non-null float64\n",
      "Top Sample Salinity YSI (psu)                                                       8664 non-null object\n",
      "Bottom Sample Salinity YSI (psu)                                                    2783 non-null float64\n",
      "Top Sample Temperature  YSI (ºC)                                                    9012 non-null float64\n",
      "Bottom Sample Temperature YSI (ºC)                                                  3089 non-null float64\n",
      "Top Bacteria # per C.C. 1909                                                        522 non-null float64\n",
      "Bottom Bacteria # per C.C. 1909                                                     635 non-null float64\n",
      "Top Beam Attenuation Coefficient                                                    608 non-null object\n",
      "Bottom Beam Attenuation Coefficient                                                 438 non-null object\n",
      "Top Five-Day Biochemical Oxygen Demand(mg/L)                                        14354 non-null float64\n",
      "Bottom Five-Day Biochemical Oxygen Demand(mg/L)                                     14290 non-null float64\n",
      "Top PCB Plate Count (Thous/mL)                                                      6654 non-null float64\n",
      "Bottom PCB plate Count (Thous/mL)                                                   6645 non-null float64\n",
      "Top Coliform (Log No/mL)                                                            4284 non-null object\n",
      "Bottom Coliform (Log No/mL)                                                         4160 non-null float64\n",
      "Oakwood BOD Top Sample (mg/L)                                                       18646 non-null float64\n",
      "Oakwood BOD Bottom Sample(mg/L)                                                     18564 non-null float64\n",
      "Oakwood  Total Suspended Solid Top Sample  (mg/L)                                   0 non-null float64\n",
      "Oakwood Total Suspended Solid Bottom Sample (mg/L)                                  0 non-null float64\n",
      "Top Turbidity( Nephelometric Turbidity Units)                                       6226 non-null object\n",
      "Bottom Turbidity YSI (Nephelometric Turbidity Units)                                2329 non-null object\n",
      "Sampling Comment                                                                    5447 non-null object\n",
      "Long                                                                                88363 non-null object\n",
      "Lat                                                                                 88363 non-null object\n",
      "Type                                                                                88366 non-null object\n",
      "dtypes: datetime64[ns](1), float64(51), object(48)\n",
      "memory usage: 67.4+ MB\n"
     ]
    }
   ],
   "source": [
    "df.info()"
   ]
  },
  {
   "cell_type": "code",
   "execution_count": 335,
   "metadata": {
    "scrolled": true
   },
   "outputs": [
    {
     "data": {
      "text/html": [
       "<div>\n",
       "<style scoped>\n",
       "    .dataframe tbody tr th:only-of-type {\n",
       "        vertical-align: middle;\n",
       "    }\n",
       "\n",
       "    .dataframe tbody tr th {\n",
       "        vertical-align: top;\n",
       "    }\n",
       "\n",
       "    .dataframe thead th {\n",
       "        text-align: right;\n",
       "    }\n",
       "</style>\n",
       "<table border=\"1\" class=\"dataframe\">\n",
       "  <thead>\n",
       "    <tr style=\"text-align: right;\">\n",
       "      <th></th>\n",
       "      <th>Site Actual Depth (ft)</th>\n",
       "      <th>Top Sample Depth(ft)</th>\n",
       "      <th>Bottom Sample Depth (ft)</th>\n",
       "      <th>CTD (conductivity, temperature, depth profiler) Top Dissolved Oxygen (mg/L)</th>\n",
       "      <th>CTD (conductivity, temperature, depth profiler) Bottom Dissolved Oxygen (mg/L)</th>\n",
       "      <th>Percentage O2 Saturation Top Sample</th>\n",
       "      <th>Percentage O2 Saturation Bottom sample</th>\n",
       "      <th>Light Trans (% transparency) Top Sample</th>\n",
       "      <th>Light Trans (% transparency) Bottom Sample</th>\n",
       "      <th>Top Fluorometer (mg/m3)</th>\n",
       "      <th>...</th>\n",
       "      <th>Bottom Bacteria # per C.C. 1909</th>\n",
       "      <th>Top Five-Day Biochemical Oxygen Demand(mg/L)</th>\n",
       "      <th>Bottom Five-Day Biochemical Oxygen Demand(mg/L)</th>\n",
       "      <th>Top PCB Plate Count (Thous/mL)</th>\n",
       "      <th>Bottom PCB plate Count (Thous/mL)</th>\n",
       "      <th>Bottom Coliform (Log No/mL)</th>\n",
       "      <th>Oakwood BOD Top Sample (mg/L)</th>\n",
       "      <th>Oakwood BOD Bottom Sample(mg/L)</th>\n",
       "      <th>Oakwood  Total Suspended Solid Top Sample  (mg/L)</th>\n",
       "      <th>Oakwood Total Suspended Solid Bottom Sample (mg/L)</th>\n",
       "    </tr>\n",
       "  </thead>\n",
       "  <tbody>\n",
       "    <tr>\n",
       "      <th>count</th>\n",
       "      <td>60162.000000</td>\n",
       "      <td>27969.000000</td>\n",
       "      <td>27475.000000</td>\n",
       "      <td>20367.000000</td>\n",
       "      <td>18812.000000</td>\n",
       "      <td>22129.000000</td>\n",
       "      <td>20618.000000</td>\n",
       "      <td>16788.000000</td>\n",
       "      <td>15781.000000</td>\n",
       "      <td>18555.000000</td>\n",
       "      <td>...</td>\n",
       "      <td>635.000000</td>\n",
       "      <td>14354.000000</td>\n",
       "      <td>14290.000000</td>\n",
       "      <td>6654.000000</td>\n",
       "      <td>6645.000000</td>\n",
       "      <td>4160.000000</td>\n",
       "      <td>18646.000000</td>\n",
       "      <td>18564.000000</td>\n",
       "      <td>0.0</td>\n",
       "      <td>0.0</td>\n",
       "    </tr>\n",
       "    <tr>\n",
       "      <th>mean</th>\n",
       "      <td>34.193417</td>\n",
       "      <td>3.089239</td>\n",
       "      <td>31.046695</td>\n",
       "      <td>6.950473</td>\n",
       "      <td>6.069471</td>\n",
       "      <td>81.811070</td>\n",
       "      <td>69.511316</td>\n",
       "      <td>58.964913</td>\n",
       "      <td>58.450028</td>\n",
       "      <td>15.080308</td>\n",
       "      <td>...</td>\n",
       "      <td>5556.497638</td>\n",
       "      <td>2.548251</td>\n",
       "      <td>2.051372</td>\n",
       "      <td>2.376002</td>\n",
       "      <td>1.985658</td>\n",
       "      <td>1.476957</td>\n",
       "      <td>2.610243</td>\n",
       "      <td>2.395346</td>\n",
       "      <td>NaN</td>\n",
       "      <td>NaN</td>\n",
       "    </tr>\n",
       "    <tr>\n",
       "      <th>std</th>\n",
       "      <td>21.903431</td>\n",
       "      <td>1.076717</td>\n",
       "      <td>19.888996</td>\n",
       "      <td>2.898322</td>\n",
       "      <td>2.856763</td>\n",
       "      <td>30.539045</td>\n",
       "      <td>26.546844</td>\n",
       "      <td>20.532792</td>\n",
       "      <td>22.295995</td>\n",
       "      <td>23.359770</td>\n",
       "      <td>...</td>\n",
       "      <td>9855.976729</td>\n",
       "      <td>1.922383</td>\n",
       "      <td>1.637950</td>\n",
       "      <td>21.450678</td>\n",
       "      <td>28.440395</td>\n",
       "      <td>0.810886</td>\n",
       "      <td>1.548620</td>\n",
       "      <td>1.354373</td>\n",
       "      <td>NaN</td>\n",
       "      <td>NaN</td>\n",
       "    </tr>\n",
       "    <tr>\n",
       "      <th>min</th>\n",
       "      <td>0.000000</td>\n",
       "      <td>0.000000</td>\n",
       "      <td>1.000000</td>\n",
       "      <td>-1.120000</td>\n",
       "      <td>-9.990000</td>\n",
       "      <td>-15.900000</td>\n",
       "      <td>-51.670000</td>\n",
       "      <td>-22.860000</td>\n",
       "      <td>-41.970000</td>\n",
       "      <td>-99.000000</td>\n",
       "      <td>...</td>\n",
       "      <td>30.000000</td>\n",
       "      <td>-6.000000</td>\n",
       "      <td>0.000000</td>\n",
       "      <td>-100.000000</td>\n",
       "      <td>-100.000000</td>\n",
       "      <td>-1.000000</td>\n",
       "      <td>0.000000</td>\n",
       "      <td>0.000000</td>\n",
       "      <td>NaN</td>\n",
       "      <td>NaN</td>\n",
       "    </tr>\n",
       "    <tr>\n",
       "      <th>25%</th>\n",
       "      <td>18.000000</td>\n",
       "      <td>3.000000</td>\n",
       "      <td>16.400000</td>\n",
       "      <td>5.110000</td>\n",
       "      <td>4.390000</td>\n",
       "      <td>64.560000</td>\n",
       "      <td>55.572500</td>\n",
       "      <td>49.980000</td>\n",
       "      <td>50.290000</td>\n",
       "      <td>3.110000</td>\n",
       "      <td>...</td>\n",
       "      <td>1400.000000</td>\n",
       "      <td>1.600000</td>\n",
       "      <td>1.000000</td>\n",
       "      <td>0.073000</td>\n",
       "      <td>0.072000</td>\n",
       "      <td>1.000000</td>\n",
       "      <td>1.500000</td>\n",
       "      <td>1.400000</td>\n",
       "      <td>NaN</td>\n",
       "      <td>NaN</td>\n",
       "    </tr>\n",
       "    <tr>\n",
       "      <th>50%</th>\n",
       "      <td>28.000000</td>\n",
       "      <td>3.000000</td>\n",
       "      <td>24.000000</td>\n",
       "      <td>6.470000</td>\n",
       "      <td>5.660000</td>\n",
       "      <td>79.110000</td>\n",
       "      <td>70.280000</td>\n",
       "      <td>64.065000</td>\n",
       "      <td>65.300000</td>\n",
       "      <td>8.510000</td>\n",
       "      <td>...</td>\n",
       "      <td>3800.000000</td>\n",
       "      <td>2.000000</td>\n",
       "      <td>2.000000</td>\n",
       "      <td>0.230000</td>\n",
       "      <td>0.209000</td>\n",
       "      <td>1.000000</td>\n",
       "      <td>2.300000</td>\n",
       "      <td>2.100000</td>\n",
       "      <td>NaN</td>\n",
       "      <td>NaN</td>\n",
       "    </tr>\n",
       "    <tr>\n",
       "      <th>75%</th>\n",
       "      <td>46.000000</td>\n",
       "      <td>3.280000</td>\n",
       "      <td>41.000000</td>\n",
       "      <td>8.210000</td>\n",
       "      <td>7.240000</td>\n",
       "      <td>94.850000</td>\n",
       "      <td>83.700000</td>\n",
       "      <td>72.920000</td>\n",
       "      <td>73.590000</td>\n",
       "      <td>19.878000</td>\n",
       "      <td>...</td>\n",
       "      <td>6800.000000</td>\n",
       "      <td>3.000000</td>\n",
       "      <td>2.400000</td>\n",
       "      <td>0.800000</td>\n",
       "      <td>0.620000</td>\n",
       "      <td>2.000000</td>\n",
       "      <td>3.300000</td>\n",
       "      <td>3.100000</td>\n",
       "      <td>NaN</td>\n",
       "      <td>NaN</td>\n",
       "    </tr>\n",
       "    <tr>\n",
       "      <th>max</th>\n",
       "      <td>230.000000</td>\n",
       "      <td>23.000000</td>\n",
       "      <td>150.000000</td>\n",
       "      <td>28.560000</td>\n",
       "      <td>29.670000</td>\n",
       "      <td>374.220000</td>\n",
       "      <td>283.240000</td>\n",
       "      <td>131.730000</td>\n",
       "      <td>184.480000</td>\n",
       "      <td>294.700000</td>\n",
       "      <td>...</td>\n",
       "      <td>160000.000000</td>\n",
       "      <td>67.000000</td>\n",
       "      <td>66.000000</td>\n",
       "      <td>1200.000000</td>\n",
       "      <td>1800.000000</td>\n",
       "      <td>9.630000</td>\n",
       "      <td>17.200000</td>\n",
       "      <td>15.800000</td>\n",
       "      <td>NaN</td>\n",
       "      <td>NaN</td>\n",
       "    </tr>\n",
       "  </tbody>\n",
       "</table>\n",
       "<p>8 rows × 51 columns</p>\n",
       "</div>"
      ],
      "text/plain": [
       "       Site Actual Depth (ft)  Top Sample Depth(ft)  Bottom Sample Depth (ft)  \\\n",
       "count            60162.000000          27969.000000              27475.000000   \n",
       "mean                34.193417              3.089239                 31.046695   \n",
       "std                 21.903431              1.076717                 19.888996   \n",
       "min                  0.000000              0.000000                  1.000000   \n",
       "25%                 18.000000              3.000000                 16.400000   \n",
       "50%                 28.000000              3.000000                 24.000000   \n",
       "75%                 46.000000              3.280000                 41.000000   \n",
       "max                230.000000             23.000000                150.000000   \n",
       "\n",
       "       CTD (conductivity, temperature, depth profiler) Top Dissolved Oxygen (mg/L)  \\\n",
       "count                                       20367.000000                             \n",
       "mean                                            6.950473                             \n",
       "std                                             2.898322                             \n",
       "min                                            -1.120000                             \n",
       "25%                                             5.110000                             \n",
       "50%                                             6.470000                             \n",
       "75%                                             8.210000                             \n",
       "max                                            28.560000                             \n",
       "\n",
       "       CTD (conductivity, temperature, depth profiler) Bottom Dissolved Oxygen (mg/L)  \\\n",
       "count                                       18812.000000                                \n",
       "mean                                            6.069471                                \n",
       "std                                             2.856763                                \n",
       "min                                            -9.990000                                \n",
       "25%                                             4.390000                                \n",
       "50%                                             5.660000                                \n",
       "75%                                             7.240000                                \n",
       "max                                            29.670000                                \n",
       "\n",
       "       Percentage O2 Saturation Top Sample  \\\n",
       "count                         22129.000000   \n",
       "mean                             81.811070   \n",
       "std                              30.539045   \n",
       "min                             -15.900000   \n",
       "25%                              64.560000   \n",
       "50%                              79.110000   \n",
       "75%                              94.850000   \n",
       "max                             374.220000   \n",
       "\n",
       "       Percentage O2 Saturation Bottom sample  \\\n",
       "count                            20618.000000   \n",
       "mean                                69.511316   \n",
       "std                                 26.546844   \n",
       "min                                -51.670000   \n",
       "25%                                 55.572500   \n",
       "50%                                 70.280000   \n",
       "75%                                 83.700000   \n",
       "max                                283.240000   \n",
       "\n",
       "       Light Trans (% transparency) Top Sample  \\\n",
       "count                             16788.000000   \n",
       "mean                                 58.964913   \n",
       "std                                  20.532792   \n",
       "min                                 -22.860000   \n",
       "25%                                  49.980000   \n",
       "50%                                  64.065000   \n",
       "75%                                  72.920000   \n",
       "max                                 131.730000   \n",
       "\n",
       "       Light Trans (% transparency) Bottom Sample  Top Fluorometer (mg/m3)  \\\n",
       "count                                15781.000000             18555.000000   \n",
       "mean                                    58.450028                15.080308   \n",
       "std                                     22.295995                23.359770   \n",
       "min                                    -41.970000               -99.000000   \n",
       "25%                                     50.290000                 3.110000   \n",
       "50%                                     65.300000                 8.510000   \n",
       "75%                                     73.590000                19.878000   \n",
       "max                                    184.480000               294.700000   \n",
       "\n",
       "       ...  Bottom Bacteria # per C.C. 1909  \\\n",
       "count  ...                       635.000000   \n",
       "mean   ...                      5556.497638   \n",
       "std    ...                      9855.976729   \n",
       "min    ...                        30.000000   \n",
       "25%    ...                      1400.000000   \n",
       "50%    ...                      3800.000000   \n",
       "75%    ...                      6800.000000   \n",
       "max    ...                    160000.000000   \n",
       "\n",
       "       Top Five-Day Biochemical Oxygen Demand(mg/L)  \\\n",
       "count                                  14354.000000   \n",
       "mean                                       2.548251   \n",
       "std                                        1.922383   \n",
       "min                                       -6.000000   \n",
       "25%                                        1.600000   \n",
       "50%                                        2.000000   \n",
       "75%                                        3.000000   \n",
       "max                                       67.000000   \n",
       "\n",
       "       Bottom Five-Day Biochemical Oxygen Demand(mg/L)  \\\n",
       "count                                     14290.000000   \n",
       "mean                                          2.051372   \n",
       "std                                           1.637950   \n",
       "min                                           0.000000   \n",
       "25%                                           1.000000   \n",
       "50%                                           2.000000   \n",
       "75%                                           2.400000   \n",
       "max                                          66.000000   \n",
       "\n",
       "       Top PCB Plate Count (Thous/mL)   Bottom PCB plate Count (Thous/mL)   \\\n",
       "count                      6654.000000                         6645.000000   \n",
       "mean                          2.376002                            1.985658   \n",
       "std                          21.450678                           28.440395   \n",
       "min                        -100.000000                         -100.000000   \n",
       "25%                           0.073000                            0.072000   \n",
       "50%                           0.230000                            0.209000   \n",
       "75%                           0.800000                            0.620000   \n",
       "max                        1200.000000                         1800.000000   \n",
       "\n",
       "       Bottom Coliform (Log No/mL)  Oakwood BOD Top Sample (mg/L)   \\\n",
       "count                  4160.000000                    18646.000000   \n",
       "mean                      1.476957                        2.610243   \n",
       "std                       0.810886                        1.548620   \n",
       "min                      -1.000000                        0.000000   \n",
       "25%                       1.000000                        1.500000   \n",
       "50%                       1.000000                        2.300000   \n",
       "75%                       2.000000                        3.300000   \n",
       "max                       9.630000                       17.200000   \n",
       "\n",
       "       Oakwood BOD Bottom Sample(mg/L)  \\\n",
       "count                     18564.000000   \n",
       "mean                          2.395346   \n",
       "std                           1.354373   \n",
       "min                           0.000000   \n",
       "25%                           1.400000   \n",
       "50%                           2.100000   \n",
       "75%                           3.100000   \n",
       "max                          15.800000   \n",
       "\n",
       "       Oakwood  Total Suspended Solid Top Sample  (mg/L)  \\\n",
       "count                                                0.0   \n",
       "mean                                                 NaN   \n",
       "std                                                  NaN   \n",
       "min                                                  NaN   \n",
       "25%                                                  NaN   \n",
       "50%                                                  NaN   \n",
       "75%                                                  NaN   \n",
       "max                                                  NaN   \n",
       "\n",
       "       Oakwood Total Suspended Solid Bottom Sample (mg/L)  \n",
       "count                                                0.0   \n",
       "mean                                                 NaN   \n",
       "std                                                  NaN   \n",
       "min                                                  NaN   \n",
       "25%                                                  NaN   \n",
       "50%                                                  NaN   \n",
       "75%                                                  NaN   \n",
       "max                                                  NaN   \n",
       "\n",
       "[8 rows x 51 columns]"
      ]
     },
     "execution_count": 335,
     "metadata": {},
     "output_type": "execute_result"
    }
   ],
   "source": [
    "df.describe()"
   ]
  },
  {
   "cell_type": "markdown",
   "metadata": {},
   "source": [
    "From the dataset documentation, I am dropping columns from taken exclusively at the Oakwood Water Treatment Facility for now. I am also dropping all columns with less than 10,000 entries."
   ]
  },
  {
   "cell_type": "code",
   "execution_count": 336,
   "metadata": {},
   "outputs": [],
   "source": [
    "for col in df.columns:\n",
    "    if 'Oakwood' in col:\n",
    "        df = df.drop(columns=col)\n",
    "\n",
    "#    elif 'Bottom' in col:\n",
    "#        df = df.drop(columns=col)\n",
    "    elif len(df[df[col].notnull()]) < 10000:\n",
    "        df = df.drop(columns=col)\n",
    "df = df.reset_index(drop=True)"
   ]
  },
  {
   "cell_type": "code",
   "execution_count": 337,
   "metadata": {
    "scrolled": true
   },
   "outputs": [
    {
     "name": "stdout",
     "output_type": "stream",
     "text": [
      "<class 'pandas.core.frame.DataFrame'>\n",
      "RangeIndex: 88366 entries, 0 to 88365\n",
      "Data columns (total 59 columns):\n",
      "Sampling Location                                                                   88365 non-null object\n",
      "Sample Date                                                                         88365 non-null datetime64[ns]\n",
      "Sample Time                                                                         88366 non-null object\n",
      "Weather Condition (Dry or Wet)                                                      32498 non-null object\n",
      "Top Sample Temperature (ºC)                                                         69920 non-null object\n",
      "Bottom Sample Temperature (ºC)                                                      69147 non-null object\n",
      "Site Actual Depth (ft)                                                              60162 non-null float64\n",
      "Top Sample Depth(ft)                                                                27969 non-null float64\n",
      "Bottom Sample Depth (ft)                                                            27475 non-null float64\n",
      "Top Salinity  (psu)                                                                 67326 non-null object\n",
      "Bottom Salinity  (psu)                                                              65926 non-null object\n",
      "Top Conductivity (S/m)                                                              26256 non-null object\n",
      "Bottom Conductivity (S/m)                                                           24909 non-null object\n",
      "CTD (conductivity, temperature, depth profiler) Top Dissolved Oxygen (mg/L)         20367 non-null float64\n",
      "CTD (conductivity, temperature, depth profiler) Bottom Dissolved Oxygen (mg/L)      18812 non-null float64\n",
      "Percentage O2 Saturation Top Sample                                                 22129 non-null float64\n",
      "Percentage O2 Saturation Bottom sample                                              20618 non-null float64\n",
      "Light Trans (% transparency) Top Sample                                             16788 non-null float64\n",
      "Light Trans (% transparency) Bottom Sample                                          15781 non-null float64\n",
      "Top Sigma-T (kg/m3)                                                                 25403 non-null object\n",
      "Bottom Sigma-T (kg/m3)                                                              24110 non-null object\n",
      "Top Fluorometer (mg/m3)                                                             18555 non-null float64\n",
      "Bottom Fluorometer mg/m3                                                            17267 non-null float64\n",
      "Top Sample Photosysthetically Active Radiation Reference (400-700nm light (uE/S)    15194 non-null object\n",
      "Top Sample Par (uE/S m2)                                                            16399 non-null object\n",
      "Bottom Sample Par uE/S (uE/S m2)                                                    12145 non-null float64\n",
      "Oxidation Reduction Potential (mV) Top Sample                                       12956 non-null float64\n",
      "Oxidation Reduction Potential (mV) Bottom Sample                                    11942 non-null float64\n",
      "Current Speed (knot)                                                                23099 non-null object\n",
      "Current Direction (Current Direction)                                               76938 non-null object\n",
      "Wind Speed (mph)                                                                    30948 non-null object\n",
      "Wind Direction (Wind Direction)                                                     29640 non-null object\n",
      "Sea State                                                                           31001 non-null object\n",
      "Winkler Method Top Dissolved Oxygen (mg/L)                                          75564 non-null float64\n",
      "Winkler Method Bottom Dissolved Oxygen (mg/L)                                       73199 non-null float64\n",
      "Secchi Depth (ft)                                                                   36561 non-null object\n",
      "Top PH                                                                              39235 non-null float64\n",
      "Bottom PH                                                                           31780 non-null object\n",
      "Top Total Coliform Cells/100 mL                                                     28373 non-null float64\n",
      "Top Bottom Coliform Cells/100 mL                                                    28346 non-null float64\n",
      "Top Fecal Coliform Bacteria (Cells/100mL)                                           40597 non-null object\n",
      "Bottom Fecal Coliform Bacteria (Cells/100mL)                                        10322 non-null object\n",
      "Enterococcus Top Sample Less Than or Greater Than Result                            13522 non-null object\n",
      "Top Enterococci Bacteria (Cells/100mL)                                              30477 non-null object\n",
      "Top Nitrate/Nitrite (mg/L)                                                          39879 non-null object\n",
      "Top Ammonium (mg/L)                                                                 39792 non-null object\n",
      "Top Ortho-Phosphorus (mg/L)                                                         28483 non-null object\n",
      "Top Total Kjeldhal Nitrogen (mg/L)                                                  33846 non-null float64\n",
      "Top Silica (mg/L)                                                                   31713 non-null object\n",
      "Total Phosphorus(mg/L)                                                              39664 non-null object\n",
      "Top Total Suspended Solid (mg/L)                                                    38130 non-null float64\n",
      "Bottom Total Suspended Solid (mg/L)                                                 29820 non-null object\n",
      "Top Active Chlorophyll 'A' (µg/L)                                                   39126 non-null object\n",
      "Top Dissolved Organic Carbon (mg/L)                                                 28950 non-null float64\n",
      "Top Five-Day Biochemical Oxygen Demand(mg/L)                                        14354 non-null float64\n",
      "Bottom Five-Day Biochemical Oxygen Demand(mg/L)                                     14290 non-null float64\n",
      "Long                                                                                88363 non-null object\n",
      "Lat                                                                                 88363 non-null object\n",
      "Type                                                                                88366 non-null object\n",
      "dtypes: datetime64[ns](1), float64(24), object(34)\n",
      "memory usage: 39.8+ MB\n"
     ]
    }
   ],
   "source": [
    "df.info()"
   ]
  },
  {
   "cell_type": "markdown",
   "metadata": {},
   "source": [
    "I don't want to look at data that is too old, so I am going to limit my dataset to readings from this millenium."
   ]
  },
  {
   "cell_type": "code",
   "execution_count": 338,
   "metadata": {},
   "outputs": [],
   "source": [
    "from datetime import datetime\n",
    "df = df[df['Sample Date'] >= datetime(2000, 1, 1)]\n",
    "df = df.reset_index(drop=True)"
   ]
  },
  {
   "cell_type": "code",
   "execution_count": 339,
   "metadata": {},
   "outputs": [
    {
     "data": {
      "text/plain": [
       "33026"
      ]
     },
     "execution_count": 339,
     "metadata": {},
     "output_type": "execute_result"
    }
   ],
   "source": [
    "len(df)"
   ]
  },
  {
   "cell_type": "code",
   "execution_count": 340,
   "metadata": {},
   "outputs": [
    {
     "data": {
      "text/plain": [
       "230"
      ]
     },
     "execution_count": 340,
     "metadata": {},
     "output_type": "execute_result"
    }
   ],
   "source": [
    "len(df['Sampling Location'].unique())"
   ]
  },
  {
   "cell_type": "code",
   "execution_count": 341,
   "metadata": {},
   "outputs": [
    {
     "data": {
      "text/plain": [
       "array(['BR5', 'NC0', 'J7', 'N7', 'GC4', 'J10', 'J11', 'K1', 'E14', 'N3B',\n",
       "       'N6', 'N1', 'K5', 'E10', 'N9', 'SP1', 'N16', 'K3', 'SP2', 'N4',\n",
       "       'E4', 'G2', 'K5A', 'E8', 'LN1', 'FLC1', 'N5', 'F5', 'J12', 'E2',\n",
       "       'WC3', 'PB2', 'E7', 'J3', 'NC3', 'FB1', 'N9A', 'N8', 'J16', 'TR1',\n",
       "       'J8', 'GC5', 'K4', 'E3', 'NC1', 'E6', 'HR2', 'J2', 'WC1', 'GI1',\n",
       "       'NR1', 'E15', 'J17', 'K2', 'HC2', 'HC1', 'NC2', 'J5', 'J1', 'AC2',\n",
       "       'AC1', 'FLC2', 'E13', 'J9A', 'EJ6', 'MB1', 'H3', 'J15', 'GB1N',\n",
       "       'K6', 'BR1', 'BR3', 'GC3', 'F1', 'J14', 'J13', 'BB4', 'PB3',\n",
       "       'CIC2', 'BB2', 'SHB1', 'WC2', 'EJ2', 'E11', 'E5B', 'SC1', 'EJ9',\n",
       "       'CIC3', 'GB1', 'GB1S', 'JA1', 'GC6', 'TB1', 'TB2', 'EJ3', 'E9',\n",
       "       'EMB2', 'TR2', 'EJ1', 'E12A', 'N3C', 'EMB1', 'HR1', 'MB3', 'HR03',\n",
       "       'E1', 'SB1', 'SS1', 'E5', 'E12', 'H5', 'HC3', 'E5A', 'NB1', 'EJ4',\n",
       "       'J14B', 'NYOFCO1', 'H1', 'HCM', 'GI2', 'H2', 'N3A', 'E12AB', 'GC',\n",
       "       'N3', 'SB3', 'TR1-NB', 'Z_CAN(CanarsiePier)', 'TR1-SA', 'EJ7',\n",
       "       'EJ5', 'GC2', 'E2A', 'GHC', 'BRH', 'NC0A', 'BR4', 'TR1-78thSt',\n",
       "       'HOB', 'EJ8', 'N2', 'BWB1', 'N8A', 'GB5', 'BB3', 'H4', 'HP5',\n",
       "       'BR2', 'FCMO', 'TR2-95thSt', 'SHB3', 'WFM1', 'N3E', 'GI4', 'PB1',\n",
       "       'GC-mouth', 'GB3', 'WC', 'GC-HAB', 'EB', 'EA', 'GI3', 'SS', 'J18',\n",
       "       'SB2', 'GC2a', 'TR1-MB', 'BWB3', 'GB2', 'GB1X', 'G1', 'HP2', 'MCY',\n",
       "       'TR1-NA', 'BRM', 'N3C-85thSt', 'TR1-75thSt', 'GB4', 'HP-004',\n",
       "       'BWB2', 'NYOFCO2', 'GB6', 'HP1', 'TR1-MA', 'SBC', 'HC2A', 'AC1N',\n",
       "       'TR1-SB', 'SHB2', 'N1`', 'NC', 'J4', 'CIC2W', 'NR1 4M', 'NR3-M2',\n",
       "       'NR4-M3', 'NR3-B2', 'NR1-B2', 'NR3-T1', 'NR4-T1', 'NR2-M2',\n",
       "       'NR4-B3', 'NR3-T2', 'NR3-M3', 'NR4-T3', 'NR1-T2', 'NR4-M2',\n",
       "       'NR1-T3', 'NR1-B1', 'NR4-B1', 'NR1-M2', 'NR2-T3', 'NR3-T3',\n",
       "       'NR2-M3', 'NR2-B3', 'NR3-B1', 'NR2-M1', 'NR3-B3', 'NR3-M1',\n",
       "       'NR2-T2', 'NR4-T2', 'NR1-T1', 'NR1-M1', 'NR1-B3', 'NR2-B1',\n",
       "       'NR2-T1', 'NR4-B2', 'NR4-M1', 'NR1-M3', 'NR2-B2'], dtype=object)"
      ]
     },
     "execution_count": 341,
     "metadata": {},
     "output_type": "execute_result"
    }
   ],
   "source": [
    "df['Sampling Location'].unique()"
   ]
  },
  {
   "cell_type": "markdown",
   "metadata": {},
   "source": [
    "There are 230 distinct locations, but I have a list of New York City Harbor Water Quality Survey Stations that is much shorter. I want to see how many samples I have from those sites. If I have a good amount, then I can continue without having to figure out the undefined locations. If I do need to use those locations, I could try utilizing their lat/long values and group them with the nearest site."
   ]
  },
  {
   "cell_type": "code",
   "execution_count": 342,
   "metadata": {
    "scrolled": true
   },
   "outputs": [
    {
     "name": "stdout",
     "output_type": "stream",
     "text": [
      "82\n"
     ]
    }
   ],
   "source": [
    "survey_stations = ['K1', 'K2', 'K3', 'K4', 'K5', 'K5A', 'K6',\n",
    "                  'N1', 'N3B', 'N4', 'N5', 'N6', 'G2', 'N7', 'N8',\n",
    "                  'N9', 'N16', 'NR1', 'E2', 'E4', 'E6', 'E7', 'E8',\n",
    "                  'E10', 'E11', 'E12', 'E13', 'E14', 'E15', 'J1', \n",
    "                  'J2', 'J3', 'J5', 'J7', 'J8', 'J9A', 'J10', 'J11',\n",
    "                  'J12', 'JA1', 'N9A', 'H3', 'J14', 'J16', 'AC1',\n",
    "                  'AC1', 'AC2', 'BB2', 'BB4', 'BR1', 'BR3', 'BR5',\n",
    "                  'CIC2', 'CIC3', 'F1', 'F5', 'FB1', 'FLC1', 'FLC2',\n",
    "                  'GB1', 'GC3', 'GC4', 'GC5', 'GC6', 'HC1', 'HC2', \n",
    "                  'HC3', 'HR1', 'HR2', 'HR03', 'LN1', 'NC0', 'NC1',\n",
    "                  'NC2', 'NC3', 'PB2', 'PB3', 'SP1', 'SP2', 'WC1',\n",
    "                  'WC2', 'WC3'\n",
    "                  ]\n",
    "print(len(survey_stations))"
   ]
  },
  {
   "cell_type": "code",
   "execution_count": 343,
   "metadata": {},
   "outputs": [
    {
     "data": {
      "text/plain": [
       "31005"
      ]
     },
     "execution_count": 343,
     "metadata": {},
     "output_type": "execute_result"
    }
   ],
   "source": [
    "df = df[df['Sampling Location'].isin(survey_stations)]\n",
    "df = df.reset_index(drop=True)\n",
    "len(df)"
   ]
  },
  {
   "cell_type": "code",
   "execution_count": 344,
   "metadata": {},
   "outputs": [],
   "source": [
    "from collections import defaultdict\n",
    "columns_represented = defaultdict(int)\n",
    "for i, row in df.iterrows():\n",
    "    columns_represented[row.notnull().sum()] +=1\n"
   ]
  },
  {
   "cell_type": "code",
   "execution_count": 345,
   "metadata": {},
   "outputs": [
    {
     "data": {
      "text/plain": [
       "<BarContainer object of 50 artists>"
      ]
     },
     "execution_count": 345,
     "metadata": {},
     "output_type": "execute_result"
    },
    {
     "data": {
      "image/png": "[encoded data removed]",
      "text/plain": [
       "<Figure size 432x288 with 1 Axes>"
      ]
     },
     "metadata": {},
     "output_type": "display_data"
    }
   ],
   "source": [
    "plt.bar(columns_represented.keys(), columns_represented.values())"
   ]
  },
  {
   "cell_type": "markdown",
   "metadata": {},
   "source": [
    "Next I want to fix problematic columns"
   ]
  },
  {
   "cell_type": "code",
   "execution_count": 346,
   "metadata": {},
   "outputs": [],
   "source": [
    "# Fix 'Weather Condition' column\n",
    "df['Weather Condition (Dry or Wet)'].unique()\n",
    "df = df.replace(['Dry', 'Wet'], ['D', 'W'])"
   ]
  },
  {
   "cell_type": "code",
   "execution_count": 348,
   "metadata": {},
   "outputs": [
    {
     "name": "stdout",
     "output_type": "stream",
     "text": [
      "Top Sample Photosysthetically Active Radiation Reference (400-700nm light (uE/S)\n",
      "Top Sample Par (uE/S m2)\n",
      "Current Speed (knot)\n",
      "Current Direction (Current Direction)\n",
      "Wind Speed (mph)\n",
      "Wind Direction (Wind Direction)\n",
      "Sea State \n",
      "Secchi Depth (ft)\n",
      "Bottom PH\n",
      "Top Fecal Coliform Bacteria (Cells/100mL)\n",
      "Bottom Fecal Coliform Bacteria (Cells/100mL)\n",
      "Enterococcus Top Sample Less Than or Greater Than Result\n",
      "Top Enterococci Bacteria (Cells/100mL)\n",
      "Top Nitrate/Nitrite (mg/L)\n",
      "Top Ammonium (mg/L)\n",
      "Top Ortho-Phosphorus (mg/L)\n",
      "Top Silica (mg/L)\n",
      "Total Phosphorus(mg/L)\n",
      "Bottom Total Suspended Solid (mg/L)\n",
      "Top Active Chlorophyll 'A' (µg/L)\n",
      "Long\n",
      "Lat\n",
      "Type\n"
     ]
    }
   ],
   "source": [
    "# Check which columns are numeric and create a list of object columns\n",
    "obj_cols = []\n",
    "ok_obj_cols = ['Sampling Location', 'Sample Date', 'Sample Time', 'Weather Condition (Dry or Wet)']\n",
    "for col in df:\n",
    "    if col not in ok_obj_cols:\n",
    "        try:\n",
    "            df[col] = pd.to_numeric(df[col])\n",
    "        except:\n",
    "            print(col)\n",
    "            obj_cols.append(col)"
   ]
  },
  {
   "cell_type": "code",
   "execution_count": 349,
   "metadata": {},
   "outputs": [
    {
     "name": "stdout",
     "output_type": "stream",
     "text": [
      "Top Sample Photosysthetically Active Radiation Reference (400-700nm light (uE/S)\n",
      "Top Sample Par (uE/S m2)\n",
      "Current Speed (knot)\n"
     ]
    },
    {
     "ename": "ValueError",
     "evalue": "Unable to parse string \"HWSLK\" at position 0",
     "output_type": "error",
     "traceback": [
      "\u001b[0;31m---------------------------------------------------------------------------\u001b[0m",
      "\u001b[0;31mValueError\u001b[0m                                Traceback (most recent call last)",
      "\u001b[0;32mpandas\\_libs\\lib.pyx\u001b[0m in \u001b[0;36mpandas._libs.lib.maybe_convert_numeric\u001b[0;34m()\u001b[0m\n",
      "\u001b[0;31mValueError\u001b[0m: Unable to parse string \"HWSLK\"",
      "\nDuring handling of the above exception, another exception occurred:\n",
      "\u001b[0;31mValueError\u001b[0m                                Traceback (most recent call last)",
      "\u001b[0;32m<ipython-input-349-25b3a50382ca>\u001b[0m in \u001b[0;36m<module>\u001b[0;34m()\u001b[0m\n\u001b[1;32m      9\u001b[0m     \u001b[0mprint\u001b[0m\u001b[1;33m(\u001b[0m\u001b[0mcol\u001b[0m\u001b[1;33m)\u001b[0m\u001b[1;33m\u001b[0m\u001b[1;33m\u001b[0m\u001b[0m\n\u001b[1;32m     10\u001b[0m     \u001b[0mdf\u001b[0m\u001b[1;33m[\u001b[0m\u001b[0mcol\u001b[0m\u001b[1;33m]\u001b[0m \u001b[1;33m=\u001b[0m \u001b[0mdf\u001b[0m\u001b[1;33m[\u001b[0m\u001b[0mcol\u001b[0m\u001b[1;33m]\u001b[0m\u001b[1;33m.\u001b[0m\u001b[0mapply\u001b[0m\u001b[1;33m(\u001b[0m\u001b[0mcol_strip\u001b[0m\u001b[1;33m)\u001b[0m\u001b[1;33m\u001b[0m\u001b[1;33m\u001b[0m\u001b[0m\n\u001b[0;32m---> 11\u001b[0;31m     \u001b[0mdf\u001b[0m\u001b[1;33m[\u001b[0m\u001b[0mcol\u001b[0m\u001b[1;33m]\u001b[0m \u001b[1;33m=\u001b[0m \u001b[0mpd\u001b[0m\u001b[1;33m.\u001b[0m\u001b[0mto_numeric\u001b[0m\u001b[1;33m(\u001b[0m\u001b[0mdf\u001b[0m\u001b[1;33m[\u001b[0m\u001b[0mcol\u001b[0m\u001b[1;33m]\u001b[0m\u001b[1;33m)\u001b[0m\u001b[1;33m\u001b[0m\u001b[1;33m\u001b[0m\u001b[0m\n\u001b[0m",
      "\u001b[0;32mC:\\Users\\Drew\\Anaconda3\\lib\\site-packages\\pandas\\core\\tools\\numeric.py\u001b[0m in \u001b[0;36mto_numeric\u001b[0;34m(arg, errors, downcast)\u001b[0m\n\u001b[1;32m    133\u001b[0m             \u001b[0mcoerce_numeric\u001b[0m \u001b[1;33m=\u001b[0m \u001b[1;32mFalse\u001b[0m \u001b[1;32mif\u001b[0m \u001b[0merrors\u001b[0m \u001b[1;32min\u001b[0m \u001b[1;33m(\u001b[0m\u001b[1;34m'ignore'\u001b[0m\u001b[1;33m,\u001b[0m \u001b[1;34m'raise'\u001b[0m\u001b[1;33m)\u001b[0m \u001b[1;32melse\u001b[0m \u001b[1;32mTrue\u001b[0m\u001b[1;33m\u001b[0m\u001b[1;33m\u001b[0m\u001b[0m\n\u001b[1;32m    134\u001b[0m             values = lib.maybe_convert_numeric(values, set(),\n\u001b[0;32m--> 135\u001b[0;31m                                                coerce_numeric=coerce_numeric)\n\u001b[0m\u001b[1;32m    136\u001b[0m \u001b[1;33m\u001b[0m\u001b[0m\n\u001b[1;32m    137\u001b[0m     \u001b[1;32mexcept\u001b[0m \u001b[0mException\u001b[0m\u001b[1;33m:\u001b[0m\u001b[1;33m\u001b[0m\u001b[1;33m\u001b[0m\u001b[0m\n",
      "\u001b[0;32mpandas\\_libs\\lib.pyx\u001b[0m in \u001b[0;36mpandas._libs.lib.maybe_convert_numeric\u001b[0;34m()\u001b[0m\n",
      "\u001b[0;31mValueError\u001b[0m: Unable to parse string \"HWSLK\" at position 0"
     ]
    }
   ],
   "source": [
    "def col_strip(string):\n",
    "    '''Strips strings of trailing spaces and returns\n",
    "    stripped string or numeric value'''\n",
    "    if type(string) == str:\n",
    "        string = string.replace(' ', '')\n",
    "    return string\n",
    "\n",
    "for col in obj_cols:\n",
    "    print(col)\n",
    "    df[col] = df[col].apply(col_strip)\n",
    "    df[col] = pd.to_numeric(df[col])\n"
   ]
  },
  {
   "cell_type": "code",
   "execution_count": 350,
   "metadata": {},
   "outputs": [
    {
     "data": {
      "text/plain": [
       "0        HWSLK\n",
       "1         weak\n",
       "2          0.9\n",
       "3          0.4\n",
       "4          NaN\n",
       "5          0.7\n",
       "6          0.6\n",
       "7          NaN\n",
       "8          0.5\n",
       "9          NaN\n",
       "10         1.3\n",
       "11         NaN\n",
       "12         0.4\n",
       "13         1.4\n",
       "14         0.1\n",
       "15         NaN\n",
       "16         0.8\n",
       "17         NaN\n",
       "18         NaN\n",
       "19         NaN\n",
       "20         NaN\n",
       "21         0.2\n",
       "22           1\n",
       "23         3.9\n",
       "24         2.2\n",
       "25         0.2\n",
       "26         0.5\n",
       "27         0.5\n",
       "28         0.3\n",
       "29         NaN\n",
       "         ...  \n",
       "30975     WEAK\n",
       "30976      0.5\n",
       "30977      NaN\n",
       "30978      NaN\n",
       "30979      1.0\n",
       "30980      0.2\n",
       "30981     WEAK\n",
       "30982      2.0\n",
       "30983      0.6\n",
       "30984      0.2\n",
       "30985      0.1\n",
       "30986      NaN\n",
       "30987      0.1\n",
       "30988      NaN\n",
       "30989      1.0\n",
       "30990      1.0\n",
       "30991      0.0\n",
       "30992      1.6\n",
       "30993      0.2\n",
       "30994      0.2\n",
       "30995      0.1\n",
       "30996      0.2\n",
       "30997      1.0\n",
       "30998      1.2\n",
       "30999     WEAK\n",
       "31000      1.5\n",
       "31001      1.0\n",
       "31002      0.4\n",
       "31003      0.2\n",
       "31004      0.5\n",
       "Name: Current Speed (knot), Length: 31005, dtype: object"
      ]
     },
     "execution_count": 350,
     "metadata": {},
     "output_type": "execute_result"
    }
   ],
   "source": [
    "df['Current Speed (knot)']"
   ]
  },
  {
   "cell_type": "code",
   "execution_count": null,
   "metadata": {},
   "outputs": [],
   "source": []
  },
  {
   "cell_type": "code",
   "execution_count": null,
   "metadata": {},
   "outputs": [],
   "source": []
  },
  {
   "cell_type": "code",
   "execution_count": null,
   "metadata": {},
   "outputs": [],
   "source": []
  },
  {
   "cell_type": "code",
   "execution_count": null,
   "metadata": {},
   "outputs": [],
   "source": []
  },
  {
   "cell_type": "code",
   "execution_count": null,
   "metadata": {},
   "outputs": [],
   "source": []
  },
  {
   "cell_type": "code",
   "execution_count": null,
   "metadata": {},
   "outputs": [],
   "source": []
  },
  {
   "cell_type": "code",
   "execution_count": null,
   "metadata": {},
   "outputs": [],
   "source": []
  },
  {
   "cell_type": "code",
   "execution_count": null,
   "metadata": {},
   "outputs": [],
   "source": []
  },
  {
   "cell_type": "code",
   "execution_count": null,
   "metadata": {},
   "outputs": [],
   "source": []
  },
  {
   "cell_type": "code",
   "execution_count": null,
   "metadata": {},
   "outputs": [],
   "source": []
  },
  {
   "cell_type": "code",
   "execution_count": null,
   "metadata": {},
   "outputs": [],
   "source": []
  },
  {
   "cell_type": "code",
   "execution_count": null,
   "metadata": {},
   "outputs": [],
   "source": []
  },
  {
   "cell_type": "code",
   "execution_count": null,
   "metadata": {},
   "outputs": [],
   "source": []
  },
  {
   "cell_type": "code",
   "execution_count": null,
   "metadata": {},
   "outputs": [],
   "source": []
  },
  {
   "cell_type": "code",
   "execution_count": null,
   "metadata": {},
   "outputs": [],
   "source": []
  },
  {
   "cell_type": "code",
   "execution_count": null,
   "metadata": {},
   "outputs": [],
   "source": []
  },
  {
   "cell_type": "code",
   "execution_count": null,
   "metadata": {},
   "outputs": [],
   "source": []
  },
  {
   "cell_type": "code",
   "execution_count": null,
   "metadata": {},
   "outputs": [],
   "source": []
  },
  {
   "cell_type": "code",
   "execution_count": null,
   "metadata": {},
   "outputs": [],
   "source": []
  },
  {
   "cell_type": "code",
   "execution_count": null,
   "metadata": {},
   "outputs": [],
   "source": []
  },
  {
   "cell_type": "code",
   "execution_count": 295,
   "metadata": {
    "scrolled": true
   },
   "outputs": [],
   "source": [
    "# Drop columns that I don't need\n",
    "df = df.drop(['Current Direction (Current Direction)', 'Wind Direction (Wind Direction)',\n",
    "             'Sea State ', 'Type'], axis=1)"
   ]
  },
  {
   "cell_type": "code",
   "execution_count": 325,
   "metadata": {},
   "outputs": [],
   "source": []
  },
  {
   "cell_type": "code",
   "execution_count": 326,
   "metadata": {},
   "outputs": [
    {
     "name": "stdout",
     "output_type": "stream",
     "text": [
      "Top Sample Par (uE/S m2)\n",
      "Current Speed (knot)\n",
      "Wind Speed (mph)\n",
      "Secchi Depth (ft)\n",
      "Bottom PH\n",
      "Top Fecal Coliform Bacteria (Cells/100mL)\n",
      "Bottom Fecal Coliform Bacteria (Cells/100mL)\n",
      "Enterococcus Top Sample Less Than or Greater Than Result\n",
      "Top Enterococci Bacteria (Cells/100mL)\n",
      "Top Nitrate/Nitrite (mg/L)\n",
      "Top Ammonium (mg/L)\n",
      "Top Ortho-Phosphorus (mg/L)\n",
      "Top Silica (mg/L)\n",
      "Total Phosphorus(mg/L)\n",
      "Bottom Total Suspended Solid (mg/L)\n",
      "Top Active Chlorophyll 'A' (µg/L)\n",
      "Long\n",
      "Lat\n"
     ]
    }
   ],
   "source": [
    "\n"
   ]
  },
  {
   "cell_type": "markdown",
   "metadata": {},
   "source": [
    "Next I need to convert the columns to the proper datatype."
   ]
  },
  {
   "cell_type": "code",
   "execution_count": 327,
   "metadata": {},
   "outputs": [],
   "source": [
    "# drop trailing spaces from Top Sample Photosynthetically....\n",
    "\n",
    "col = obj_cols[0]\n",
    "\n",
    "df[col] = df[col].apply(col_strip)\n",
    "df[col] = pd.to_numeric(df[col])\n"
   ]
  },
  {
   "cell_type": "code",
   "execution_count": 328,
   "metadata": {},
   "outputs": [
    {
     "data": {
      "text/plain": [
       "0        3791.30\n",
       "1            NaN\n",
       "2            NaN\n",
       "3            NaN\n",
       "4            NaN\n",
       "5        3223.70\n",
       "6            NaN\n",
       "7            NaN\n",
       "8         313.00\n",
       "9            NaN\n",
       "10           NaN\n",
       "11           NaN\n",
       "12           NaN\n",
       "13        176.69\n",
       "14        135.79\n",
       "15           NaN\n",
       "16        129.13\n",
       "17           NaN\n",
       "18           NaN\n",
       "19           NaN\n",
       "20           NaN\n",
       "21        193.47\n",
       "22           NaN\n",
       "23        757.09\n",
       "24           NaN\n",
       "25           NaN\n",
       "26         41.55\n",
       "27       1087.70\n",
       "28       2645.20\n",
       "29           NaN\n",
       "          ...   \n",
       "30975        NaN\n",
       "30976    2342.00\n",
       "30977        NaN\n",
       "30978        NaN\n",
       "30979    1551.00\n",
       "30980        NaN\n",
       "30981        NaN\n",
       "30982    1850.00\n",
       "30983        NaN\n",
       "30984        NaN\n",
       "30985        NaN\n",
       "30986        NaN\n",
       "30987    1662.00\n",
       "30988        NaN\n",
       "30989        NaN\n",
       "30990    2270.00\n",
       "30991    2139.00\n",
       "30992    2320.00\n",
       "30993     472.00\n",
       "30994     808.00\n",
       "30995        NaN\n",
       "30996        NaN\n",
       "30997    1568.00\n",
       "30998     640.00\n",
       "30999        NaN\n",
       "31000     299.00\n",
       "31001     909.00\n",
       "31002    1637.00\n",
       "31003    2642.00\n",
       "31004    2064.00\n",
       "Name: Top Sample Par (uE/S m2), Length: 31005, dtype: float64"
      ]
     },
     "execution_count": 328,
     "metadata": {},
     "output_type": "execute_result"
    }
   ],
   "source": [
    "df[col]"
   ]
  },
  {
   "cell_type": "code",
   "execution_count": null,
   "metadata": {},
   "outputs": [],
   "source": []
  },
  {
   "cell_type": "code",
   "execution_count": null,
   "metadata": {},
   "outputs": [],
   "source": []
  },
  {
   "cell_type": "code",
   "execution_count": null,
   "metadata": {},
   "outputs": [],
   "source": []
  },
  {
   "cell_type": "code",
   "execution_count": null,
   "metadata": {},
   "outputs": [],
   "source": []
  },
  {
   "cell_type": "code",
   "execution_count": null,
   "metadata": {},
   "outputs": [],
   "source": []
  },
  {
   "cell_type": "code",
   "execution_count": null,
   "metadata": {},
   "outputs": [],
   "source": []
  },
  {
   "cell_type": "code",
   "execution_count": null,
   "metadata": {},
   "outputs": [],
   "source": []
  },
  {
   "cell_type": "code",
   "execution_count": null,
   "metadata": {},
   "outputs": [],
   "source": []
  },
  {
   "cell_type": "code",
   "execution_count": null,
   "metadata": {},
   "outputs": [],
   "source": []
  },
  {
   "cell_type": "code",
   "execution_count": null,
   "metadata": {},
   "outputs": [],
   "source": []
  },
  {
   "cell_type": "code",
   "execution_count": null,
   "metadata": {},
   "outputs": [],
   "source": []
  },
  {
   "cell_type": "code",
   "execution_count": null,
   "metadata": {},
   "outputs": [],
   "source": []
  },
  {
   "cell_type": "code",
   "execution_count": null,
   "metadata": {},
   "outputs": [],
   "source": []
  },
  {
   "cell_type": "code",
   "execution_count": null,
   "metadata": {},
   "outputs": [],
   "source": []
  },
  {
   "cell_type": "code",
   "execution_count": null,
   "metadata": {},
   "outputs": [],
   "source": []
  },
  {
   "cell_type": "code",
   "execution_count": null,
   "metadata": {},
   "outputs": [],
   "source": []
  },
  {
   "cell_type": "code",
   "execution_count": null,
   "metadata": {},
   "outputs": [],
   "source": []
  },
  {
   "cell_type": "code",
   "execution_count": null,
   "metadata": {},
   "outputs": [],
   "source": []
  },
  {
   "cell_type": "code",
   "execution_count": null,
   "metadata": {},
   "outputs": [],
   "source": []
  },
  {
   "cell_type": "code",
   "execution_count": null,
   "metadata": {},
   "outputs": [],
   "source": []
  },
  {
   "cell_type": "markdown",
   "metadata": {},
   "source": [
    "What would happen if I drop all rows that have fewer than 40 columns present?"
   ]
  },
  {
   "cell_type": "code",
   "execution_count": 15,
   "metadata": {},
   "outputs": [],
   "source": [
    "drop_cols = []\n",
    "for i, row in df.iterrows():\n",
    "    if row.notnull().sum() < 40:\n",
    "        drop_cols.append(i)\n",
    "df = df.drop(drop_cols)"
   ]
  },
  {
   "cell_type": "code",
   "execution_count": 16,
   "metadata": {},
   "outputs": [
    {
     "data": {
      "text/plain": [
       "(16977, 59)"
      ]
     },
     "execution_count": 16,
     "metadata": {},
     "output_type": "execute_result"
    }
   ],
   "source": [
    "df.shape"
   ]
  },
  {
   "cell_type": "code",
   "execution_count": 17,
   "metadata": {},
   "outputs": [
    {
     "name": "stdout",
     "output_type": "stream",
     "text": [
      "Sampling Location 16977\n",
      "Sample Date 16977\n",
      "Sample Time 16977\n",
      "Weather Condition (Dry or Wet) 16932\n",
      "Top Sample Temperature (ºC) 16977\n",
      "Bottom Sample Temperature (ºC) 16757\n",
      "Site Actual Depth (ft) 16958\n",
      "Top Sample Depth(ft) 16964\n",
      "Bottom Sample Depth (ft) 16758\n",
      "Top Salinity  (psu) 16957\n",
      "Bottom Salinity  (psu) 16738\n",
      "Top Conductivity (S/m) 16957\n",
      "Bottom Conductivity (S/m) 16737\n",
      "CTD (conductivity, temperature, depth profiler) Top Dissolved Oxygen (mg/L) 14918\n",
      "CTD (conductivity, temperature, depth profiler) Bottom Dissolved Oxygen (mg/L) 14689\n",
      "Percentage O2 Saturation Top Sample 16520\n",
      "Percentage O2 Saturation Bottom sample 16292\n",
      "Light Trans (% transparency) Top Sample 11199\n",
      "Light Trans (% transparency) Bottom Sample 10974\n",
      "Top Sigma-T (kg/m3) 16875\n",
      "Bottom Sigma-T (kg/m3) 16662\n",
      "Top Fluorometer (mg/m3) 14225\n",
      "Bottom Fluorometer mg/m3 13924\n",
      "Top Sample Photosysthetically Active Radiation Reference (400-700nm light (uE/S) 10942\n",
      "Top Sample Par (uE/S m2) 11847\n",
      "Bottom Sample Par uE/S (uE/S m2) 11621\n",
      "Oxidation Reduction Potential (mV) Top Sample 11614\n",
      "Oxidation Reduction Potential (mV) Bottom Sample 11396\n",
      "Current Speed (knot) 15984\n",
      "Current Direction (Current Direction) 16215\n",
      "Wind Speed (mph) 16877\n",
      "Wind Direction (Wind Direction) 15875\n",
      "Sea State  16832\n",
      "Winkler Method Top Dissolved Oxygen (mg/L) 16839\n",
      "Winkler Method Bottom Dissolved Oxygen (mg/L) 16391\n",
      "Secchi Depth (ft) 16894\n",
      "Top PH 16947\n",
      "Bottom PH 16475\n",
      "Top Total Coliform Cells/100 mL 0\n",
      "Top Bottom Coliform Cells/100 mL 0\n",
      "Top Fecal Coliform Bacteria (Cells/100mL) 16186\n",
      "Bottom Fecal Coliform Bacteria (Cells/100mL) 1355\n",
      "Enterococcus Top Sample Less Than or Greater Than Result 6424\n",
      "Top Enterococci Bacteria (Cells/100mL) 16343\n",
      "Top Nitrate/Nitrite (mg/L) 16568\n",
      "Top Ammonium (mg/L) 16551\n",
      "Top Ortho-Phosphorus (mg/L) 9017\n",
      "Top Total Kjeldhal Nitrogen (mg/L) 16550\n",
      "Top Silica (mg/L) 16556\n",
      "Total Phosphorus(mg/L) 16565\n",
      "Top Total Suspended Solid (mg/L) 16547\n",
      "Bottom Total Suspended Solid (mg/L) 16092\n",
      "Top Active Chlorophyll 'A' (µg/L) 16562\n",
      "Top Dissolved Organic Carbon (mg/L) 16380\n",
      "Top Five-Day Biochemical Oxygen Demand(mg/L) 0\n",
      "Bottom Five-Day Biochemical Oxygen Demand(mg/L) 0\n",
      "Long 16977\n",
      "Lat 16977\n",
      "Type 16977\n"
     ]
    }
   ],
   "source": [
    "for col in df:\n",
    "    print(col, df[col].count())"
   ]
  },
  {
   "cell_type": "markdown",
   "metadata": {},
   "source": [
    "I want to get an idea of the frequency each site is sampled."
   ]
  },
  {
   "cell_type": "code",
   "execution_count": 18,
   "metadata": {},
   "outputs": [
    {
     "name": "stdout",
     "output_type": "stream",
     "text": [
      "K1 353 2000-06-27 00:00:00 2018-10-16 00:00:00\n",
      "K2 348 2000-06-27 00:00:00 2018-10-16 00:00:00\n",
      "K3 351 2000-06-27 00:00:00 2018-10-16 00:00:00\n",
      "K4 351 2000-06-27 00:00:00 2018-10-16 00:00:00\n",
      "K5 353 2000-06-27 00:00:00 2018-10-16 00:00:00\n",
      "K5A 344 2000-06-27 00:00:00 2018-10-16 00:00:00\n",
      "K6 320 2000-06-27 00:00:00 2018-10-16 00:00:00\n",
      "N1 364 2000-02-23 00:00:00 2018-10-22 00:00:00\n",
      "N3B 379 2000-02-23 00:00:00 2018-10-15 00:00:00\n",
      "N4 380 2000-02-23 00:00:00 2018-10-15 00:00:00\n",
      "N5 381 2000-02-23 00:00:00 2019-07-02 00:00:00\n",
      "N6 350 2000-06-27 00:00:00 2018-10-16 00:00:00\n",
      "G2 348 2000-06-27 00:00:00 2018-10-16 00:00:00\n",
      "N7 355 2000-06-27 00:00:00 2018-10-16 00:00:00\n",
      "N8 348 2000-06-27 00:00:00 2018-10-16 00:00:00\n",
      "N9 373 2000-03-01 00:00:00 2018-10-18 00:00:00\n",
      "N16 287 2000-03-01 00:00:00 2018-09-19 00:00:00\n",
      "NR1 107 2015-04-06 00:00:00 2018-10-22 00:00:00\n",
      "E2 387 2000-02-23 00:00:00 2018-10-22 00:00:00\n",
      "E4 388 2000-07-24 00:00:00 2019-07-02 00:00:00\n",
      "E6 399 2000-06-28 00:00:00 2019-07-02 00:00:00\n",
      "E7 390 2000-06-28 00:00:00 2019-07-02 00:00:00\n",
      "E8 385 2000-06-28 00:00:00 2019-07-02 00:00:00\n",
      "E10 373 2000-06-28 00:00:00 2019-07-02 00:00:00\n",
      "E11 69 2000-06-28 00:00:00 2018-09-10 00:00:00\n",
      "E12 1 2016-01-12 00:00:00 2016-01-12 00:00:00\n",
      "E13 9 2000-06-28 00:00:00 2006-10-10 00:00:00\n",
      "E14 363 2000-06-28 00:00:00 2018-10-22 00:00:00\n",
      "E15 332 2000-06-28 00:00:00 2018-10-22 00:00:00\n",
      "J1 373 2000-03-01 00:00:00 2018-10-18 00:00:00\n",
      "J2 372 2000-03-01 00:00:00 2018-10-18 00:00:00\n",
      "J3 370 2000-07-26 00:00:00 2018-10-18 00:00:00\n",
      "J5 367 2000-07-26 00:00:00 2018-10-18 00:00:00\n",
      "J7 368 2000-07-26 00:00:00 2018-10-18 00:00:00\n",
      "J8 369 2000-07-26 00:00:00 2018-10-18 00:00:00\n",
      "J9A 368 2000-07-26 00:00:00 2018-10-18 00:00:00\n",
      "J10 218 2010-04-27 00:00:00 2018-10-18 00:00:00\n",
      "J11 374 2000-03-01 00:00:00 2018-10-18 00:00:00\n",
      "J12 364 2002-07-16 00:00:00 2018-10-18 00:00:00\n",
      "JA1 94 2015-05-19 00:00:00 2018-10-18 00:00:00\n",
      "N9A 221 2000-03-01 00:00:00 2018-10-18 00:00:00\n",
      "H3 369 2000-02-23 00:00:00 2018-10-22 00:00:00\n",
      "J14 0 NaT NaT\n",
      "J16 0 NaT NaT\n",
      "AC1 0 NaT NaT\n",
      "AC1 0 NaT NaT\n",
      "AC2 0 NaT NaT\n",
      "BB2 81 2002-08-20 00:00:00 2018-10-18 00:00:00\n",
      "BB4 195 2002-08-20 00:00:00 2018-10-18 00:00:00\n",
      "BR1 0 NaT NaT\n",
      "BR3 0 NaT NaT\n",
      "BR5 82 2011-05-16 00:00:00 2018-10-22 00:00:00\n",
      "CIC2 0 NaT NaT\n",
      "CIC3 226 2010-02-09 00:00:00 2018-10-16 00:00:00\n",
      "F1 0 NaT NaT\n",
      "F5 0 NaT NaT\n",
      "FB1 304 2006-10-10 00:00:00 2018-10-22 00:00:00\n",
      "FLC1 308 2006-06-19 00:00:00 2018-10-22 00:00:00\n",
      "FLC2 304 2006-10-10 00:00:00 2018-10-22 00:00:00\n",
      "GB1 231 2010-02-09 00:00:00 2018-10-16 00:00:00\n",
      "GC3 0 NaT NaT\n",
      "GC4 0 NaT NaT\n",
      "GC5 0 NaT NaT\n",
      "GC6 0 NaT NaT\n",
      "HC1 0 NaT NaT\n",
      "HC2 0 NaT NaT\n",
      "HC3 0 NaT NaT\n",
      "HR1 1 2016-01-12 00:00:00 2016-01-12 00:00:00\n",
      "HR2 0 NaT NaT\n",
      "HR03 0 NaT NaT\n",
      "LN1 53 2009-05-20 00:00:00 2018-10-15 00:00:00\n",
      "NC0 333 2004-06-02 00:00:00 2019-07-03 00:00:00\n",
      "NC1 340 2003-06-09 00:00:00 2019-07-03 00:00:00\n",
      "NC2 344 2003-06-18 00:00:00 2019-07-03 00:00:00\n",
      "NC3 342 2003-06-18 00:00:00 2019-07-03 00:00:00\n",
      "PB2 239 2002-07-16 00:00:00 2018-10-03 00:00:00\n",
      "PB3 99 2002-07-16 00:00:00 2018-10-03 00:00:00\n",
      "SP1 0 NaT NaT\n",
      "SP2 79 2008-06-24 00:00:00 2018-10-03 00:00:00\n",
      "WC1 0 NaT NaT\n",
      "WC2 0 NaT NaT\n",
      "WC3 1 2016-01-12 00:00:00 2016-01-12 00:00:00\n"
     ]
    }
   ],
   "source": [
    "for site in survey_stations:\n",
    "    site_df = df[df['Sampling Location'] == site]\n",
    "    print(site, len(site_df), site_df['Sample Date'].min(), site_df['Sample Date'].max())"
   ]
  },
  {
   "cell_type": "code",
   "execution_count": null,
   "metadata": {},
   "outputs": [],
   "source": []
  },
  {
   "cell_type": "code",
   "execution_count": null,
   "metadata": {},
   "outputs": [],
   "source": []
  },
  {
   "cell_type": "code",
   "execution_count": null,
   "metadata": {},
   "outputs": [],
   "source": []
  },
  {
   "cell_type": "code",
   "execution_count": null,
   "metadata": {},
   "outputs": [],
   "source": []
  },
  {
   "cell_type": "code",
   "execution_count": null,
   "metadata": {},
   "outputs": [],
   "source": []
  },
  {
   "cell_type": "code",
   "execution_count": null,
   "metadata": {},
   "outputs": [],
   "source": []
  },
  {
   "cell_type": "code",
   "execution_count": null,
   "metadata": {},
   "outputs": [],
   "source": []
  },
  {
   "cell_type": "code",
   "execution_count": null,
   "metadata": {},
   "outputs": [],
   "source": []
  },
  {
   "cell_type": "code",
   "execution_count": null,
   "metadata": {},
   "outputs": [],
   "source": []
  },
  {
   "cell_type": "code",
   "execution_count": null,
   "metadata": {},
   "outputs": [],
   "source": []
  },
  {
   "cell_type": "code",
   "execution_count": null,
   "metadata": {},
   "outputs": [],
   "source": []
  },
  {
   "cell_type": "code",
   "execution_count": null,
   "metadata": {},
   "outputs": [],
   "source": []
  },
  {
   "cell_type": "code",
   "execution_count": null,
   "metadata": {},
   "outputs": [],
   "source": []
  },
  {
   "cell_type": "code",
   "execution_count": null,
   "metadata": {},
   "outputs": [],
   "source": []
  },
  {
   "cell_type": "code",
   "execution_count": null,
   "metadata": {},
   "outputs": [],
   "source": []
  },
  {
   "cell_type": "code",
   "execution_count": null,
   "metadata": {},
   "outputs": [],
   "source": []
  },
  {
   "cell_type": "code",
   "execution_count": null,
   "metadata": {},
   "outputs": [],
   "source": []
  },
  {
   "cell_type": "code",
   "execution_count": null,
   "metadata": {},
   "outputs": [],
   "source": []
  },
  {
   "cell_type": "code",
   "execution_count": null,
   "metadata": {},
   "outputs": [],
   "source": []
  },
  {
   "cell_type": "code",
   "execution_count": null,
   "metadata": {},
   "outputs": [],
   "source": []
  },
  {
   "cell_type": "code",
   "execution_count": null,
   "metadata": {},
   "outputs": [],
   "source": []
  },
  {
   "cell_type": "code",
   "execution_count": null,
   "metadata": {},
   "outputs": [],
   "source": []
  },
  {
   "cell_type": "code",
   "execution_count": null,
   "metadata": {},
   "outputs": [],
   "source": []
  },
  {
   "cell_type": "code",
   "execution_count": null,
   "metadata": {},
   "outputs": [],
   "source": []
  },
  {
   "cell_type": "code",
   "execution_count": null,
   "metadata": {},
   "outputs": [],
   "source": []
  },
  {
   "cell_type": "code",
   "execution_count": null,
   "metadata": {},
   "outputs": [],
   "source": []
  },
  {
   "cell_type": "code",
   "execution_count": null,
   "metadata": {},
   "outputs": [],
   "source": []
  },
  {
   "cell_type": "code",
   "execution_count": null,
   "metadata": {},
   "outputs": [],
   "source": []
  }
 ],
 "metadata": {
  "kernelspec": {
   "display_name": "Python 3",
   "language": "python",
   "name": "python3"
  },
  "language_info": {
   "codemirror_mode": {
    "name": "ipython",
    "version": 3
   },
   "file_extension": ".py",
   "mimetype": "text/x-python",
   "name": "python",
   "nbconvert_exporter": "python",
   "pygments_lexer": "ipython3",
   "version": "3.6.7"
  }
 },
 "nbformat": 4,
 "nbformat_minor": 2
}
