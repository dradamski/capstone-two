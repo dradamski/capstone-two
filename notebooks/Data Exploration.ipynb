{
 "cells": [
  {
   "cell_type": "code",
   "execution_count": 1,
   "metadata": {},
   "outputs": [],
   "source": [
    "# Import the necessary packages and data\n",
    "from collections import defaultdict\n",
    "from datetime import datetime\n",
    "import matplotlib.pyplot as plt\n",
    "import numpy as np\n",
    "import os\n",
    "import pandas as pd\n",
    "import seaborn as sns\n",
    "sns.set()\n",
    "path = os.path.expanduser('~/Projects/capstone-two/data/processed/Clean_Harbor_Water_Quality.csv', )\n",
    "wq_df = pd.read_csv(path, parse_dates=['Sample Date'], index_col=0)"
   ]
  },
  {
   "cell_type": "code",
   "execution_count": 2,
   "metadata": {},
   "outputs": [],
   "source": [
    "times = []\n",
    "for i in wq_df['Sample Time']:\n",
    "    try:\n",
    "        times.append(datetime.strptime(i, '%I:%M%p').time())\n",
    "    except:\n",
    "        times.append(np.nan)\n",
    "wq_df['Sample Time'] = times"
   ]
  },
  {
   "cell_type": "markdown",
   "metadata": {},
   "source": [
    "There are 7 columns that do not start being measured until 2005. I am going to drop those columns as well."
   ]
  },
  {
   "cell_type": "code",
   "execution_count": 3,
   "metadata": {},
   "outputs": [
    {
     "name": "stdout",
     "output_type": "stream",
     "text": [
      "['Top Fluorometer (mg/m3)', 'Bottom Fluorometer mg/m3', 'Top Sample Photosysthetically Active Radiation Reference (400-700nm light (uE/S)', 'Top Sample Par (uE/S m2)', 'Bottom Sample Par uE/S (uE/S m2)', 'Oxidation Reduction Potential (mV) Top Sample', 'Oxidation Reduction Potential (mV) Bottom Sample']\n"
     ]
    }
   ],
   "source": [
    "drop_cols = []\n",
    "for col in wq_df:\n",
    "    observation_df = wq_df[wq_df[col].notnull()]\n",
    "    if observation_df['Sample Date'].min().year > 2002:\n",
    "        drop_cols.append(col)\n",
    "print(drop_cols)\n",
    "wq_df = wq_df.drop(columns=drop_cols)"
   ]
  },
  {
   "cell_type": "markdown",
   "metadata": {},
   "source": [
    "I will now examine the descriptive statistics of each column to identify values that are unexpectedly high or low."
   ]
  },
  {
   "cell_type": "code",
   "execution_count": 4,
   "metadata": {
    "scrolled": true
   },
   "outputs": [
    {
     "data": {
      "text/html": [
       "<div>\n",
       "<style scoped>\n",
       "    .dataframe tbody tr th:only-of-type {\n",
       "        vertical-align: middle;\n",
       "    }\n",
       "\n",
       "    .dataframe tbody tr th {\n",
       "        vertical-align: top;\n",
       "    }\n",
       "\n",
       "    .dataframe thead th {\n",
       "        text-align: right;\n",
       "    }\n",
       "</style>\n",
       "<table border=\"1\" class=\"dataframe\">\n",
       "  <thead>\n",
       "    <tr style=\"text-align: right;\">\n",
       "      <th></th>\n",
       "      <th>Top Sample Temperature (ºC)</th>\n",
       "      <th>Bottom Sample Temperature (ºC)</th>\n",
       "      <th>Site Actual Depth (ft)</th>\n",
       "      <th>Top Sample Depth(ft)</th>\n",
       "      <th>Bottom Sample Depth (ft)</th>\n",
       "      <th>Top Salinity  (psu)</th>\n",
       "      <th>Bottom Salinity  (psu)</th>\n",
       "      <th>Top Conductivity (S/m)</th>\n",
       "      <th>Bottom Conductivity (S/m)</th>\n",
       "      <th>CTD (conductivity, temperature, depth profiler) Top Dissolved Oxygen (mg/L)</th>\n",
       "    </tr>\n",
       "  </thead>\n",
       "  <tbody>\n",
       "    <tr>\n",
       "      <th>count</th>\n",
       "      <td>18996.000000</td>\n",
       "      <td>17733.000000</td>\n",
       "      <td>27886.000000</td>\n",
       "      <td>18939.000000</td>\n",
       "      <td>17836.000000</td>\n",
       "      <td>18968.000000</td>\n",
       "      <td>17720.000000</td>\n",
       "      <td>18758.000000</td>\n",
       "      <td>17528.000000</td>\n",
       "      <td>16217.000000</td>\n",
       "    </tr>\n",
       "    <tr>\n",
       "      <th>mean</th>\n",
       "      <td>18.703483</td>\n",
       "      <td>18.002141</td>\n",
       "      <td>28.630030</td>\n",
       "      <td>3.380010</td>\n",
       "      <td>32.244005</td>\n",
       "      <td>22.866737</td>\n",
       "      <td>24.809579</td>\n",
       "      <td>3.837574</td>\n",
       "      <td>4.090200</td>\n",
       "      <td>6.851332</td>\n",
       "    </tr>\n",
       "    <tr>\n",
       "      <th>std</th>\n",
       "      <td>6.801709</td>\n",
       "      <td>6.523780</td>\n",
       "      <td>21.298745</td>\n",
       "      <td>0.749955</td>\n",
       "      <td>20.358388</td>\n",
       "      <td>5.269741</td>\n",
       "      <td>3.794550</td>\n",
       "      <td>4.396670</td>\n",
       "      <td>4.665498</td>\n",
       "      <td>2.871964</td>\n",
       "    </tr>\n",
       "    <tr>\n",
       "      <th>min</th>\n",
       "      <td>-1.740000</td>\n",
       "      <td>-1.870000</td>\n",
       "      <td>0.020000</td>\n",
       "      <td>0.700000</td>\n",
       "      <td>1.000000</td>\n",
       "      <td>0.120000</td>\n",
       "      <td>0.200000</td>\n",
       "      <td>0.020000</td>\n",
       "      <td>0.000000</td>\n",
       "      <td>-1.120000</td>\n",
       "    </tr>\n",
       "    <tr>\n",
       "      <th>25%</th>\n",
       "      <td>15.737500</td>\n",
       "      <td>15.000000</td>\n",
       "      <td>14.000000</td>\n",
       "      <td>3.000000</td>\n",
       "      <td>17.000000</td>\n",
       "      <td>21.160000</td>\n",
       "      <td>23.060000</td>\n",
       "      <td>2.730000</td>\n",
       "      <td>2.980000</td>\n",
       "      <td>5.080000</td>\n",
       "    </tr>\n",
       "    <tr>\n",
       "      <th>50%</th>\n",
       "      <td>21.190000</td>\n",
       "      <td>20.340000</td>\n",
       "      <td>21.000000</td>\n",
       "      <td>3.000000</td>\n",
       "      <td>25.000000</td>\n",
       "      <td>24.060000</td>\n",
       "      <td>25.240000</td>\n",
       "      <td>3.370000</td>\n",
       "      <td>3.500000</td>\n",
       "      <td>6.410000</td>\n",
       "    </tr>\n",
       "    <tr>\n",
       "      <th>75%</th>\n",
       "      <td>23.570000</td>\n",
       "      <td>22.830000</td>\n",
       "      <td>40.000000</td>\n",
       "      <td>4.000000</td>\n",
       "      <td>43.000000</td>\n",
       "      <td>26.220000</td>\n",
       "      <td>27.270000</td>\n",
       "      <td>3.820000</td>\n",
       "      <td>3.900000</td>\n",
       "      <td>8.080000</td>\n",
       "    </tr>\n",
       "    <tr>\n",
       "      <th>max</th>\n",
       "      <td>30.010000</td>\n",
       "      <td>29.230000</td>\n",
       "      <td>230.000000</td>\n",
       "      <td>12.000000</td>\n",
       "      <td>107.000000</td>\n",
       "      <td>34.760000</td>\n",
       "      <td>44.730000</td>\n",
       "      <td>43.960000</td>\n",
       "      <td>62.560000</td>\n",
       "      <td>28.560000</td>\n",
       "    </tr>\n",
       "  </tbody>\n",
       "</table>\n",
       "</div>"
      ],
      "text/plain": [
       "       Top Sample Temperature (ºC)  Bottom Sample Temperature (ºC)  \\\n",
       "count                 18996.000000                    17733.000000   \n",
       "mean                     18.703483                       18.002141   \n",
       "std                       6.801709                        6.523780   \n",
       "min                      -1.740000                       -1.870000   \n",
       "25%                      15.737500                       15.000000   \n",
       "50%                      21.190000                       20.340000   \n",
       "75%                      23.570000                       22.830000   \n",
       "max                      30.010000                       29.230000   \n",
       "\n",
       "       Site Actual Depth (ft)  Top Sample Depth(ft)  Bottom Sample Depth (ft)  \\\n",
       "count            27886.000000          18939.000000              17836.000000   \n",
       "mean                28.630030              3.380010                 32.244005   \n",
       "std                 21.298745              0.749955                 20.358388   \n",
       "min                  0.020000              0.700000                  1.000000   \n",
       "25%                 14.000000              3.000000                 17.000000   \n",
       "50%                 21.000000              3.000000                 25.000000   \n",
       "75%                 40.000000              4.000000                 43.000000   \n",
       "max                230.000000             12.000000                107.000000   \n",
       "\n",
       "       Top Salinity  (psu)  Bottom Salinity  (psu)  Top Conductivity (S/m)  \\\n",
       "count         18968.000000            17720.000000            18758.000000   \n",
       "mean             22.866737               24.809579                3.837574   \n",
       "std               5.269741                3.794550                4.396670   \n",
       "min               0.120000                0.200000                0.020000   \n",
       "25%              21.160000               23.060000                2.730000   \n",
       "50%              24.060000               25.240000                3.370000   \n",
       "75%              26.220000               27.270000                3.820000   \n",
       "max              34.760000               44.730000               43.960000   \n",
       "\n",
       "       Bottom Conductivity (S/m)  \\\n",
       "count               17528.000000   \n",
       "mean                    4.090200   \n",
       "std                     4.665498   \n",
       "min                     0.000000   \n",
       "25%                     2.980000   \n",
       "50%                     3.500000   \n",
       "75%                     3.900000   \n",
       "max                    62.560000   \n",
       "\n",
       "       CTD (conductivity, temperature, depth profiler) Top Dissolved Oxygen (mg/L)  \n",
       "count                                       16217.000000                            \n",
       "mean                                            6.851332                            \n",
       "std                                             2.871964                            \n",
       "min                                            -1.120000                            \n",
       "25%                                             5.080000                            \n",
       "50%                                             6.410000                            \n",
       "75%                                             8.080000                            \n",
       "max                                            28.560000                            "
      ]
     },
     "execution_count": 4,
     "metadata": {},
     "output_type": "execute_result"
    }
   ],
   "source": [
    "wq_df_int = wq_df.select_dtypes(exclude=['object', 'datetime'])\n",
    "wq_df_int_subset = wq_df_int.iloc[:, :10]\n",
    "wq_df_int_subset.describe()"
   ]
  },
  {
   "cell_type": "code",
   "execution_count": 5,
   "metadata": {},
   "outputs": [
    {
     "data": {
      "image/png": "[encoded data removed]",
      "text/plain": [
       "<Figure size 432x288 with 1 Axes>"
      ]
     },
     "metadata": {
      "needs_background": "light"
     },
     "output_type": "display_data"
    },
    {
     "data": {
      "image/png": "[encoded data removed]",
      "text/plain": [
       "<Figure size 432x288 with 1 Axes>"
      ]
     },
     "metadata": {
      "needs_background": "light"
     },
     "output_type": "display_data"
    },
    {
     "data": {
      "image/png": "[encoded data removed]",
      "text/plain": [
       "<Figure size 432x288 with 1 Axes>"
      ]
     },
     "metadata": {
      "needs_background": "light"
     },
     "output_type": "display_data"
    },
    {
     "data": {
      "image/png": "[encoded data removed]",
      "text/plain": [
       "<Figure size 432x288 with 1 Axes>"
      ]
     },
     "metadata": {
      "needs_background": "light"
     },
     "output_type": "display_data"
    },
    {
     "data": {
      "image/png": "[encoded data removed]",
      "text/plain": [
       "<Figure size 432x288 with 1 Axes>"
      ]
     },
     "metadata": {
      "needs_background": "light"
     },
     "output_type": "display_data"
    },
    {
     "data": {
      "image/png": "[encoded data removed]",
      "text/plain": [
       "<Figure size 432x288 with 1 Axes>"
      ]
     },
     "metadata": {
      "needs_background": "light"
     },
     "output_type": "display_data"
    },
    {
     "data": {
      "image/png": "[encoded data removed]",
      "text/plain": [
       "<Figure size 432x288 with 1 Axes>"
      ]
     },
     "metadata": {
      "needs_background": "light"
     },
     "output_type": "display_data"
    },
    {
     "data": {
      "image/png": "[encoded data removed]",
      "text/plain": [
       "<Figure size 432x288 with 1 Axes>"
      ]
     },
     "metadata": {
      "needs_background": "light"
     },
     "output_type": "display_data"
    },
    {
     "data": {
      "image/png": "[encoded data removed]",
      "text/plain": [
       "<Figure size 432x288 with 1 Axes>"
      ]
     },
     "metadata": {
      "needs_background": "light"
     },
     "output_type": "display_data"
    },
    {
     "data": {
      "image/png": "[encoded data removed]",
      "text/plain": [
       "<Figure size 432x288 with 1 Axes>"
      ]
     },
     "metadata": {
      "needs_background": "light"
     },
     "output_type": "display_data"
    }
   ],
   "source": [
    "for col in wq_df_int_subset:\n",
    "    _ = plt.figure()\n",
    "    _ = wq_df_int[col].plot(kind='hist', bins=15)\n",
    "    _ = plt.yscale('log')\n",
    "    _ = plt.title(col)\n",
    "    _ = plt.show()"
   ]
  },
  {
   "cell_type": "markdown",
   "metadata": {},
   "source": [
    "- Columns with Questionable Values:\n",
    "Site Actual Depth (max), Bottom Salinity (max), Bottom Conductivity (max)"
   ]
  },
  {
   "cell_type": "code",
   "execution_count": 6,
   "metadata": {},
   "outputs": [
    {
     "data": {
      "text/html": [
       "<div>\n",
       "<style scoped>\n",
       "    .dataframe tbody tr th:only-of-type {\n",
       "        vertical-align: middle;\n",
       "    }\n",
       "\n",
       "    .dataframe tbody tr th {\n",
       "        vertical-align: top;\n",
       "    }\n",
       "\n",
       "    .dataframe thead th {\n",
       "        text-align: right;\n",
       "    }\n",
       "</style>\n",
       "<table border=\"1\" class=\"dataframe\">\n",
       "  <thead>\n",
       "    <tr style=\"text-align: right;\">\n",
       "      <th></th>\n",
       "      <th>Sampling Location</th>\n",
       "      <th>Sample Date</th>\n",
       "      <th>Sample Time</th>\n",
       "      <th>Weather Condition (Dry or Wet)</th>\n",
       "      <th>Top Sample Temperature (ºC)</th>\n",
       "      <th>Bottom Sample Temperature (ºC)</th>\n",
       "      <th>Site Actual Depth (ft)</th>\n",
       "      <th>Top Sample Depth(ft)</th>\n",
       "      <th>Bottom Sample Depth (ft)</th>\n",
       "      <th>Top Salinity  (psu)</th>\n",
       "      <th>...</th>\n",
       "      <th>Top Ortho-Phosphorus (mg/L)</th>\n",
       "      <th>Top Total Kjeldhal Nitrogen (mg/L)</th>\n",
       "      <th>Top Silica (mg/L)</th>\n",
       "      <th>Total Phosphorus(mg/L)</th>\n",
       "      <th>Top Total Suspended Solid (mg/L)</th>\n",
       "      <th>Bottom Total Suspended Solid (mg/L)</th>\n",
       "      <th>Top Active Chlorophyll 'A' (µg/L)</th>\n",
       "      <th>Top Dissolved Organic Carbon (mg/L)</th>\n",
       "      <th>Long</th>\n",
       "      <th>Lat</th>\n",
       "    </tr>\n",
       "  </thead>\n",
       "  <tbody>\n",
       "    <tr>\n",
       "      <th>26577</th>\n",
       "      <td>E6</td>\n",
       "      <td>2018-05-24</td>\n",
       "      <td>13:05:00</td>\n",
       "      <td>D</td>\n",
       "      <td>15.18</td>\n",
       "      <td>13.95</td>\n",
       "      <td>230.0</td>\n",
       "      <td>3.0</td>\n",
       "      <td>19.0</td>\n",
       "      <td>22.39</td>\n",
       "      <td>...</td>\n",
       "      <td>0.087</td>\n",
       "      <td>0.786</td>\n",
       "      <td>1.086</td>\n",
       "      <td>0.165</td>\n",
       "      <td>8.00</td>\n",
       "      <td>8.0</td>\n",
       "      <td>3.38</td>\n",
       "      <td>2.82</td>\n",
       "      <td>-73.860830</td>\n",
       "      <td>40.78550</td>\n",
       "    </tr>\n",
       "    <tr>\n",
       "      <th>26153</th>\n",
       "      <td>NC2</td>\n",
       "      <td>2018-06-05</td>\n",
       "      <td>09:52:00</td>\n",
       "      <td>D</td>\n",
       "      <td>18.19</td>\n",
       "      <td>17.77</td>\n",
       "      <td>129.0</td>\n",
       "      <td>3.0</td>\n",
       "      <td>16.0</td>\n",
       "      <td>21.04</td>\n",
       "      <td>...</td>\n",
       "      <td>0.092</td>\n",
       "      <td>1.234</td>\n",
       "      <td>2.340</td>\n",
       "      <td>0.237</td>\n",
       "      <td>11.00</td>\n",
       "      <td>19.0</td>\n",
       "      <td>10.00</td>\n",
       "      <td>3.01</td>\n",
       "      <td>-73.935500</td>\n",
       "      <td>40.72883</td>\n",
       "    </tr>\n",
       "    <tr>\n",
       "      <th>24454</th>\n",
       "      <td>E8</td>\n",
       "      <td>2019-04-03</td>\n",
       "      <td>10:52:00</td>\n",
       "      <td>D</td>\n",
       "      <td>NaN</td>\n",
       "      <td>NaN</td>\n",
       "      <td>120.2</td>\n",
       "      <td>NaN</td>\n",
       "      <td>NaN</td>\n",
       "      <td>NaN</td>\n",
       "      <td>...</td>\n",
       "      <td>0.032</td>\n",
       "      <td>0.304</td>\n",
       "      <td>0.836</td>\n",
       "      <td>0.054</td>\n",
       "      <td>5.00</td>\n",
       "      <td>NaN</td>\n",
       "      <td>2.78</td>\n",
       "      <td>2.21</td>\n",
       "      <td>-73.820500</td>\n",
       "      <td>40.80500</td>\n",
       "    </tr>\n",
       "    <tr>\n",
       "      <th>24741</th>\n",
       "      <td>E8</td>\n",
       "      <td>2019-03-06</td>\n",
       "      <td>11:17:00</td>\n",
       "      <td>D</td>\n",
       "      <td>NaN</td>\n",
       "      <td>NaN</td>\n",
       "      <td>120.0</td>\n",
       "      <td>NaN</td>\n",
       "      <td>NaN</td>\n",
       "      <td>NaN</td>\n",
       "      <td>...</td>\n",
       "      <td>0.032</td>\n",
       "      <td>0.560</td>\n",
       "      <td>0.161</td>\n",
       "      <td>0.101</td>\n",
       "      <td>8.00</td>\n",
       "      <td>NaN</td>\n",
       "      <td>36.20</td>\n",
       "      <td>2.23</td>\n",
       "      <td>-73.820500</td>\n",
       "      <td>40.80500</td>\n",
       "    </tr>\n",
       "    <tr>\n",
       "      <th>18105</th>\n",
       "      <td>E8</td>\n",
       "      <td>2007-03-19</td>\n",
       "      <td>11:28:00</td>\n",
       "      <td>W</td>\n",
       "      <td>2.51</td>\n",
       "      <td>1.57</td>\n",
       "      <td>114.0</td>\n",
       "      <td>3.0</td>\n",
       "      <td>107.0</td>\n",
       "      <td>24.59</td>\n",
       "      <td>...</td>\n",
       "      <td>0.060</td>\n",
       "      <td>0.812</td>\n",
       "      <td>0.910</td>\n",
       "      <td>0.114</td>\n",
       "      <td>5.75</td>\n",
       "      <td>5.0</td>\n",
       "      <td>12.30</td>\n",
       "      <td>3.66</td>\n",
       "      <td>-73.783667</td>\n",
       "      <td>40.80050</td>\n",
       "    </tr>\n",
       "  </tbody>\n",
       "</table>\n",
       "<p>5 rows × 40 columns</p>\n",
       "</div>"
      ],
      "text/plain": [
       "      Sampling Location Sample Date Sample Time  \\\n",
       "26577                E6  2018-05-24    13:05:00   \n",
       "26153               NC2  2018-06-05    09:52:00   \n",
       "24454                E8  2019-04-03    10:52:00   \n",
       "24741                E8  2019-03-06    11:17:00   \n",
       "18105                E8  2007-03-19    11:28:00   \n",
       "\n",
       "      Weather Condition (Dry or Wet)  Top Sample Temperature (ºC)  \\\n",
       "26577                              D                        15.18   \n",
       "26153                              D                        18.19   \n",
       "24454                              D                          NaN   \n",
       "24741                              D                          NaN   \n",
       "18105                              W                         2.51   \n",
       "\n",
       "       Bottom Sample Temperature (ºC)  Site Actual Depth (ft)  \\\n",
       "26577                           13.95                   230.0   \n",
       "26153                           17.77                   129.0   \n",
       "24454                             NaN                   120.2   \n",
       "24741                             NaN                   120.0   \n",
       "18105                            1.57                   114.0   \n",
       "\n",
       "       Top Sample Depth(ft)  Bottom Sample Depth (ft)  Top Salinity  (psu)  \\\n",
       "26577                   3.0                      19.0                22.39   \n",
       "26153                   3.0                      16.0                21.04   \n",
       "24454                   NaN                       NaN                  NaN   \n",
       "24741                   NaN                       NaN                  NaN   \n",
       "18105                   3.0                     107.0                24.59   \n",
       "\n",
       "       ...  Top Ortho-Phosphorus (mg/L)  Top Total Kjeldhal Nitrogen (mg/L)  \\\n",
       "26577  ...                        0.087                               0.786   \n",
       "26153  ...                        0.092                               1.234   \n",
       "24454  ...                        0.032                               0.304   \n",
       "24741  ...                        0.032                               0.560   \n",
       "18105  ...                        0.060                               0.812   \n",
       "\n",
       "       Top Silica (mg/L)  Total Phosphorus(mg/L)  \\\n",
       "26577              1.086                   0.165   \n",
       "26153              2.340                   0.237   \n",
       "24454              0.836                   0.054   \n",
       "24741              0.161                   0.101   \n",
       "18105              0.910                   0.114   \n",
       "\n",
       "       Top Total Suspended Solid (mg/L)  Bottom Total Suspended Solid (mg/L)  \\\n",
       "26577                              8.00                                  8.0   \n",
       "26153                             11.00                                 19.0   \n",
       "24454                              5.00                                  NaN   \n",
       "24741                              8.00                                  NaN   \n",
       "18105                              5.75                                  5.0   \n",
       "\n",
       "       Top Active Chlorophyll 'A' (µg/L)  Top Dissolved Organic Carbon (mg/L)  \\\n",
       "26577                               3.38                                 2.82   \n",
       "26153                              10.00                                 3.01   \n",
       "24454                               2.78                                 2.21   \n",
       "24741                              36.20                                 2.23   \n",
       "18105                              12.30                                 3.66   \n",
       "\n",
       "            Long       Lat  \n",
       "26577 -73.860830  40.78550  \n",
       "26153 -73.935500  40.72883  \n",
       "24454 -73.820500  40.80500  \n",
       "24741 -73.820500  40.80500  \n",
       "18105 -73.783667  40.80050  \n",
       "\n",
       "[5 rows x 40 columns]"
      ]
     },
     "execution_count": 6,
     "metadata": {},
     "output_type": "execute_result"
    }
   ],
   "source": [
    "wq_df.nlargest(5, 'Site Actual Depth (ft)')"
   ]
  },
  {
   "cell_type": "markdown",
   "metadata": {},
   "source": [
    "The max depth is almost twice as high as the next deepest location and is the only depth measurement from site `E6`. It is safe to assume that this point is an erroneous entry. After more exploration, it is clear that there was a decimal point was misplaced. The depth should be 23.0 not 230."
   ]
  },
  {
   "cell_type": "code",
   "execution_count": 7,
   "metadata": {},
   "outputs": [],
   "source": [
    "wq_df.at[26577, 'Site Actual Depth (ft)'] = 23.0"
   ]
  },
  {
   "cell_type": "code",
   "execution_count": 8,
   "metadata": {},
   "outputs": [
    {
     "data": {
      "text/plain": [
       "17051    44.73\n",
       "19630    36.12\n",
       "19157    35.34\n",
       "202      35.23\n",
       "19198    34.94\n",
       "6455     34.78\n",
       "3666     34.65\n",
       "18527    34.62\n",
       "5112     34.57\n",
       "7096     34.30\n",
       "Name: Bottom Salinity  (psu), dtype: float64"
      ]
     },
     "execution_count": 8,
     "metadata": {},
     "output_type": "execute_result"
    }
   ],
   "source": [
    "wq_df.nlargest(10, 'Bottom Salinity  (psu)')['Bottom Salinity  (psu)']"
   ]
  },
  {
   "cell_type": "markdown",
   "metadata": {},
   "source": [
    "While the maximum Bottom Salinity value is high, it does not appear to be an input error so I will keep it."
   ]
  },
  {
   "cell_type": "code",
   "execution_count": 9,
   "metadata": {},
   "outputs": [
    {
     "data": {
      "text/plain": [
       "17051    62.56\n",
       "202      49.38\n",
       "17208    43.66\n",
       "22574    43.59\n",
       "21503    43.47\n",
       "11085    43.38\n",
       "21788    43.32\n",
       "72       43.04\n",
       "2637     43.04\n",
       "710      43.00\n",
       "Name: Bottom Conductivity (S/m), dtype: float64"
      ]
     },
     "execution_count": 9,
     "metadata": {},
     "output_type": "execute_result"
    }
   ],
   "source": [
    "wq_df.nlargest(10, 'Bottom Conductivity (S/m)')['Bottom Conductivity (S/m)']"
   ]
  },
  {
   "cell_type": "markdown",
   "metadata": {},
   "source": [
    "While the maximum Bottom Conductivity value is high, it does not appear to be an input error so I will keep it. It is from the same sampling event as the max Bottom Salinity value."
   ]
  },
  {
   "cell_type": "code",
   "execution_count": 10,
   "metadata": {},
   "outputs": [
    {
     "data": {
      "text/html": [
       "<div>\n",
       "<style scoped>\n",
       "    .dataframe tbody tr th:only-of-type {\n",
       "        vertical-align: middle;\n",
       "    }\n",
       "\n",
       "    .dataframe tbody tr th {\n",
       "        vertical-align: top;\n",
       "    }\n",
       "\n",
       "    .dataframe thead th {\n",
       "        text-align: right;\n",
       "    }\n",
       "</style>\n",
       "<table border=\"1\" class=\"dataframe\">\n",
       "  <thead>\n",
       "    <tr style=\"text-align: right;\">\n",
       "      <th></th>\n",
       "      <th>CTD (conductivity, temperature, depth profiler) Bottom Dissolved Oxygen (mg/L)</th>\n",
       "      <th>Percentage O2 Saturation Top Sample</th>\n",
       "      <th>Percentage O2 Saturation Bottom sample</th>\n",
       "      <th>Light Trans (% transparency) Top Sample</th>\n",
       "      <th>Light Trans (% transparency) Bottom Sample</th>\n",
       "      <th>Top Sigma-T (kg/m3)</th>\n",
       "      <th>Bottom Sigma-T (kg/m3)</th>\n",
       "      <th>Winkler Method Top Dissolved Oxygen (mg/L)</th>\n",
       "      <th>Winkler Method Bottom Dissolved Oxygen (mg/L)</th>\n",
       "      <th>Secchi Depth (ft)</th>\n",
       "    </tr>\n",
       "  </thead>\n",
       "  <tbody>\n",
       "    <tr>\n",
       "      <th>count</th>\n",
       "      <td>15022.000000</td>\n",
       "      <td>17730.000000</td>\n",
       "      <td>16556.000000</td>\n",
       "      <td>11998.000000</td>\n",
       "      <td>11036.000000</td>\n",
       "      <td>18558.000000</td>\n",
       "      <td>17365.000000</td>\n",
       "      <td>22797.000000</td>\n",
       "      <td>20295.000000</td>\n",
       "      <td>23022.000000</td>\n",
       "    </tr>\n",
       "    <tr>\n",
       "      <th>mean</th>\n",
       "      <td>5.937268</td>\n",
       "      <td>81.913248</td>\n",
       "      <td>69.604548</td>\n",
       "      <td>59.592174</td>\n",
       "      <td>58.885732</td>\n",
       "      <td>15.648450</td>\n",
       "      <td>17.274156</td>\n",
       "      <td>7.465010</td>\n",
       "      <td>6.761521</td>\n",
       "      <td>3.922993</td>\n",
       "    </tr>\n",
       "    <tr>\n",
       "      <th>std</th>\n",
       "      <td>2.735208</td>\n",
       "      <td>30.885682</td>\n",
       "      <td>25.489317</td>\n",
       "      <td>21.562496</td>\n",
       "      <td>23.318782</td>\n",
       "      <td>4.181427</td>\n",
       "      <td>3.212789</td>\n",
       "      <td>2.781568</td>\n",
       "      <td>2.676117</td>\n",
       "      <td>1.872168</td>\n",
       "    </tr>\n",
       "    <tr>\n",
       "      <th>min</th>\n",
       "      <td>-3.670000</td>\n",
       "      <td>-15.900000</td>\n",
       "      <td>-51.670000</td>\n",
       "      <td>-22.860000</td>\n",
       "      <td>-13.470000</td>\n",
       "      <td>-2.720000</td>\n",
       "      <td>-2.590000</td>\n",
       "      <td>0.000000</td>\n",
       "      <td>0.000000</td>\n",
       "      <td>0.500000</td>\n",
       "    </tr>\n",
       "    <tr>\n",
       "      <th>25%</th>\n",
       "      <td>4.390000</td>\n",
       "      <td>64.600000</td>\n",
       "      <td>56.585000</td>\n",
       "      <td>50.985000</td>\n",
       "      <td>50.600000</td>\n",
       "      <td>14.130000</td>\n",
       "      <td>15.690000</td>\n",
       "      <td>5.600000</td>\n",
       "      <td>5.080000</td>\n",
       "      <td>3.000000</td>\n",
       "    </tr>\n",
       "    <tr>\n",
       "      <th>50%</th>\n",
       "      <td>5.630000</td>\n",
       "      <td>78.780000</td>\n",
       "      <td>70.590000</td>\n",
       "      <td>65.400000</td>\n",
       "      <td>66.680000</td>\n",
       "      <td>16.320000</td>\n",
       "      <td>17.410000</td>\n",
       "      <td>6.960000</td>\n",
       "      <td>6.320000</td>\n",
       "      <td>3.500000</td>\n",
       "    </tr>\n",
       "    <tr>\n",
       "      <th>75%</th>\n",
       "      <td>7.100000</td>\n",
       "      <td>93.207500</td>\n",
       "      <td>83.002500</td>\n",
       "      <td>73.960000</td>\n",
       "      <td>74.692500</td>\n",
       "      <td>18.110000</td>\n",
       "      <td>19.200000</td>\n",
       "      <td>9.030000</td>\n",
       "      <td>8.160000</td>\n",
       "      <td>5.000000</td>\n",
       "    </tr>\n",
       "    <tr>\n",
       "      <th>max</th>\n",
       "      <td>29.670000</td>\n",
       "      <td>374.220000</td>\n",
       "      <td>283.240000</td>\n",
       "      <td>131.730000</td>\n",
       "      <td>130.550000</td>\n",
       "      <td>38.940000</td>\n",
       "      <td>31.510000</td>\n",
       "      <td>23.980000</td>\n",
       "      <td>87.210000</td>\n",
       "      <td>28.500000</td>\n",
       "    </tr>\n",
       "  </tbody>\n",
       "</table>\n",
       "</div>"
      ],
      "text/plain": [
       "       CTD (conductivity, temperature, depth profiler) Bottom Dissolved Oxygen (mg/L)  \\\n",
       "count                                       15022.000000                                \n",
       "mean                                            5.937268                                \n",
       "std                                             2.735208                                \n",
       "min                                            -3.670000                                \n",
       "25%                                             4.390000                                \n",
       "50%                                             5.630000                                \n",
       "75%                                             7.100000                                \n",
       "max                                            29.670000                                \n",
       "\n",
       "       Percentage O2 Saturation Top Sample  \\\n",
       "count                         17730.000000   \n",
       "mean                             81.913248   \n",
       "std                              30.885682   \n",
       "min                             -15.900000   \n",
       "25%                              64.600000   \n",
       "50%                              78.780000   \n",
       "75%                              93.207500   \n",
       "max                             374.220000   \n",
       "\n",
       "       Percentage O2 Saturation Bottom sample  \\\n",
       "count                            16556.000000   \n",
       "mean                                69.604548   \n",
       "std                                 25.489317   \n",
       "min                                -51.670000   \n",
       "25%                                 56.585000   \n",
       "50%                                 70.590000   \n",
       "75%                                 83.002500   \n",
       "max                                283.240000   \n",
       "\n",
       "       Light Trans (% transparency) Top Sample  \\\n",
       "count                             11998.000000   \n",
       "mean                                 59.592174   \n",
       "std                                  21.562496   \n",
       "min                                 -22.860000   \n",
       "25%                                  50.985000   \n",
       "50%                                  65.400000   \n",
       "75%                                  73.960000   \n",
       "max                                 131.730000   \n",
       "\n",
       "       Light Trans (% transparency) Bottom Sample  Top Sigma-T (kg/m3)  \\\n",
       "count                                11036.000000         18558.000000   \n",
       "mean                                    58.885732            15.648450   \n",
       "std                                     23.318782             4.181427   \n",
       "min                                    -13.470000            -2.720000   \n",
       "25%                                     50.600000            14.130000   \n",
       "50%                                     66.680000            16.320000   \n",
       "75%                                     74.692500            18.110000   \n",
       "max                                    130.550000            38.940000   \n",
       "\n",
       "       Bottom Sigma-T (kg/m3)  Winkler Method Top Dissolved Oxygen (mg/L)  \\\n",
       "count            17365.000000                                22797.000000   \n",
       "mean                17.274156                                    7.465010   \n",
       "std                  3.212789                                    2.781568   \n",
       "min                 -2.590000                                    0.000000   \n",
       "25%                 15.690000                                    5.600000   \n",
       "50%                 17.410000                                    6.960000   \n",
       "75%                 19.200000                                    9.030000   \n",
       "max                 31.510000                                   23.980000   \n",
       "\n",
       "       Winkler Method Bottom Dissolved Oxygen (mg/L)  Secchi Depth (ft)  \n",
       "count                                   20295.000000       23022.000000  \n",
       "mean                                        6.761521           3.922993  \n",
       "std                                         2.676117           1.872168  \n",
       "min                                         0.000000           0.500000  \n",
       "25%                                         5.080000           3.000000  \n",
       "50%                                         6.320000           3.500000  \n",
       "75%                                         8.160000           5.000000  \n",
       "max                                        87.210000          28.500000  "
      ]
     },
     "execution_count": 10,
     "metadata": {},
     "output_type": "execute_result"
    }
   ],
   "source": [
    "wq_df_int_subset = wq_df_int.iloc[:, 10:20]\n",
    "wq_df_int_subset.describe()"
   ]
  },
  {
   "cell_type": "code",
   "execution_count": 11,
   "metadata": {},
   "outputs": [
    {
     "data": {
      "image/png": "[encoded data removed]",
      "text/plain": [
       "<Figure size 432x288 with 1 Axes>"
      ]
     },
     "metadata": {
      "needs_background": "light"
     },
     "output_type": "display_data"
    },
    {
     "data": {
      "image/png": "[encoded data removed]",
      "text/plain": [
       "<Figure size 432x288 with 1 Axes>"
      ]
     },
     "metadata": {
      "needs_background": "light"
     },
     "output_type": "display_data"
    },
    {
     "data": {
      "image/png": "[encoded data removed]",
      "text/plain": [
       "<Figure size 432x288 with 1 Axes>"
      ]
     },
     "metadata": {
      "needs_background": "light"
     },
     "output_type": "display_data"
    },
    {
     "data": {
      "image/png": "[encoded data removed]",
      "text/plain": [
       "<Figure size 432x288 with 1 Axes>"
      ]
     },
     "metadata": {
      "needs_background": "light"
     },
     "output_type": "display_data"
    },
    {
     "data": {
      "image/png": "[encoded data removed]",
      "text/plain": [
       "<Figure size 432x288 with 1 Axes>"
      ]
     },
     "metadata": {
      "needs_background": "light"
     },
     "output_type": "display_data"
    },
    {
     "data": {
      "image/png": "[encoded data removed]",
      "text/plain": [
       "<Figure size 432x288 with 1 Axes>"
      ]
     },
     "metadata": {
      "needs_background": "light"
     },
     "output_type": "display_data"
    },
    {
     "data": {
      "image/png": "[encoded data removed]",
      "text/plain": [
       "<Figure size 432x288 with 1 Axes>"
      ]
     },
     "metadata": {
      "needs_background": "light"
     },
     "output_type": "display_data"
    },
    {
     "data": {
      "image/png": "[encoded data removed]",
      "text/plain": [
       "<Figure size 432x288 with 1 Axes>"
      ]
     },
     "metadata": {
      "needs_background": "light"
     },
     "output_type": "display_data"
    },
    {
     "data": {
      "image/png": "[encoded data removed]",
      "text/plain": [
       "<Figure size 432x288 with 1 Axes>"
      ]
     },
     "metadata": {
      "needs_background": "light"
     },
     "output_type": "display_data"
    },
    {
     "data": {
      "image/png": "[encoded data removed]",
      "text/plain": [
       "<Figure size 432x288 with 1 Axes>"
      ]
     },
     "metadata": {
      "needs_background": "light"
     },
     "output_type": "display_data"
    }
   ],
   "source": [
    "for col in wq_df_int_subset:\n",
    "    _ = plt.figure()\n",
    "    _ = wq_df_int[col].plot(kind='hist', bins=15)\n",
    "    _ = plt.yscale('log')\n",
    "    _ = plt.title(col)\n",
    "    _ = plt.show()"
   ]
  },
  {
   "cell_type": "markdown",
   "metadata": {},
   "source": [
    "- Questionable values:\n",
    "Percentage O2 Sat Top (max), Percentage O2 Bottom (min, max), Top sigma (max),  Winkler Method Bottom DO (max)"
   ]
  },
  {
   "cell_type": "code",
   "execution_count": 12,
   "metadata": {
    "scrolled": true
   },
   "outputs": [
    {
     "data": {
      "text/plain": [
       "14558    374.22\n",
       "19702    293.39\n",
       "16142    275.99\n",
       "5848     256.13\n",
       "9093     251.64\n",
       "17089    241.02\n",
       "22433    239.78\n",
       "12420    238.83\n",
       "13192    237.21\n",
       "28383    236.75\n",
       "Name: Percentage O2 Saturation Top Sample, dtype: float64"
      ]
     },
     "execution_count": 12,
     "metadata": {},
     "output_type": "execute_result"
    }
   ],
   "source": [
    "wq_df.nlargest(10, 'Percentage O2 Saturation Top Sample')['Percentage O2 Saturation Top Sample']"
   ]
  },
  {
   "cell_type": "markdown",
   "metadata": {},
   "source": [
    "Despite being an exceedingly high measurement, dissolved oxygen can have wildly different values, so I will keep this outlier as well."
   ]
  },
  {
   "cell_type": "code",
   "execution_count": 13,
   "metadata": {},
   "outputs": [
    {
     "data": {
      "text/plain": [
       "23223    283.24\n",
       "16431    266.24\n",
       "433      240.04\n",
       "11395    230.27\n",
       "17216    214.18\n",
       "7576     214.13\n",
       "23235    210.53\n",
       "17667    210.06\n",
       "15887    208.71\n",
       "3130     205.37\n",
       "Name: Percentage O2 Saturation Bottom sample, dtype: float64"
      ]
     },
     "execution_count": 13,
     "metadata": {},
     "output_type": "execute_result"
    }
   ],
   "source": [
    "wq_df.nlargest(10, 'Percentage O2 Saturation Bottom sample')['Percentage O2 Saturation Bottom sample']"
   ]
  },
  {
   "cell_type": "code",
   "execution_count": 14,
   "metadata": {},
   "outputs": [
    {
     "data": {
      "text/plain": [
       "24349   -51.67\n",
       "5848     -6.05\n",
       "2650     -5.91\n",
       "10865    -4.23\n",
       "6007     -3.07\n",
       "19069    -1.27\n",
       "4012     -0.78\n",
       "12440    -0.41\n",
       "21475    -0.38\n",
       "7023     -0.28\n",
       "Name: Percentage O2 Saturation Bottom sample, dtype: float64"
      ]
     },
     "execution_count": 14,
     "metadata": {},
     "output_type": "execute_result"
    }
   ],
   "source": [
    "wq_df.nsmallest(10, 'Percentage O2 Saturation Bottom sample')['Percentage O2 Saturation Bottom sample']"
   ]
  },
  {
   "cell_type": "markdown",
   "metadata": {},
   "source": [
    "The same applies to this bottom sample as the top."
   ]
  },
  {
   "cell_type": "code",
   "execution_count": 15,
   "metadata": {},
   "outputs": [
    {
     "data": {
      "text/plain": [
       "9413     38.94\n",
       "23244    38.52\n",
       "14813    33.20\n",
       "4631     28.21\n",
       "2403     27.17\n",
       "18527    26.90\n",
       "5112     26.62\n",
       "6455     26.09\n",
       "282      25.93\n",
       "9736     25.82\n",
       "Name: Top Sigma-T (kg/m3), dtype: float64"
      ]
     },
     "execution_count": 15,
     "metadata": {},
     "output_type": "execute_result"
    }
   ],
   "source": [
    "wq_df.nlargest(10, 'Top Sigma-T (kg/m3)')['Top Sigma-T (kg/m3)']"
   ]
  },
  {
   "cell_type": "markdown",
   "metadata": {},
   "source": [
    "While high, these values appear to be outliers and not input errors."
   ]
  },
  {
   "cell_type": "code",
   "execution_count": 16,
   "metadata": {},
   "outputs": [
    {
     "data": {
      "text/plain": [
       "28031    87.21\n",
       "22915    20.02\n",
       "3322     19.98\n",
       "3391     19.96\n",
       "25       19.49\n",
       "22257    19.34\n",
       "2692     19.27\n",
       "8935     18.59\n",
       "10297    18.57\n",
       "18088    18.50\n",
       "16150    18.01\n",
       "8481     17.71\n",
       "7402     17.70\n",
       "14905    17.54\n",
       "18913    17.42\n",
       "10656    17.41\n",
       "10778    17.37\n",
       "7463     17.32\n",
       "19288    17.21\n",
       "18300    17.20\n",
       "14100    17.06\n",
       "21582    16.99\n",
       "16176    16.97\n",
       "8509     16.89\n",
       "21913    16.89\n",
       "Name: Winkler Method Bottom Dissolved Oxygen (mg/L), dtype: float64"
      ]
     },
     "execution_count": 16,
     "metadata": {},
     "output_type": "execute_result"
    }
   ],
   "source": [
    "wq_df.nlargest(25, 'Winkler Method Bottom Dissolved Oxygen (mg/L)')['Winkler Method Bottom Dissolved Oxygen (mg/L)']"
   ]
  },
  {
   "cell_type": "code",
   "execution_count": 17,
   "metadata": {},
   "outputs": [],
   "source": [
    "wq_df.at[28031, 'Winkler Method Bottom Dissolved Oxygen (mg/L)'] = 8.72"
   ]
  },
  {
   "cell_type": "code",
   "execution_count": null,
   "metadata": {},
   "outputs": [],
   "source": []
  },
  {
   "cell_type": "code",
   "execution_count": 18,
   "metadata": {},
   "outputs": [
    {
     "data": {
      "text/html": [
       "<div>\n",
       "<style scoped>\n",
       "    .dataframe tbody tr th:only-of-type {\n",
       "        vertical-align: middle;\n",
       "    }\n",
       "\n",
       "    .dataframe tbody tr th {\n",
       "        vertical-align: top;\n",
       "    }\n",
       "\n",
       "    .dataframe thead th {\n",
       "        text-align: right;\n",
       "    }\n",
       "</style>\n",
       "<table border=\"1\" class=\"dataframe\">\n",
       "  <thead>\n",
       "    <tr style=\"text-align: right;\">\n",
       "      <th></th>\n",
       "      <th>Top PH</th>\n",
       "      <th>Bottom PH</th>\n",
       "      <th>Top Fecal Coliform Bacteria (Cells/100mL)</th>\n",
       "      <th>Top Enterococci Bacteria (Cells/100mL)</th>\n",
       "      <th>Top Nitrate/Nitrite (mg/L)</th>\n",
       "      <th>Top Ammonium (mg/L)</th>\n",
       "      <th>Top Ortho-Phosphorus (mg/L)</th>\n",
       "      <th>Top Total Kjeldhal Nitrogen (mg/L)</th>\n",
       "      <th>Top Silica (mg/L)</th>\n",
       "      <th>Total Phosphorus(mg/L)</th>\n",
       "    </tr>\n",
       "  </thead>\n",
       "  <tbody>\n",
       "    <tr>\n",
       "      <th>count</th>\n",
       "      <td>27625.000000</td>\n",
       "      <td>20673.000000</td>\n",
       "      <td>28862.000000</td>\n",
       "      <td>28903.000000</td>\n",
       "      <td>28602.000000</td>\n",
       "      <td>28574.000000</td>\n",
       "      <td>19297.000000</td>\n",
       "      <td>28533.000000</td>\n",
       "      <td>28507.000000</td>\n",
       "      <td>28554.000000</td>\n",
       "    </tr>\n",
       "    <tr>\n",
       "      <th>mean</th>\n",
       "      <td>7.649962</td>\n",
       "      <td>7.624497</td>\n",
       "      <td>2508.636096</td>\n",
       "      <td>463.049614</td>\n",
       "      <td>0.388856</td>\n",
       "      <td>0.452576</td>\n",
       "      <td>0.165340</td>\n",
       "      <td>1.183278</td>\n",
       "      <td>2.151428</td>\n",
       "      <td>0.249150</td>\n",
       "    </tr>\n",
       "    <tr>\n",
       "      <th>std</th>\n",
       "      <td>0.557454</td>\n",
       "      <td>0.574186</td>\n",
       "      <td>15523.986296</td>\n",
       "      <td>5052.267825</td>\n",
       "      <td>0.566747</td>\n",
       "      <td>0.918426</td>\n",
       "      <td>0.275925</td>\n",
       "      <td>1.865418</td>\n",
       "      <td>2.331622</td>\n",
       "      <td>0.330311</td>\n",
       "    </tr>\n",
       "    <tr>\n",
       "      <th>min</th>\n",
       "      <td>0.330000</td>\n",
       "      <td>0.000000</td>\n",
       "      <td>0.000000</td>\n",
       "      <td>0.000000</td>\n",
       "      <td>0.001000</td>\n",
       "      <td>0.002000</td>\n",
       "      <td>0.000000</td>\n",
       "      <td>0.033000</td>\n",
       "      <td>0.014000</td>\n",
       "      <td>0.009000</td>\n",
       "    </tr>\n",
       "    <tr>\n",
       "      <th>25%</th>\n",
       "      <td>7.400000</td>\n",
       "      <td>7.400000</td>\n",
       "      <td>11.000000</td>\n",
       "      <td>2.000000</td>\n",
       "      <td>0.179000</td>\n",
       "      <td>0.193000</td>\n",
       "      <td>0.070000</td>\n",
       "      <td>0.608000</td>\n",
       "      <td>1.020000</td>\n",
       "      <td>0.129000</td>\n",
       "    </tr>\n",
       "    <tr>\n",
       "      <th>50%</th>\n",
       "      <td>7.620000</td>\n",
       "      <td>7.600000</td>\n",
       "      <td>50.000000</td>\n",
       "      <td>6.000000</td>\n",
       "      <td>0.304000</td>\n",
       "      <td>0.315000</td>\n",
       "      <td>0.115000</td>\n",
       "      <td>0.858000</td>\n",
       "      <td>1.697000</td>\n",
       "      <td>0.181000</td>\n",
       "    </tr>\n",
       "    <tr>\n",
       "      <th>75%</th>\n",
       "      <td>7.870000</td>\n",
       "      <td>7.830000</td>\n",
       "      <td>264.000000</td>\n",
       "      <td>32.000000</td>\n",
       "      <td>0.438000</td>\n",
       "      <td>0.472000</td>\n",
       "      <td>0.164000</td>\n",
       "      <td>1.270000</td>\n",
       "      <td>2.540000</td>\n",
       "      <td>0.258000</td>\n",
       "    </tr>\n",
       "    <tr>\n",
       "      <th>max</th>\n",
       "      <td>78.000000</td>\n",
       "      <td>75.000000</td>\n",
       "      <td>200000.000000</td>\n",
       "      <td>200000.000000</td>\n",
       "      <td>12.100000</td>\n",
       "      <td>29.000000</td>\n",
       "      <td>5.210000</td>\n",
       "      <td>44.800000</td>\n",
       "      <td>28.834000</td>\n",
       "      <td>15.500000</td>\n",
       "    </tr>\n",
       "  </tbody>\n",
       "</table>\n",
       "</div>"
      ],
      "text/plain": [
       "             Top PH     Bottom PH  Top Fecal Coliform Bacteria (Cells/100mL)  \\\n",
       "count  27625.000000  20673.000000                               28862.000000   \n",
       "mean       7.649962      7.624497                                2508.636096   \n",
       "std        0.557454      0.574186                               15523.986296   \n",
       "min        0.330000      0.000000                                   0.000000   \n",
       "25%        7.400000      7.400000                                  11.000000   \n",
       "50%        7.620000      7.600000                                  50.000000   \n",
       "75%        7.870000      7.830000                                 264.000000   \n",
       "max       78.000000     75.000000                              200000.000000   \n",
       "\n",
       "       Top Enterococci Bacteria (Cells/100mL)  Top Nitrate/Nitrite (mg/L)  \\\n",
       "count                            28903.000000                28602.000000   \n",
       "mean                               463.049614                    0.388856   \n",
       "std                               5052.267825                    0.566747   \n",
       "min                                  0.000000                    0.001000   \n",
       "25%                                  2.000000                    0.179000   \n",
       "50%                                  6.000000                    0.304000   \n",
       "75%                                 32.000000                    0.438000   \n",
       "max                             200000.000000                   12.100000   \n",
       "\n",
       "       Top Ammonium (mg/L)  Top Ortho-Phosphorus (mg/L)  \\\n",
       "count         28574.000000                 19297.000000   \n",
       "mean              0.452576                     0.165340   \n",
       "std               0.918426                     0.275925   \n",
       "min               0.002000                     0.000000   \n",
       "25%               0.193000                     0.070000   \n",
       "50%               0.315000                     0.115000   \n",
       "75%               0.472000                     0.164000   \n",
       "max              29.000000                     5.210000   \n",
       "\n",
       "       Top Total Kjeldhal Nitrogen (mg/L)  Top Silica (mg/L)  \\\n",
       "count                        28533.000000       28507.000000   \n",
       "mean                             1.183278           2.151428   \n",
       "std                              1.865418           2.331622   \n",
       "min                              0.033000           0.014000   \n",
       "25%                              0.608000           1.020000   \n",
       "50%                              0.858000           1.697000   \n",
       "75%                              1.270000           2.540000   \n",
       "max                             44.800000          28.834000   \n",
       "\n",
       "       Total Phosphorus(mg/L)  \n",
       "count            28554.000000  \n",
       "mean                 0.249150  \n",
       "std                  0.330311  \n",
       "min                  0.009000  \n",
       "25%                  0.129000  \n",
       "50%                  0.181000  \n",
       "75%                  0.258000  \n",
       "max                 15.500000  "
      ]
     },
     "execution_count": 18,
     "metadata": {},
     "output_type": "execute_result"
    }
   ],
   "source": [
    "wq_df_int_subset = wq_df_int.iloc[:, 20:30]\n",
    "wq_df_int_subset.describe()"
   ]
  },
  {
   "cell_type": "code",
   "execution_count": 19,
   "metadata": {},
   "outputs": [
    {
     "data": {
      "image/png": "[encoded data removed]",
      "text/plain": [
       "<Figure size 432x288 with 1 Axes>"
      ]
     },
     "metadata": {
      "needs_background": "light"
     },
     "output_type": "display_data"
    },
    {
     "data": {
      "image/png": "[encoded data removed]",
      "text/plain": [
       "<Figure size 432x288 with 1 Axes>"
      ]
     },
     "metadata": {
      "needs_background": "light"
     },
     "output_type": "display_data"
    },
    {
     "data": {
      "image/png": "[encoded data removed]",
      "text/plain": [
       "<Figure size 432x288 with 1 Axes>"
      ]
     },
     "metadata": {
      "needs_background": "light"
     },
     "output_type": "display_data"
    },
    {
     "data": {
      "image/png": "[encoded data removed]",
      "text/plain": [
       "<Figure size 432x288 with 1 Axes>"
      ]
     },
     "metadata": {
      "needs_background": "light"
     },
     "output_type": "display_data"
    },
    {
     "data": {
      "image/png": "[encoded data removed]",
      "text/plain": [
       "<Figure size 432x288 with 1 Axes>"
      ]
     },
     "metadata": {
      "needs_background": "light"
     },
     "output_type": "display_data"
    },
    {
     "data": {
      "image/png": "[encoded data removed]",
      "text/plain": [
       "<Figure size 432x288 with 1 Axes>"
      ]
     },
     "metadata": {
      "needs_background": "light"
     },
     "output_type": "display_data"
    },
    {
     "data": {
      "image/png": "[encoded data removed]",
      "text/plain": [
       "<Figure size 432x288 with 1 Axes>"
      ]
     },
     "metadata": {
      "needs_background": "light"
     },
     "output_type": "display_data"
    },
    {
     "data": {
      "image/png": "[encoded data removed]",
      "text/plain": [
       "<Figure size 432x288 with 1 Axes>"
      ]
     },
     "metadata": {
      "needs_background": "light"
     },
     "output_type": "display_data"
    },
    {
     "data": {
      "image/png": "[encoded data removed]",
      "text/plain": [
       "<Figure size 432x288 with 1 Axes>"
      ]
     },
     "metadata": {
      "needs_background": "light"
     },
     "output_type": "display_data"
    },
    {
     "data": {
      "image/png": "[encoded data removed]",
      "text/plain": [
       "<Figure size 432x288 with 1 Axes>"
      ]
     },
     "metadata": {
      "needs_background": "light"
     },
     "output_type": "display_data"
    }
   ],
   "source": [
    "for col in wq_df_int_subset:\n",
    "    _ = plt.figure()\n",
    "    _ = wq_df_int[col].plot(kind='hist', bins=15)\n",
    "    _ = plt.yscale('log')\n",
    "    _ = plt.title(col)\n",
    "    _ = plt.show()"
   ]
  },
  {
   "cell_type": "markdown",
   "metadata": {},
   "source": [
    "- Questionable values: Top pH (max), Bottom pH (max), Top Fecal (max), Top Enterococci (max), Total Phosphorous (max)"
   ]
  },
  {
   "cell_type": "code",
   "execution_count": 20,
   "metadata": {},
   "outputs": [
    {
     "data": {
      "text/plain": [
       "25444    78.00\n",
       "1032     11.34\n",
       "11150    11.16\n",
       "25683     9.52\n",
       "20573     9.11\n",
       "Name: Top PH, dtype: float64"
      ]
     },
     "execution_count": 20,
     "metadata": {},
     "output_type": "execute_result"
    }
   ],
   "source": [
    "wq_df.nlargest(5, 'Top PH')['Top PH']"
   ]
  },
  {
   "cell_type": "code",
   "execution_count": 21,
   "metadata": {},
   "outputs": [],
   "source": [
    "wq_df.at[25444, 'Top PH'] = 7.80"
   ]
  },
  {
   "cell_type": "code",
   "execution_count": 22,
   "metadata": {},
   "outputs": [
    {
     "data": {
      "text/plain": [
       "25344    75.00\n",
       "21549     8.96\n",
       "16150     8.92\n",
       "13185     8.90\n",
       "3130      8.88\n",
       "10778     8.85\n",
       "26864     8.84\n",
       "30593     8.84\n",
       "18090     8.83\n",
       "12230     8.82\n",
       "Name: Bottom PH, dtype: float64"
      ]
     },
     "execution_count": 22,
     "metadata": {},
     "output_type": "execute_result"
    }
   ],
   "source": [
    "wq_df.nlargest(10, 'Bottom PH')['Bottom PH']"
   ]
  },
  {
   "cell_type": "code",
   "execution_count": 23,
   "metadata": {},
   "outputs": [],
   "source": [
    "wq_df.at[25344, 'Bottom PH'] = 7.50"
   ]
  },
  {
   "cell_type": "code",
   "execution_count": null,
   "metadata": {},
   "outputs": [
    {
     "data": {
      "text/plain": [
       "2907     200000.0\n",
       "3423     200000.0\n",
       "8761     200000.0\n",
       "11484    200000.0\n",
       "18824    200000.0\n",
       "13595    196000.0\n",
       "13717    192000.0\n",
       "22908    127000.0\n",
       "2855     124000.0\n",
       "22245    122000.0\n",
       "17725    121000.0\n",
       "20383    115000.0\n",
       "776      112000.0\n",
       "19834    110000.0\n",
       "20859    110000.0\n",
       "1617     106000.0\n",
       "17763    104000.0\n",
       "19567    104000.0\n",
       "13619    103000.0\n",
       "214      100000.0\n",
       "6291      92000.0\n",
       "22262     91000.0\n",
       "14338     90000.0\n",
       "19626     88000.0\n",
       "22392     88000.0\n",
       "Name: Top Enterococci Bacteria (Cells/100mL), dtype: float64"
      ]
     },
     "execution_count": 24,
     "metadata": {},
     "output_type": "execute_result"
    }
   ],
   "source": [
    "wq_df.nlargest(25, 'Top Enterococci Bacteria (Cells/100mL)')['Top Enterococci Bacteria (Cells/100mL)']"
   ]
  },
  {
   "cell_type": "markdown",
   "metadata": {},
   "source": [
    "Values don't appear to be errors."
   ]
  },
  {
   "cell_type": "code",
   "execution_count": null,
   "metadata": {},
   "outputs": [
    {
     "data": {
      "text/plain": [
       "5735     15.500\n",
       "10660     7.389\n",
       "720       7.050\n",
       "10641     6.900\n",
       "16253     6.360\n",
       "13518     5.630\n",
       "24217     5.600\n",
       "15119     5.500\n",
       "8907      5.162\n",
       "10049     4.830\n",
       "12986     4.611\n",
       "17663     4.520\n",
       "23060     4.310\n",
       "20497     4.300\n",
       "24183     4.190\n",
       "9011      4.167\n",
       "17727     4.100\n",
       "25763     3.989\n",
       "3970      3.970\n",
       "3079      3.960\n",
       "25468     3.906\n",
       "14472     3.900\n",
       "19213     3.840\n",
       "9410      3.810\n",
       "2532      3.776\n",
       "Name: Total Phosphorus(mg/L), dtype: float64"
      ]
     },
     "execution_count": 25,
     "metadata": {},
     "output_type": "execute_result"
    }
   ],
   "source": [
    "wq_df.nlargest(25, 'Total Phosphorus(mg/L)')['Total Phosphorus(mg/L)']"
   ]
  },
  {
   "cell_type": "code",
   "execution_count": null,
   "metadata": {},
   "outputs": [
    {
     "data": {
      "text/plain": [
       "Sampling Location                                                                                 HC2\n",
       "Sample Date                                                                       2011-06-27 00:00:00\n",
       "Sample Time                                                                                  12:06:00\n",
       "Weather Condition (Dry or Wet)                                                                      D\n",
       "Top Sample Temperature (ºC)                                                                       NaN\n",
       "Bottom Sample Temperature (ºC)                                                                    NaN\n",
       "Site Actual Depth (ft)                                                                            7.4\n",
       "Top Sample Depth(ft)                                                                              NaN\n",
       "Bottom Sample Depth (ft)                                                                          NaN\n",
       "Top Salinity  (psu)                                                                               NaN\n",
       "Bottom Salinity  (psu)                                                                            NaN\n",
       "Top Conductivity (S/m)                                                                            NaN\n",
       "Bottom Conductivity (S/m)                                                                         NaN\n",
       "CTD (conductivity, temperature, depth profiler) Top Dissolved Oxygen (mg/L)                       NaN\n",
       "CTD (conductivity, temperature, depth profiler) Bottom Dissolved Oxygen (mg/L)                    NaN\n",
       "Percentage O2 Saturation Top Sample                                                               NaN\n",
       "Percentage O2 Saturation Bottom sample                                                            NaN\n",
       "Light Trans (% transparency) Top Sample                                                           NaN\n",
       "Light Trans (% transparency) Bottom Sample                                                        NaN\n",
       "Top Sigma-T (kg/m3)                                                                               NaN\n",
       "Bottom Sigma-T (kg/m3)                                                                            NaN\n",
       "Winkler Method Top Dissolved Oxygen (mg/L)                                                        NaN\n",
       "Winkler Method Bottom Dissolved Oxygen (mg/L)                                                     NaN\n",
       "Secchi Depth (ft)                                                                                 NaN\n",
       "Top PH                                                                                           7.46\n",
       "Bottom PH                                                                                         NaN\n",
       "Top Fecal Coliform Bacteria (Cells/100mL)                                                           4\n",
       "Top Enterococci Bacteria (Cells/100mL)                                                              2\n",
       "Top Nitrate/Nitrite (mg/L)                                                                       4.44\n",
       "Top Ammonium (mg/L)                                                                              3.19\n",
       "Top Ortho-Phosphorus (mg/L)                                                                      3.12\n",
       "Top Total Kjeldhal Nitrogen (mg/L)                                                               21.9\n",
       "Top Silica (mg/L)                                                                                9.42\n",
       "Total Phosphorus(mg/L)                                                                           15.5\n",
       "Top Total Suspended Solid (mg/L)                                                                    6\n",
       "Bottom Total Suspended Solid (mg/L)                                                               NaN\n",
       "Top Active Chlorophyll 'A' (µg/L)                                                                 2.5\n",
       "Top Dissolved Organic Carbon (mg/L)                                                               NaN\n",
       "Long                                                                                         -73.8768\n",
       "Lat                                                                                           40.6508\n",
       "Name: 5735, dtype: object"
      ]
     },
     "execution_count": 26,
     "metadata": {},
     "output_type": "execute_result"
    }
   ],
   "source": [
    "wq_df.iloc[5735]"
   ]
  },
  {
   "cell_type": "markdown",
   "metadata": {},
   "source": [
    "Based on other measurements from this sampling event, this value does not appear to be an input error."
   ]
  },
  {
   "cell_type": "code",
   "execution_count": null,
   "metadata": {},
   "outputs": [
    {
     "data": {
      "text/html": [
       "<div>\n",
       "<style scoped>\n",
       "    .dataframe tbody tr th:only-of-type {\n",
       "        vertical-align: middle;\n",
       "    }\n",
       "\n",
       "    .dataframe tbody tr th {\n",
       "        vertical-align: top;\n",
       "    }\n",
       "\n",
       "    .dataframe thead th {\n",
       "        text-align: right;\n",
       "    }\n",
       "</style>\n",
       "<table border=\"1\" class=\"dataframe\">\n",
       "  <thead>\n",
       "    <tr style=\"text-align: right;\">\n",
       "      <th></th>\n",
       "      <th>Top Total Suspended Solid (mg/L)</th>\n",
       "      <th>Bottom Total Suspended Solid (mg/L)</th>\n",
       "      <th>Top Active Chlorophyll 'A' (µg/L)</th>\n",
       "      <th>Top Dissolved Organic Carbon (mg/L)</th>\n",
       "      <th>Long</th>\n",
       "      <th>Lat</th>\n",
       "    </tr>\n",
       "  </thead>\n",
       "  <tbody>\n",
       "    <tr>\n",
       "      <th>count</th>\n",
       "      <td>28503.000000</td>\n",
       "      <td>20709.000000</td>\n",
       "      <td>28474.000000</td>\n",
       "      <td>27732.000000</td>\n",
       "      <td>31003.000000</td>\n",
       "      <td>31003.000000</td>\n",
       "    </tr>\n",
       "    <tr>\n",
       "      <th>mean</th>\n",
       "      <td>14.555029</td>\n",
       "      <td>17.591278</td>\n",
       "      <td>16.219485</td>\n",
       "      <td>3.359917</td>\n",
       "      <td>-73.929836</td>\n",
       "      <td>40.691136</td>\n",
       "    </tr>\n",
       "    <tr>\n",
       "      <th>std</th>\n",
       "      <td>18.827639</td>\n",
       "      <td>21.909812</td>\n",
       "      <td>25.121986</td>\n",
       "      <td>1.290050</td>\n",
       "      <td>0.117710</td>\n",
       "      <td>0.100272</td>\n",
       "    </tr>\n",
       "    <tr>\n",
       "      <th>min</th>\n",
       "      <td>0.000000</td>\n",
       "      <td>0.000000</td>\n",
       "      <td>0.090000</td>\n",
       "      <td>0.500000</td>\n",
       "      <td>-74.258833</td>\n",
       "      <td>40.484500</td>\n",
       "    </tr>\n",
       "    <tr>\n",
       "      <th>25%</th>\n",
       "      <td>7.000000</td>\n",
       "      <td>7.400000</td>\n",
       "      <td>2.650000</td>\n",
       "      <td>2.700000</td>\n",
       "      <td>-73.989073</td>\n",
       "      <td>40.627000</td>\n",
       "    </tr>\n",
       "    <tr>\n",
       "      <th>50%</th>\n",
       "      <td>11.000000</td>\n",
       "      <td>12.000000</td>\n",
       "      <td>6.780000</td>\n",
       "      <td>3.200000</td>\n",
       "      <td>-73.899833</td>\n",
       "      <td>40.666667</td>\n",
       "    </tr>\n",
       "    <tr>\n",
       "      <th>75%</th>\n",
       "      <td>18.000000</td>\n",
       "      <td>21.000000</td>\n",
       "      <td>19.600000</td>\n",
       "      <td>3.800000</td>\n",
       "      <td>-73.847613</td>\n",
       "      <td>40.782500</td>\n",
       "    </tr>\n",
       "    <tr>\n",
       "      <th>max</th>\n",
       "      <td>1805.000000</td>\n",
       "      <td>704.400000</td>\n",
       "      <td>770.000000</td>\n",
       "      <td>97.000000</td>\n",
       "      <td>-73.751008</td>\n",
       "      <td>40.914500</td>\n",
       "    </tr>\n",
       "  </tbody>\n",
       "</table>\n",
       "</div>"
      ],
      "text/plain": [
       "       Top Total Suspended Solid (mg/L)  Bottom Total Suspended Solid (mg/L)  \\\n",
       "count                      28503.000000                         20709.000000   \n",
       "mean                          14.555029                            17.591278   \n",
       "std                           18.827639                            21.909812   \n",
       "min                            0.000000                             0.000000   \n",
       "25%                            7.000000                             7.400000   \n",
       "50%                           11.000000                            12.000000   \n",
       "75%                           18.000000                            21.000000   \n",
       "max                         1805.000000                           704.400000   \n",
       "\n",
       "       Top Active Chlorophyll 'A' (µg/L)  Top Dissolved Organic Carbon (mg/L)  \\\n",
       "count                       28474.000000                         27732.000000   \n",
       "mean                           16.219485                             3.359917   \n",
       "std                            25.121986                             1.290050   \n",
       "min                             0.090000                             0.500000   \n",
       "25%                             2.650000                             2.700000   \n",
       "50%                             6.780000                             3.200000   \n",
       "75%                            19.600000                             3.800000   \n",
       "max                           770.000000                            97.000000   \n",
       "\n",
       "               Long           Lat  \n",
       "count  31003.000000  31003.000000  \n",
       "mean     -73.929836     40.691136  \n",
       "std        0.117710      0.100272  \n",
       "min      -74.258833     40.484500  \n",
       "25%      -73.989073     40.627000  \n",
       "50%      -73.899833     40.666667  \n",
       "75%      -73.847613     40.782500  \n",
       "max      -73.751008     40.914500  "
      ]
     },
     "execution_count": 27,
     "metadata": {},
     "output_type": "execute_result"
    }
   ],
   "source": [
    "wq_df_int_subset = wq_df_int.iloc[:, 30:]\n",
    "wq_df_int_subset.describe()"
   ]
  },
  {
   "cell_type": "code",
   "execution_count": null,
   "metadata": {},
   "outputs": [
    {
     "data": {
      "image/png": "[encoded data removed]",
      "text/plain": [
       "<Figure size 432x288 with 1 Axes>"
      ]
     },
     "metadata": {
      "needs_background": "light"
     },
     "output_type": "display_data"
    },
    {
     "data": {
      "image/png": "[encoded data removed]",
      "text/plain": [
       "<Figure size 432x288 with 1 Axes>"
      ]
     },
     "metadata": {
      "needs_background": "light"
     },
     "output_type": "display_data"
    }
   ],
   "source": [
    "for col in wq_df_int_subset:\n",
    "    _ = plt.figure()\n",
    "    _ = wq_df_int[col].plot(kind='hist', bins=15)\n",
    "    _ = plt.yscale('log')\n",
    "    _ = plt.title(col)\n",
    "    _ = plt.show()"
   ]
  },
  {
   "cell_type": "markdown",
   "metadata": {},
   "source": [
    "- Questionable values: Top TSS (max), Bottom TSS (max), Top Actiive Chlorophyll (max), Top Dissolved Organic Carbon"
   ]
  },
  {
   "cell_type": "code",
   "execution_count": null,
   "metadata": {},
   "outputs": [],
   "source": []
  },
  {
   "cell_type": "code",
   "execution_count": null,
   "metadata": {},
   "outputs": [],
   "source": []
  },
  {
   "cell_type": "code",
   "execution_count": null,
   "metadata": {},
   "outputs": [],
   "source": []
  },
  {
   "cell_type": "code",
   "execution_count": null,
   "metadata": {},
   "outputs": [],
   "source": []
  },
  {
   "cell_type": "code",
   "execution_count": null,
   "metadata": {},
   "outputs": [],
   "source": []
  },
  {
   "cell_type": "code",
   "execution_count": null,
   "metadata": {},
   "outputs": [],
   "source": []
  },
  {
   "cell_type": "code",
   "execution_count": null,
   "metadata": {},
   "outputs": [],
   "source": []
  },
  {
   "cell_type": "code",
   "execution_count": null,
   "metadata": {},
   "outputs": [],
   "source": []
  },
  {
   "cell_type": "code",
   "execution_count": null,
   "metadata": {},
   "outputs": [],
   "source": []
  },
  {
   "cell_type": "code",
   "execution_count": null,
   "metadata": {},
   "outputs": [],
   "source": []
  },
  {
   "cell_type": "code",
   "execution_count": null,
   "metadata": {},
   "outputs": [],
   "source": []
  },
  {
   "cell_type": "code",
   "execution_count": null,
   "metadata": {},
   "outputs": [],
   "source": []
  },
  {
   "cell_type": "code",
   "execution_count": null,
   "metadata": {},
   "outputs": [],
   "source": []
  },
  {
   "cell_type": "code",
   "execution_count": null,
   "metadata": {},
   "outputs": [],
   "source": []
  },
  {
   "cell_type": "code",
   "execution_count": null,
   "metadata": {},
   "outputs": [],
   "source": []
  },
  {
   "cell_type": "code",
   "execution_count": null,
   "metadata": {},
   "outputs": [],
   "source": []
  },
  {
   "cell_type": "code",
   "execution_count": null,
   "metadata": {},
   "outputs": [],
   "source": []
  },
  {
   "cell_type": "code",
   "execution_count": null,
   "metadata": {},
   "outputs": [],
   "source": []
  },
  {
   "cell_type": "code",
   "execution_count": null,
   "metadata": {},
   "outputs": [],
   "source": []
  },
  {
   "cell_type": "code",
   "execution_count": null,
   "metadata": {},
   "outputs": [],
   "source": []
  },
  {
   "cell_type": "code",
   "execution_count": null,
   "metadata": {},
   "outputs": [],
   "source": []
  }
 ],
 "metadata": {
  "kernelspec": {
   "display_name": "Python 3",
   "language": "python",
   "name": "python3"
  },
  "language_info": {
   "codemirror_mode": {
    "name": "ipython",
    "version": 3
   },
   "file_extension": ".py",
   "mimetype": "text/x-python",
   "name": "python",
   "nbconvert_exporter": "python",
   "pygments_lexer": "ipython3",
   "version": "3.6.7"
  }
 },
 "nbformat": 4,
 "nbformat_minor": 2
}
