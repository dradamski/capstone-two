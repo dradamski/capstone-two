{
 "cells": [
  {
   "cell_type": "code",
   "execution_count": 1,
   "metadata": {},
   "outputs": [],
   "source": [
    "# Import the necessary packages and data\n",
    "from collections import defaultdict\n",
    "from datetime import datetime\n",
    "import matplotlib.pyplot as plt\n",
    "import numpy as np\n",
    "import os\n",
    "import pandas as pd\n",
    "import seaborn as sns\n",
    "sns.set()\n",
    "path = os.path.expanduser('~/Projects/capstone-two/data/processed/Clean_Harbor_Water_Quality.csv', )\n",
    "wq_df = pd.read_csv(path, parse_dates=['Sample Date'], index_col=0)"
   ]
  },
  {
   "cell_type": "code",
   "execution_count": 2,
   "metadata": {},
   "outputs": [],
   "source": [
    "row_lengths = defaultdict(int)\n",
    "\n",
    "for i, row in wq_df.iterrows():\n",
    "    row_lengths[row.notnull().sum()] += 1"
   ]
  },
  {
   "cell_type": "code",
   "execution_count": 3,
   "metadata": {},
   "outputs": [
    {
     "data": {
      "image/png": "[encoded data removed]",
      "text/plain": [
       "<Figure size 432x288 with 1 Axes>"
      ]
     },
     "metadata": {
      "needs_background": "light"
     },
     "output_type": "display_data"
    }
   ],
   "source": [
    "_ = plt.bar(x=row_lengths.keys(), height=row_lengths.values())"
   ]
  },
  {
   "cell_type": "markdown",
   "metadata": {},
   "source": [
    "I want to use only rows with at least 30 columns complete. This is to prevent my data from being overloaded with imputed data."
   ]
  },
  {
   "cell_type": "code",
   "execution_count": 4,
   "metadata": {},
   "outputs": [],
   "source": [
    "for i, row in wq_df.iterrows():\n",
    "    if row.notnull().sum() < 30:\n",
    "        wq_df = wq_df.drop(index=i)"
   ]
  },
  {
   "cell_type": "markdown",
   "metadata": {},
   "source": [
    "Next I will fill in blank values"
   ]
  },
  {
   "cell_type": "code",
   "execution_count": 5,
   "metadata": {},
   "outputs": [],
   "source": [
    "ffill_df = pd.DataFrame()\n",
    "for site in wq_df['Sampling Location'].unique():\n",
    "    site_df = wq_df[wq_df['Sampling Location'] == site].sort_values(by='Sample Date')\n",
    "    site_df = site_df.fillna(method='ffill')\n",
    "    ffill_df = ffill_df.append(site_df)"
   ]
  },
  {
   "cell_type": "code",
   "execution_count": 6,
   "metadata": {},
   "outputs": [],
   "source": [
    "final_df = pd.DataFrame()\n",
    "for site in ffill_df['Sampling Location'].unique():\n",
    "    site_df = ffill_df[ffill_df['Sampling Location'] == site].sort_values(by='Sample Date')\n",
    "    site_df = site_df.fillna(method='bfill')\n",
    "    final_df = final_df.append(site_df)"
   ]
  },
  {
   "cell_type": "code",
   "execution_count": 7,
   "metadata": {},
   "outputs": [],
   "source": [
    "final_df = final_df.sort_index()\n",
    "final_df = final_df.reset_index(drop=True)"
   ]
  },
  {
   "cell_type": "markdown",
   "metadata": {},
   "source": [
    "Different parameters will serve different purposes in my analysis. Some measurements have standard limits that must not be exceeded. The rest of the columns will be potential indicators of poor water quality. I have outlined each column's limit/indicator status below:\n",
    "\n",
    "- Water Temperature = Indicator\n",
    "\n",
    "- Salinity = Indicator\n",
    "\n",
    "- Conductivity = Indicator\n",
    "\n",
    "- Dissolved Oxygen = 3.0 mg/L\n",
    "\n",
    "- Light Transparency = Indicator\n",
    "\n",
    "- Sigma-T = Indicator\n",
    "\n",
    "- Secchi Depth = Indicator\n",
    "\n",
    "- pH = 6.0 - 9.5\n",
    "\n",
    "- Fecal Coliform = 2000 cells/100mL\n",
    "\n",
    "- Enterococcus = 104 cells/100mL\n",
    "\n",
    "- Ammonia = 2.0 mg/L\n",
    "\n",
    "- Ortho-phosphate = 0.020 mg/L\n",
    "\n",
    "- Kjeldahl Nitrogen = 10.0 mg/L\n",
    "\n",
    "- Silica = Indicator\n",
    "\n",
    "- Total Suspended Solids = Indicator\n",
    "\n",
    "- Chlorophyll a = 30\n",
    "\n",
    "- Dissolved Organic Carbon = Indicator\n"
   ]
  },
  {
   "cell_type": "code",
   "execution_count": 8,
   "metadata": {},
   "outputs": [],
   "source": [
    "# Make functions to \n",
    "def check_do(measure):\n",
    "    if measure < 3.0:\n",
    "        return 1\n",
    "    else:\n",
    "        return 0\n",
    "    \n",
    "def check_pH(measure):\n",
    "    if measure > 9.5 or measure < 6.5:\n",
    "        return 1\n",
    "    else:\n",
    "        return 0\n",
    "    \n",
    "def check_fecal(measure):\n",
    "    if measure > 2000:\n",
    "        return 1\n",
    "    else:\n",
    "        return 0\n",
    "    \n",
    "def check_enter(measure):\n",
    "    if measure > 104:\n",
    "        return 1\n",
    "    else:\n",
    "        return 0\n",
    "    \n",
    "def check_nitrate(measure):\n",
    "    if measure > 10:\n",
    "        return 1\n",
    "    else:\n",
    "        return 0\n",
    "\n",
    "def check_ammonia(measure):\n",
    "    if measure > 2:\n",
    "        return 1\n",
    "    else:\n",
    "        return 0\n",
    "    \n",
    "def check_phosphate(measure):\n",
    "    if measure > 0.020:\n",
    "        return 1\n",
    "    else:\n",
    "        return 0\n",
    "    \n",
    "def check_chloro(measure):\n",
    "    if measure > 30:\n",
    "        return 1\n",
    "    else:\n",
    "        return 0\n",
    "    \n",
    "# Make a dictionary of each parameter with limits and assign its check function   \n",
    "check_funcs = {'Top Ammonium (mg/L)':check_ammonia,\n",
    "               'Top Active Chlorophyll \\'A\\' (µg/L)':check_chloro,\n",
    "               'CTD (conductivity, temperature, depth profiler) Top Dissolved Oxygen (mg/L)':check_do,\n",
    "               'Top Enterococci Bacteria (Cells/100mL)':check_enter,\n",
    "               'Top Fecal Coliform Bacteria (Cells/100mL)':check_fecal,\n",
    "               'Top Total Kjeldhal Nitrogen (mg/L)':check_nitrate,\n",
    "               'Top PH':check_pH,\n",
    "               'Top Ortho-Phosphorus (mg/L)':check_phosphate\n",
    "              }\n"
   ]
  },
  {
   "cell_type": "code",
   "execution_count": 9,
   "metadata": {},
   "outputs": [],
   "source": [
    "# Create columns that signify whether a measurement is outside limits\n",
    "fail_col = []\n",
    "for col, func in check_funcs.items():\n",
    "    new_col = col + ' Failure'\n",
    "    fail_col.append(new_col)\n",
    "    final_df[new_col] = final_df[col].apply(func)\n"
   ]
  },
  {
   "cell_type": "markdown",
   "metadata": {},
   "source": [
    "Taking a look at the totals for each Failure column, the most common pollutant is Ortho-phophorus by a considerable margin followed by Chlorophull A and Enterococci. I'm going to investigate these three parameters in greater depth."
   ]
  },
  {
   "cell_type": "code",
   "execution_count": 10,
   "metadata": {
    "scrolled": true
   },
   "outputs": [
    {
     "data": {
      "text/plain": [
       "Top Ammonium (mg/L) Failure                                                               65\n",
       "Top Active Chlorophyll 'A' (µg/L) Failure                                               2312\n",
       "CTD (conductivity, temperature, depth profiler) Top Dissolved Oxygen (mg/L) Failure      742\n",
       "Top Enterococci Bacteria (Cells/100mL) Failure                                          1498\n",
       "Top Fecal Coliform Bacteria (Cells/100mL) Failure                                        918\n",
       "Top Total Kjeldhal Nitrogen (mg/L) Failure                                                 3\n",
       "Top PH Failure                                                                             6\n",
       "Top Ortho-Phosphorus (mg/L) Failure                                                    15593\n",
       "dtype: int64"
      ]
     },
     "execution_count": 10,
     "metadata": {},
     "output_type": "execute_result"
    }
   ],
   "source": [
    "final_df.loc[:, fail_col].sum()"
   ]
  },
  {
   "cell_type": "code",
   "execution_count": 11,
   "metadata": {},
   "outputs": [
    {
     "data": {
      "image/png": "[encoded data removed]",
      "text/plain": [
       "<Figure size 864x864 with 1 Axes>"
      ]
     },
     "metadata": {
      "needs_background": "light"
     },
     "output_type": "display_data"
    }
   ],
   "source": [
    "_ = plt.figure(figsize=(12, 12))\n",
    "\n",
    "for location in final_df['Sampling Location'].unique():\n",
    "    num = final_df[final_df['Sampling Location'] == location].loc[:, fail_col].sum().sum()\n",
    "    den = final_df[final_df['Sampling Location'] == location].shape[0]\n",
    "    ht = num / den / 8 * 100\n",
    "    _ = plt.bar(x = location, \n",
    "            height = ht)\n",
    "\n",
    "_ = plt.title('Percent Test Failure at Each Sample Site',\n",
    "             fontsize=30)\n",
    "_ = plt.xlabel('Sampling Site', fontsize=18)\n",
    "_ = plt.ylabel('Percentage of Failed Tests', fontsize=18)\n",
    "plt.xticks(rotation='vertical')\n",
    "plt.tight_layout()\n",
    "plt.show()"
   ]
  },
  {
   "cell_type": "code",
   "execution_count": null,
   "metadata": {},
   "outputs": [],
   "source": []
  },
  {
   "cell_type": "code",
   "execution_count": null,
   "metadata": {},
   "outputs": [],
   "source": []
  },
  {
   "cell_type": "code",
   "execution_count": null,
   "metadata": {},
   "outputs": [],
   "source": []
  },
  {
   "cell_type": "code",
   "execution_count": null,
   "metadata": {},
   "outputs": [],
   "source": []
  },
  {
   "cell_type": "code",
   "execution_count": null,
   "metadata": {},
   "outputs": [],
   "source": []
  },
  {
   "cell_type": "code",
   "execution_count": null,
   "metadata": {},
   "outputs": [],
   "source": []
  },
  {
   "cell_type": "code",
   "execution_count": null,
   "metadata": {},
   "outputs": [],
   "source": []
  },
  {
   "cell_type": "code",
   "execution_count": null,
   "metadata": {},
   "outputs": [],
   "source": []
  },
  {
   "cell_type": "code",
   "execution_count": null,
   "metadata": {},
   "outputs": [],
   "source": []
  }
 ],
 "metadata": {
  "kernelspec": {
   "display_name": "Python 3",
   "language": "python",
   "name": "python3"
  },
  "language_info": {
   "codemirror_mode": {
    "name": "ipython",
    "version": 3
   },
   "file_extension": ".py",
   "mimetype": "text/x-python",
   "name": "python",
   "nbconvert_exporter": "python",
   "pygments_lexer": "ipython3",
   "version": "3.6.7"
  }
 },
 "nbformat": 4,
 "nbformat_minor": 2
}
