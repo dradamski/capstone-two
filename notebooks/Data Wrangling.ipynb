{
 "cells": [
  {
   "cell_type": "markdown",
   "metadata": {},
   "source": [
    "# Data Wrangling\n",
    "\n",
    "Though the data I pulled from NYC data site came as a csv and was in relatively useable form, I still needed to perform additional cleaning to ensure my data was ready for analysis."
   ]
  },
  {
   "cell_type": "code",
   "execution_count": 1,
   "metadata": {
    "scrolled": true
   },
   "outputs": [
    {
     "name": "stderr",
     "output_type": "stream",
     "text": [
      "C:\\Users\\Drew\\Anaconda3\\lib\\site-packages\\IPython\\core\\interactiveshell.py:2717: DtypeWarning: Columns (5,6,10,11,12,13,20,21,26,27,35,38,40,51,53,59,60,61,64,65,67,68,76,82,83,88,94,95,97,98) have mixed types. Specify dtype option on import or set low_memory=False.\n",
      "  interactivity=interactivity, compiler=compiler, result=result)\n"
     ]
    }
   ],
   "source": [
    "# Import the necessary packages and data\n",
    "from datetime import datetime\n",
    "import matplotlib.pyplot as plt\n",
    "import numpy as np\n",
    "import os\n",
    "import pandas as pd\n",
    "\n",
    "path = os.path.expanduser('~/Projects/capstone-two/data/raw/Harbor_Water_Quality.csv')\n",
    "df = pd.read_csv(path, parse_dates=['Sample Date'])"
   ]
  },
  {
   "cell_type": "markdown",
   "metadata": {},
   "source": [
    "There are dataype problems with certain columns, but before dealing with those, I first want to see what the dataframe looks like."
   ]
  },
  {
   "cell_type": "code",
   "execution_count": 2,
   "metadata": {},
   "outputs": [
    {
     "data": {
      "text/plain": [
       "(88366, 100)"
      ]
     },
     "execution_count": 2,
     "metadata": {},
     "output_type": "execute_result"
    }
   ],
   "source": [
    "df.shape"
   ]
  },
  {
   "cell_type": "code",
   "execution_count": 3,
   "metadata": {
    "scrolled": false
   },
   "outputs": [
    {
     "data": {
      "text/html": [
       "<div>\n",
       "<style scoped>\n",
       "    .dataframe tbody tr th:only-of-type {\n",
       "        vertical-align: middle;\n",
       "    }\n",
       "\n",
       "    .dataframe tbody tr th {\n",
       "        vertical-align: top;\n",
       "    }\n",
       "\n",
       "    .dataframe thead th {\n",
       "        text-align: right;\n",
       "    }\n",
       "</style>\n",
       "<table border=\"1\" class=\"dataframe\">\n",
       "  <thead>\n",
       "    <tr style=\"text-align: right;\">\n",
       "      <th></th>\n",
       "      <th>Sampling Location</th>\n",
       "      <th>Duplicate Sample</th>\n",
       "      <th>Sample Date</th>\n",
       "      <th>Sample Time</th>\n",
       "      <th>Weather Condition (Dry or Wet)</th>\n",
       "      <th>Top Sample Temperature (ºC)</th>\n",
       "      <th>Bottom Sample Temperature (ºC)</th>\n",
       "      <th>Site Actual Depth (ft)</th>\n",
       "      <th>Top Sample Depth(ft)</th>\n",
       "      <th>Bottom Sample Depth (ft)</th>\n",
       "      <th>...</th>\n",
       "      <th>Oakwood BOD Top Sample (mg/L)</th>\n",
       "      <th>Oakwood BOD Bottom Sample(mg/L)</th>\n",
       "      <th>Oakwood  Total Suspended Solid Top Sample  (mg/L)</th>\n",
       "      <th>Oakwood Total Suspended Solid Bottom Sample (mg/L)</th>\n",
       "      <th>Top Turbidity( Nephelometric Turbidity Units)</th>\n",
       "      <th>Bottom Turbidity YSI (Nephelometric Turbidity Units)</th>\n",
       "      <th>Sampling Comment</th>\n",
       "      <th>Long</th>\n",
       "      <th>Lat</th>\n",
       "      <th>Type</th>\n",
       "    </tr>\n",
       "  </thead>\n",
       "  <tbody>\n",
       "    <tr>\n",
       "      <th>0</th>\n",
       "      <td>BR5</td>\n",
       "      <td>NaN</td>\n",
       "      <td>2015-08-17</td>\n",
       "      <td>1:07 PM</td>\n",
       "      <td>Dry</td>\n",
       "      <td>24.68</td>\n",
       "      <td>NaN</td>\n",
       "      <td>13.0</td>\n",
       "      <td>3.0</td>\n",
       "      <td>NaN</td>\n",
       "      <td>...</td>\n",
       "      <td>NaN</td>\n",
       "      <td>NaN</td>\n",
       "      <td>NaN</td>\n",
       "      <td>NaN</td>\n",
       "      <td>NaN</td>\n",
       "      <td>NaN</td>\n",
       "      <td>NaN</td>\n",
       "      <td>-73.8713</td>\n",
       "      <td>40.813667</td>\n",
       "      <td>Permanent</td>\n",
       "    </tr>\n",
       "    <tr>\n",
       "      <th>1</th>\n",
       "      <td>K2</td>\n",
       "      <td>NaN</td>\n",
       "      <td>1965-07-06</td>\n",
       "      <td>9:50 AM</td>\n",
       "      <td>NaN</td>\n",
       "      <td>22.8</td>\n",
       "      <td>22.2</td>\n",
       "      <td>21.0</td>\n",
       "      <td>NaN</td>\n",
       "      <td>NaN</td>\n",
       "      <td>...</td>\n",
       "      <td>NaN</td>\n",
       "      <td>NaN</td>\n",
       "      <td>NaN</td>\n",
       "      <td>NaN</td>\n",
       "      <td>NaN</td>\n",
       "      <td>NaN</td>\n",
       "      <td>NaN</td>\n",
       "      <td>-74.153</td>\n",
       "      <td>40.641167</td>\n",
       "      <td>Permanent</td>\n",
       "    </tr>\n",
       "    <tr>\n",
       "      <th>2</th>\n",
       "      <td>N8</td>\n",
       "      <td>NaN</td>\n",
       "      <td>1909-07-16</td>\n",
       "      <td>4:10 PM</td>\n",
       "      <td>NaN</td>\n",
       "      <td>20</td>\n",
       "      <td>NaN</td>\n",
       "      <td>NaN</td>\n",
       "      <td>1.0</td>\n",
       "      <td>NaN</td>\n",
       "      <td>...</td>\n",
       "      <td>NaN</td>\n",
       "      <td>NaN</td>\n",
       "      <td>NaN</td>\n",
       "      <td>NaN</td>\n",
       "      <td>NaN</td>\n",
       "      <td>NaN</td>\n",
       "      <td>NaN</td>\n",
       "      <td>-74.0455</td>\n",
       "      <td>40.606167</td>\n",
       "      <td>Permanent</td>\n",
       "    </tr>\n",
       "    <tr>\n",
       "      <th>3</th>\n",
       "      <td>N9</td>\n",
       "      <td>NaN</td>\n",
       "      <td>1972-07-27</td>\n",
       "      <td>9:22 AM</td>\n",
       "      <td>NaN</td>\n",
       "      <td>17.2</td>\n",
       "      <td>16.1</td>\n",
       "      <td>NaN</td>\n",
       "      <td>NaN</td>\n",
       "      <td>NaN</td>\n",
       "      <td>...</td>\n",
       "      <td>0.6</td>\n",
       "      <td>0.6</td>\n",
       "      <td>NaN</td>\n",
       "      <td>NaN</td>\n",
       "      <td>NaN</td>\n",
       "      <td>NaN</td>\n",
       "      <td>NaN</td>\n",
       "      <td>-73.9833</td>\n",
       "      <td>40.568333</td>\n",
       "      <td>Permanent</td>\n",
       "    </tr>\n",
       "    <tr>\n",
       "      <th>4</th>\n",
       "      <td>NC0</td>\n",
       "      <td>NaN</td>\n",
       "      <td>2014-02-26</td>\n",
       "      <td>10:45 AM</td>\n",
       "      <td>Dry</td>\n",
       "      <td>2.51</td>\n",
       "      <td>2.46</td>\n",
       "      <td>15.0</td>\n",
       "      <td>3.0</td>\n",
       "      <td>12.0</td>\n",
       "      <td>...</td>\n",
       "      <td>NaN</td>\n",
       "      <td>NaN</td>\n",
       "      <td>NaN</td>\n",
       "      <td>NaN</td>\n",
       "      <td>NaN</td>\n",
       "      <td>NaN</td>\n",
       "      <td>Light snow</td>\n",
       "      <td>-73.9316</td>\n",
       "      <td>40.714961</td>\n",
       "      <td>Permanent</td>\n",
       "    </tr>\n",
       "  </tbody>\n",
       "</table>\n",
       "<p>5 rows × 100 columns</p>\n",
       "</div>"
      ],
      "text/plain": [
       "  Sampling Location Duplicate Sample Sample Date Sample Time  \\\n",
       "0               BR5              NaN  2015-08-17     1:07 PM   \n",
       "1                K2              NaN  1965-07-06     9:50 AM   \n",
       "2                N8              NaN  1909-07-16     4:10 PM   \n",
       "3                N9              NaN  1972-07-27     9:22 AM   \n",
       "4               NC0              NaN  2014-02-26    10:45 AM   \n",
       "\n",
       "  Weather Condition (Dry or Wet) Top Sample Temperature (ºC)  \\\n",
       "0                            Dry                       24.68   \n",
       "1                            NaN                        22.8   \n",
       "2                            NaN                          20   \n",
       "3                            NaN                        17.2   \n",
       "4                            Dry                        2.51   \n",
       "\n",
       "  Bottom Sample Temperature (ºC)  Site Actual Depth (ft)  \\\n",
       "0                            NaN                    13.0   \n",
       "1                           22.2                    21.0   \n",
       "2                            NaN                     NaN   \n",
       "3                           16.1                     NaN   \n",
       "4                           2.46                    15.0   \n",
       "\n",
       "   Top Sample Depth(ft)  Bottom Sample Depth (ft)  ...  \\\n",
       "0                   3.0                       NaN  ...   \n",
       "1                   NaN                       NaN  ...   \n",
       "2                   1.0                       NaN  ...   \n",
       "3                   NaN                       NaN  ...   \n",
       "4                   3.0                      12.0  ...   \n",
       "\n",
       "  Oakwood BOD Top Sample (mg/L)  Oakwood BOD Bottom Sample(mg/L)  \\\n",
       "0                            NaN                             NaN   \n",
       "1                            NaN                             NaN   \n",
       "2                            NaN                             NaN   \n",
       "3                            0.6                             0.6   \n",
       "4                            NaN                             NaN   \n",
       "\n",
       "  Oakwood  Total Suspended Solid Top Sample  (mg/L)  \\\n",
       "0                                               NaN   \n",
       "1                                               NaN   \n",
       "2                                               NaN   \n",
       "3                                               NaN   \n",
       "4                                               NaN   \n",
       "\n",
       "  Oakwood Total Suspended Solid Bottom Sample (mg/L)  \\\n",
       "0                                                NaN   \n",
       "1                                                NaN   \n",
       "2                                                NaN   \n",
       "3                                                NaN   \n",
       "4                                                NaN   \n",
       "\n",
       "   Top Turbidity( Nephelometric Turbidity Units)  \\\n",
       "0                                            NaN   \n",
       "1                                            NaN   \n",
       "2                                            NaN   \n",
       "3                                            NaN   \n",
       "4                                            NaN   \n",
       "\n",
       "   Bottom Turbidity YSI (Nephelometric Turbidity Units)  Sampling Comment  \\\n",
       "0                                                NaN                  NaN   \n",
       "1                                                NaN                  NaN   \n",
       "2                                                NaN                  NaN   \n",
       "3                                                NaN                  NaN   \n",
       "4                                                NaN           Light snow   \n",
       "\n",
       "      Long        Lat       Type  \n",
       "0 -73.8713  40.813667  Permanent  \n",
       "1  -74.153  40.641167  Permanent  \n",
       "2 -74.0455  40.606167  Permanent  \n",
       "3 -73.9833  40.568333  Permanent  \n",
       "4 -73.9316  40.714961  Permanent  \n",
       "\n",
       "[5 rows x 100 columns]"
      ]
     },
     "execution_count": 3,
     "metadata": {},
     "output_type": "execute_result"
    }
   ],
   "source": [
    "df.head()"
   ]
  },
  {
   "cell_type": "code",
   "execution_count": 4,
   "metadata": {
    "scrolled": true
   },
   "outputs": [
    {
     "name": "stdout",
     "output_type": "stream",
     "text": [
      "<class 'pandas.core.frame.DataFrame'>\n",
      "RangeIndex: 88366 entries, 0 to 88365\n",
      "Data columns (total 100 columns):\n",
      "Sampling Location                                                                   88365 non-null object\n",
      "Duplicate Sample                                                                    2929 non-null object\n",
      "Sample Date                                                                         88365 non-null datetime64[ns]\n",
      "Sample Time                                                                         84504 non-null object\n",
      "Weather Condition (Dry or Wet)                                                      32498 non-null object\n",
      "Top Sample Temperature (ºC)                                                         69920 non-null object\n",
      "Bottom Sample Temperature (ºC)                                                      69147 non-null object\n",
      "Site Actual Depth (ft)                                                              60162 non-null float64\n",
      "Top Sample Depth(ft)                                                                27969 non-null float64\n",
      "Bottom Sample Depth (ft)                                                            27475 non-null float64\n",
      "Top Salinity  (psu)                                                                 67326 non-null object\n",
      "Bottom Salinity  (psu)                                                              65926 non-null object\n",
      "Top Conductivity (S/m)                                                              26256 non-null object\n",
      "Bottom Conductivity (S/m)                                                           24909 non-null object\n",
      "CTD (conductivity, temperature, depth profiler) Top Dissolved Oxygen (mg/L)         20367 non-null float64\n",
      "CTD (conductivity, temperature, depth profiler) Bottom Dissolved Oxygen (mg/L)      18812 non-null float64\n",
      "Percentage O2 Saturation Top Sample                                                 22129 non-null float64\n",
      "Percentage O2 Saturation Bottom sample                                              20618 non-null float64\n",
      "Light Trans (% transparency) Top Sample                                             16788 non-null float64\n",
      "Light Trans (% transparency) Bottom Sample                                          15781 non-null float64\n",
      "Top Sigma-T (kg/m3)                                                                 25403 non-null object\n",
      "Bottom Sigma-T (kg/m3)                                                              24110 non-null object\n",
      "Top Fluorometer (mg/m3)                                                             18555 non-null float64\n",
      "Bottom Fluorometer mg/m3                                                            17267 non-null float64\n",
      "CTD (conductivity, temperature, depth profiler) PH Top Sample                       8009 non-null float64\n",
      "CTD (conductivity, temperature, depth profiler) PH Bottom Sample                    7389 non-null float64\n",
      "Top Sample Photosysthetically Active Radiation Reference (400-700nm light (uE/S)    15194 non-null object\n",
      "Top Sample Par (uE/S m2)                                                            16399 non-null object\n",
      "Bottom Sample Par uE/S (uE/S m2)                                                    12145 non-null float64\n",
      "Oxidation Reduction Potential (mV) Top Sample                                       12956 non-null float64\n",
      "Oxidation Reduction Potential (mV) Bottom Sample                                    11942 non-null float64\n",
      "Current Speed (knot)                                                                23099 non-null object\n",
      "Current Direction (Current Direction)                                               76938 non-null object\n",
      "Wind Speed (mph)                                                                    30948 non-null object\n",
      "Wind Direction (Wind Direction)                                                     29640 non-null object\n",
      "Sea State                                                                           31001 non-null object\n",
      "Winkler Method Top Dissolved Oxygen (mg/L)                                          75564 non-null float64\n",
      "Winkler Method Bottom Dissolved Oxygen (mg/L)                                       73199 non-null float64\n",
      "Secchi Depth (ft)                                                                   36561 non-null object\n",
      "Top PH                                                                              39235 non-null float64\n",
      "Bottom PH                                                                           31780 non-null object\n",
      "Top Total Coliform Cells/100 mL                                                     28373 non-null float64\n",
      "Top Bottom Coliform Cells/100 mL                                                    28346 non-null float64\n",
      "Fecal Coliform Top Sample Less Than or Greater Than Result                          5394 non-null object\n",
      "Fecal Coliform Bottom Sample Less Than or Greater Than Result                       499 non-null object\n",
      "Top Fecal Coliform Bacteria (Cells/100mL)                                           40597 non-null object\n",
      "Bottom Fecal Coliform Bacteria (Cells/100mL)                                        10322 non-null object\n",
      "Enterococcus Top Sample Less Than or Greater Than Result                            13522 non-null object\n",
      "Enterococcus Bottom Sample Less Than or Greater Than Result                         1658 non-null object\n",
      "Top Enterococci Bacteria (Cells/100mL)                                              30477 non-null object\n",
      "Bottom Enterococci Bacteria (Cells/100mL)                                           3260 non-null float64\n",
      "Top Nitrate/Nitrite (mg/L)                                                          39879 non-null object\n",
      "Bottom Nitrate/Nitrite (mg/L)                                                       1025 non-null float64\n",
      "Top Ammonium (mg/L)                                                                 39792 non-null object\n",
      "Bottom Ammonium (mg/L)                                                              1021 non-null float64\n",
      "Top Ortho-Phosphorus (mg/L)                                                         28483 non-null object\n",
      "Bottom Ortho-Phosphorus (mg/L)                                                      885 non-null float64\n",
      "Top Total Kjeldhal Nitrogen (mg/L)                                                  33846 non-null float64\n",
      "Bottom Total Kjeldhal Nitrogen (mg/L)                                               668 non-null float64\n",
      "Top Silica (mg/L)                                                                   31713 non-null object\n",
      "Bottom Silica (mg/L)                                                                8672 non-null object\n",
      "Total Phosphorus(mg/L)                                                              39664 non-null object\n",
      "Bottom Total Phosphorus (mg/L)                                                      1019 non-null float64\n",
      "Top Total Suspended Solid (mg/L)                                                    38130 non-null float64\n",
      "Bottom Total Suspended Solid (mg/L)                                                 29820 non-null object\n",
      "Top Active Chlorophyll 'A' (µg/L)                                                   39126 non-null object\n",
      "Bottom Active Chlorophyll 'A' (µg/L)                                                192 non-null float64\n",
      "Chlorophyll Top Sample Field (u/L (YSI)                                             8448 non-null object\n",
      "Chlorophyll Bottom Sample Field (u/L (YSI)                                          2094 non-null object\n",
      "TOP Total Organic Carbon (mg/L)                                                     764 non-null float64\n",
      "Top Dissolved Organic Carbon (mg/L)                                                 28950 non-null float64\n",
      "Bottom Dissolved Organic Carbon (mg/L)                                              7 non-null float64\n",
      "Top Dissolved Organic Carbon YSI (mg/L)                                             9295 non-null float64\n",
      "Bottom Dissolved Organic Carbon YSI (mg/L)                                          4020 non-null float64\n",
      "Top Sample Depth  YSI (ft)                                                          237 non-null float64\n",
      "Bottom Depth  YSI (ft)                                                              79 non-null float64\n",
      "Top Sample Salinity YSI (psu)                                                       8664 non-null object\n",
      "Bottom Sample Salinity YSI (psu)                                                    2783 non-null float64\n",
      "Top Sample Temperature  YSI (ºC)                                                    9012 non-null float64\n",
      "Bottom Sample Temperature YSI (ºC)                                                  3089 non-null float64\n",
      "Top Bacteria # per C.C. 1909                                                        522 non-null float64\n",
      "Bottom Bacteria # per C.C. 1909                                                     635 non-null float64\n",
      "Top Beam Attenuation Coefficient                                                    608 non-null object\n",
      "Bottom Beam Attenuation Coefficient                                                 438 non-null object\n",
      "Top Five-Day Biochemical Oxygen Demand(mg/L)                                        14354 non-null float64\n",
      "Bottom Five-Day Biochemical Oxygen Demand(mg/L)                                     14290 non-null float64\n",
      "Top PCB Plate Count (Thous/mL)                                                      6654 non-null float64\n",
      "Bottom PCB plate Count (Thous/mL)                                                   6645 non-null float64\n",
      "Top Coliform (Log No/mL)                                                            4284 non-null object\n",
      "Bottom Coliform (Log No/mL)                                                         4160 non-null float64\n",
      "Oakwood BOD Top Sample (mg/L)                                                       18646 non-null float64\n",
      "Oakwood BOD Bottom Sample(mg/L)                                                     18564 non-null float64\n",
      "Oakwood  Total Suspended Solid Top Sample  (mg/L)                                   0 non-null float64\n",
      "Oakwood Total Suspended Solid Bottom Sample (mg/L)                                  0 non-null float64\n",
      "Top Turbidity( Nephelometric Turbidity Units)                                       6226 non-null object\n",
      "Bottom Turbidity YSI (Nephelometric Turbidity Units)                                2329 non-null object\n",
      "Sampling Comment                                                                    5447 non-null object\n",
      "Long                                                                                88363 non-null object\n",
      "Lat                                                                                 88363 non-null object\n",
      "Type                                                                                88366 non-null object\n",
      "dtypes: datetime64[ns](1), float64(51), object(48)\n",
      "memory usage: 67.4+ MB\n"
     ]
    }
   ],
   "source": [
    "df.info()"
   ]
  },
  {
   "cell_type": "code",
   "execution_count": 5,
   "metadata": {
    "scrolled": true
   },
   "outputs": [
    {
     "data": {
      "text/html": [
       "<div>\n",
       "<style scoped>\n",
       "    .dataframe tbody tr th:only-of-type {\n",
       "        vertical-align: middle;\n",
       "    }\n",
       "\n",
       "    .dataframe tbody tr th {\n",
       "        vertical-align: top;\n",
       "    }\n",
       "\n",
       "    .dataframe thead th {\n",
       "        text-align: right;\n",
       "    }\n",
       "</style>\n",
       "<table border=\"1\" class=\"dataframe\">\n",
       "  <thead>\n",
       "    <tr style=\"text-align: right;\">\n",
       "      <th></th>\n",
       "      <th>Site Actual Depth (ft)</th>\n",
       "      <th>Top Sample Depth(ft)</th>\n",
       "      <th>Bottom Sample Depth (ft)</th>\n",
       "      <th>CTD (conductivity, temperature, depth profiler) Top Dissolved Oxygen (mg/L)</th>\n",
       "      <th>CTD (conductivity, temperature, depth profiler) Bottom Dissolved Oxygen (mg/L)</th>\n",
       "      <th>Percentage O2 Saturation Top Sample</th>\n",
       "      <th>Percentage O2 Saturation Bottom sample</th>\n",
       "      <th>Light Trans (% transparency) Top Sample</th>\n",
       "      <th>Light Trans (% transparency) Bottom Sample</th>\n",
       "      <th>Top Fluorometer (mg/m3)</th>\n",
       "      <th>...</th>\n",
       "      <th>Bottom Bacteria # per C.C. 1909</th>\n",
       "      <th>Top Five-Day Biochemical Oxygen Demand(mg/L)</th>\n",
       "      <th>Bottom Five-Day Biochemical Oxygen Demand(mg/L)</th>\n",
       "      <th>Top PCB Plate Count (Thous/mL)</th>\n",
       "      <th>Bottom PCB plate Count (Thous/mL)</th>\n",
       "      <th>Bottom Coliform (Log No/mL)</th>\n",
       "      <th>Oakwood BOD Top Sample (mg/L)</th>\n",
       "      <th>Oakwood BOD Bottom Sample(mg/L)</th>\n",
       "      <th>Oakwood  Total Suspended Solid Top Sample  (mg/L)</th>\n",
       "      <th>Oakwood Total Suspended Solid Bottom Sample (mg/L)</th>\n",
       "    </tr>\n",
       "  </thead>\n",
       "  <tbody>\n",
       "    <tr>\n",
       "      <th>count</th>\n",
       "      <td>60162.000000</td>\n",
       "      <td>27969.000000</td>\n",
       "      <td>27475.000000</td>\n",
       "      <td>20367.000000</td>\n",
       "      <td>18812.000000</td>\n",
       "      <td>22129.000000</td>\n",
       "      <td>20618.000000</td>\n",
       "      <td>16788.000000</td>\n",
       "      <td>15781.000000</td>\n",
       "      <td>18555.000000</td>\n",
       "      <td>...</td>\n",
       "      <td>635.000000</td>\n",
       "      <td>14354.000000</td>\n",
       "      <td>14290.000000</td>\n",
       "      <td>6654.000000</td>\n",
       "      <td>6645.000000</td>\n",
       "      <td>4160.000000</td>\n",
       "      <td>18646.000000</td>\n",
       "      <td>18564.000000</td>\n",
       "      <td>0.0</td>\n",
       "      <td>0.0</td>\n",
       "    </tr>\n",
       "    <tr>\n",
       "      <th>mean</th>\n",
       "      <td>34.193417</td>\n",
       "      <td>3.089239</td>\n",
       "      <td>31.046695</td>\n",
       "      <td>6.950473</td>\n",
       "      <td>6.069471</td>\n",
       "      <td>81.811070</td>\n",
       "      <td>69.511316</td>\n",
       "      <td>58.964913</td>\n",
       "      <td>58.450028</td>\n",
       "      <td>15.080308</td>\n",
       "      <td>...</td>\n",
       "      <td>5556.497638</td>\n",
       "      <td>2.548251</td>\n",
       "      <td>2.051372</td>\n",
       "      <td>2.376002</td>\n",
       "      <td>1.985658</td>\n",
       "      <td>1.476957</td>\n",
       "      <td>2.610243</td>\n",
       "      <td>2.395346</td>\n",
       "      <td>NaN</td>\n",
       "      <td>NaN</td>\n",
       "    </tr>\n",
       "    <tr>\n",
       "      <th>std</th>\n",
       "      <td>21.903431</td>\n",
       "      <td>1.076717</td>\n",
       "      <td>19.888996</td>\n",
       "      <td>2.898322</td>\n",
       "      <td>2.856763</td>\n",
       "      <td>30.539045</td>\n",
       "      <td>26.546844</td>\n",
       "      <td>20.532792</td>\n",
       "      <td>22.295995</td>\n",
       "      <td>23.359770</td>\n",
       "      <td>...</td>\n",
       "      <td>9855.976729</td>\n",
       "      <td>1.922383</td>\n",
       "      <td>1.637950</td>\n",
       "      <td>21.450678</td>\n",
       "      <td>28.440395</td>\n",
       "      <td>0.810886</td>\n",
       "      <td>1.548620</td>\n",
       "      <td>1.354373</td>\n",
       "      <td>NaN</td>\n",
       "      <td>NaN</td>\n",
       "    </tr>\n",
       "    <tr>\n",
       "      <th>min</th>\n",
       "      <td>0.000000</td>\n",
       "      <td>0.000000</td>\n",
       "      <td>1.000000</td>\n",
       "      <td>-1.120000</td>\n",
       "      <td>-9.990000</td>\n",
       "      <td>-15.900000</td>\n",
       "      <td>-51.670000</td>\n",
       "      <td>-22.860000</td>\n",
       "      <td>-41.970000</td>\n",
       "      <td>-99.000000</td>\n",
       "      <td>...</td>\n",
       "      <td>30.000000</td>\n",
       "      <td>-6.000000</td>\n",
       "      <td>0.000000</td>\n",
       "      <td>-100.000000</td>\n",
       "      <td>-100.000000</td>\n",
       "      <td>-1.000000</td>\n",
       "      <td>0.000000</td>\n",
       "      <td>0.000000</td>\n",
       "      <td>NaN</td>\n",
       "      <td>NaN</td>\n",
       "    </tr>\n",
       "    <tr>\n",
       "      <th>25%</th>\n",
       "      <td>18.000000</td>\n",
       "      <td>3.000000</td>\n",
       "      <td>16.400000</td>\n",
       "      <td>5.110000</td>\n",
       "      <td>4.390000</td>\n",
       "      <td>64.560000</td>\n",
       "      <td>55.572500</td>\n",
       "      <td>49.980000</td>\n",
       "      <td>50.290000</td>\n",
       "      <td>3.110000</td>\n",
       "      <td>...</td>\n",
       "      <td>1400.000000</td>\n",
       "      <td>1.600000</td>\n",
       "      <td>1.000000</td>\n",
       "      <td>0.073000</td>\n",
       "      <td>0.072000</td>\n",
       "      <td>1.000000</td>\n",
       "      <td>1.500000</td>\n",
       "      <td>1.400000</td>\n",
       "      <td>NaN</td>\n",
       "      <td>NaN</td>\n",
       "    </tr>\n",
       "    <tr>\n",
       "      <th>50%</th>\n",
       "      <td>28.000000</td>\n",
       "      <td>3.000000</td>\n",
       "      <td>24.000000</td>\n",
       "      <td>6.470000</td>\n",
       "      <td>5.660000</td>\n",
       "      <td>79.110000</td>\n",
       "      <td>70.280000</td>\n",
       "      <td>64.065000</td>\n",
       "      <td>65.300000</td>\n",
       "      <td>8.510000</td>\n",
       "      <td>...</td>\n",
       "      <td>3800.000000</td>\n",
       "      <td>2.000000</td>\n",
       "      <td>2.000000</td>\n",
       "      <td>0.230000</td>\n",
       "      <td>0.209000</td>\n",
       "      <td>1.000000</td>\n",
       "      <td>2.300000</td>\n",
       "      <td>2.100000</td>\n",
       "      <td>NaN</td>\n",
       "      <td>NaN</td>\n",
       "    </tr>\n",
       "    <tr>\n",
       "      <th>75%</th>\n",
       "      <td>46.000000</td>\n",
       "      <td>3.280000</td>\n",
       "      <td>41.000000</td>\n",
       "      <td>8.210000</td>\n",
       "      <td>7.240000</td>\n",
       "      <td>94.850000</td>\n",
       "      <td>83.700000</td>\n",
       "      <td>72.920000</td>\n",
       "      <td>73.590000</td>\n",
       "      <td>19.878000</td>\n",
       "      <td>...</td>\n",
       "      <td>6800.000000</td>\n",
       "      <td>3.000000</td>\n",
       "      <td>2.400000</td>\n",
       "      <td>0.800000</td>\n",
       "      <td>0.620000</td>\n",
       "      <td>2.000000</td>\n",
       "      <td>3.300000</td>\n",
       "      <td>3.100000</td>\n",
       "      <td>NaN</td>\n",
       "      <td>NaN</td>\n",
       "    </tr>\n",
       "    <tr>\n",
       "      <th>max</th>\n",
       "      <td>230.000000</td>\n",
       "      <td>23.000000</td>\n",
       "      <td>150.000000</td>\n",
       "      <td>28.560000</td>\n",
       "      <td>29.670000</td>\n",
       "      <td>374.220000</td>\n",
       "      <td>283.240000</td>\n",
       "      <td>131.730000</td>\n",
       "      <td>184.480000</td>\n",
       "      <td>294.700000</td>\n",
       "      <td>...</td>\n",
       "      <td>160000.000000</td>\n",
       "      <td>67.000000</td>\n",
       "      <td>66.000000</td>\n",
       "      <td>1200.000000</td>\n",
       "      <td>1800.000000</td>\n",
       "      <td>9.630000</td>\n",
       "      <td>17.200000</td>\n",
       "      <td>15.800000</td>\n",
       "      <td>NaN</td>\n",
       "      <td>NaN</td>\n",
       "    </tr>\n",
       "  </tbody>\n",
       "</table>\n",
       "<p>8 rows × 51 columns</p>\n",
       "</div>"
      ],
      "text/plain": [
       "       Site Actual Depth (ft)  Top Sample Depth(ft)  Bottom Sample Depth (ft)  \\\n",
       "count            60162.000000          27969.000000              27475.000000   \n",
       "mean                34.193417              3.089239                 31.046695   \n",
       "std                 21.903431              1.076717                 19.888996   \n",
       "min                  0.000000              0.000000                  1.000000   \n",
       "25%                 18.000000              3.000000                 16.400000   \n",
       "50%                 28.000000              3.000000                 24.000000   \n",
       "75%                 46.000000              3.280000                 41.000000   \n",
       "max                230.000000             23.000000                150.000000   \n",
       "\n",
       "       CTD (conductivity, temperature, depth profiler) Top Dissolved Oxygen (mg/L)  \\\n",
       "count                                       20367.000000                             \n",
       "mean                                            6.950473                             \n",
       "std                                             2.898322                             \n",
       "min                                            -1.120000                             \n",
       "25%                                             5.110000                             \n",
       "50%                                             6.470000                             \n",
       "75%                                             8.210000                             \n",
       "max                                            28.560000                             \n",
       "\n",
       "       CTD (conductivity, temperature, depth profiler) Bottom Dissolved Oxygen (mg/L)  \\\n",
       "count                                       18812.000000                                \n",
       "mean                                            6.069471                                \n",
       "std                                             2.856763                                \n",
       "min                                            -9.990000                                \n",
       "25%                                             4.390000                                \n",
       "50%                                             5.660000                                \n",
       "75%                                             7.240000                                \n",
       "max                                            29.670000                                \n",
       "\n",
       "       Percentage O2 Saturation Top Sample  \\\n",
       "count                         22129.000000   \n",
       "mean                             81.811070   \n",
       "std                              30.539045   \n",
       "min                             -15.900000   \n",
       "25%                              64.560000   \n",
       "50%                              79.110000   \n",
       "75%                              94.850000   \n",
       "max                             374.220000   \n",
       "\n",
       "       Percentage O2 Saturation Bottom sample  \\\n",
       "count                            20618.000000   \n",
       "mean                                69.511316   \n",
       "std                                 26.546844   \n",
       "min                                -51.670000   \n",
       "25%                                 55.572500   \n",
       "50%                                 70.280000   \n",
       "75%                                 83.700000   \n",
       "max                                283.240000   \n",
       "\n",
       "       Light Trans (% transparency) Top Sample  \\\n",
       "count                             16788.000000   \n",
       "mean                                 58.964913   \n",
       "std                                  20.532792   \n",
       "min                                 -22.860000   \n",
       "25%                                  49.980000   \n",
       "50%                                  64.065000   \n",
       "75%                                  72.920000   \n",
       "max                                 131.730000   \n",
       "\n",
       "       Light Trans (% transparency) Bottom Sample  Top Fluorometer (mg/m3)  \\\n",
       "count                                15781.000000             18555.000000   \n",
       "mean                                    58.450028                15.080308   \n",
       "std                                     22.295995                23.359770   \n",
       "min                                    -41.970000               -99.000000   \n",
       "25%                                     50.290000                 3.110000   \n",
       "50%                                     65.300000                 8.510000   \n",
       "75%                                     73.590000                19.878000   \n",
       "max                                    184.480000               294.700000   \n",
       "\n",
       "       ...  Bottom Bacteria # per C.C. 1909  \\\n",
       "count  ...                       635.000000   \n",
       "mean   ...                      5556.497638   \n",
       "std    ...                      9855.976729   \n",
       "min    ...                        30.000000   \n",
       "25%    ...                      1400.000000   \n",
       "50%    ...                      3800.000000   \n",
       "75%    ...                      6800.000000   \n",
       "max    ...                    160000.000000   \n",
       "\n",
       "       Top Five-Day Biochemical Oxygen Demand(mg/L)  \\\n",
       "count                                  14354.000000   \n",
       "mean                                       2.548251   \n",
       "std                                        1.922383   \n",
       "min                                       -6.000000   \n",
       "25%                                        1.600000   \n",
       "50%                                        2.000000   \n",
       "75%                                        3.000000   \n",
       "max                                       67.000000   \n",
       "\n",
       "       Bottom Five-Day Biochemical Oxygen Demand(mg/L)  \\\n",
       "count                                     14290.000000   \n",
       "mean                                          2.051372   \n",
       "std                                           1.637950   \n",
       "min                                           0.000000   \n",
       "25%                                           1.000000   \n",
       "50%                                           2.000000   \n",
       "75%                                           2.400000   \n",
       "max                                          66.000000   \n",
       "\n",
       "       Top PCB Plate Count (Thous/mL)   Bottom PCB plate Count (Thous/mL)   \\\n",
       "count                      6654.000000                         6645.000000   \n",
       "mean                          2.376002                            1.985658   \n",
       "std                          21.450678                           28.440395   \n",
       "min                        -100.000000                         -100.000000   \n",
       "25%                           0.073000                            0.072000   \n",
       "50%                           0.230000                            0.209000   \n",
       "75%                           0.800000                            0.620000   \n",
       "max                        1200.000000                         1800.000000   \n",
       "\n",
       "       Bottom Coliform (Log No/mL)  Oakwood BOD Top Sample (mg/L)   \\\n",
       "count                  4160.000000                    18646.000000   \n",
       "mean                      1.476957                        2.610243   \n",
       "std                       0.810886                        1.548620   \n",
       "min                      -1.000000                        0.000000   \n",
       "25%                       1.000000                        1.500000   \n",
       "50%                       1.000000                        2.300000   \n",
       "75%                       2.000000                        3.300000   \n",
       "max                       9.630000                       17.200000   \n",
       "\n",
       "       Oakwood BOD Bottom Sample(mg/L)  \\\n",
       "count                     18564.000000   \n",
       "mean                          2.395346   \n",
       "std                           1.354373   \n",
       "min                           0.000000   \n",
       "25%                           1.400000   \n",
       "50%                           2.100000   \n",
       "75%                           3.100000   \n",
       "max                          15.800000   \n",
       "\n",
       "       Oakwood  Total Suspended Solid Top Sample  (mg/L)  \\\n",
       "count                                                0.0   \n",
       "mean                                                 NaN   \n",
       "std                                                  NaN   \n",
       "min                                                  NaN   \n",
       "25%                                                  NaN   \n",
       "50%                                                  NaN   \n",
       "75%                                                  NaN   \n",
       "max                                                  NaN   \n",
       "\n",
       "       Oakwood Total Suspended Solid Bottom Sample (mg/L)  \n",
       "count                                                0.0   \n",
       "mean                                                 NaN   \n",
       "std                                                  NaN   \n",
       "min                                                  NaN   \n",
       "25%                                                  NaN   \n",
       "50%                                                  NaN   \n",
       "75%                                                  NaN   \n",
       "max                                                  NaN   \n",
       "\n",
       "[8 rows x 51 columns]"
      ]
     },
     "execution_count": 5,
     "metadata": {},
     "output_type": "execute_result"
    }
   ],
   "source": [
    "df.describe()"
   ]
  },
  {
   "cell_type": "code",
   "execution_count": 6,
   "metadata": {},
   "outputs": [
    {
     "data": {
      "text/plain": [
       "5132"
      ]
     },
     "execution_count": 6,
     "metadata": {},
     "output_type": "execute_result"
    }
   ],
   "source": [
    "len(df['Sampling Location'].unique())"
   ]
  },
  {
   "cell_type": "code",
   "execution_count": 7,
   "metadata": {},
   "outputs": [
    {
     "data": {
      "text/plain": [
       "array(['BR5', 'K2', 'N8', ..., 'NR4-M1', 'NR1-M3', 'NR2-B2'], dtype=object)"
      ]
     },
     "execution_count": 7,
     "metadata": {},
     "output_type": "execute_result"
    }
   ],
   "source": [
    "df['Sampling Location'].unique()"
   ]
  },
  {
   "cell_type": "markdown",
   "metadata": {},
   "source": [
    "There are 230 distinct locations, but I have a list of New York City Harbor Water Quality Survey Stations that is much shorter. The sites not listed in the following list are from older sampling events."
   ]
  },
  {
   "cell_type": "code",
   "execution_count": 8,
   "metadata": {},
   "outputs": [],
   "source": [
    "survey_stations = ['K1', 'K2', 'K3', 'K4', 'K5', 'K5A', 'K6',\n",
    "                  'N1', 'N3B', 'N4', 'N5', 'N6', 'G2', 'N7', 'N8',\n",
    "                  'N9', 'N16', 'NR1', 'E2', 'E4', 'E6', 'E7', 'E8',\n",
    "                  'E10', 'E11', 'E12', 'E13', 'E14', 'E15', 'J1', \n",
    "                  'J2', 'J3', 'J5', 'J7', 'J8', 'J9A', 'J10', 'J11',\n",
    "                  'J12', 'JA1', 'N9A', 'H3', 'J14', 'J16', 'AC1',\n",
    "                  'AC1', 'AC2', 'BB2', 'BB4', 'BR1', 'BR3', 'BR5',\n",
    "                  'CIC2', 'CIC3', 'F1', 'F5', 'FB1', 'FLC1', 'FLC2',\n",
    "                  'GB1', 'GC3', 'GC4', 'GC5', 'GC6', 'HC1', 'HC2', \n",
    "                  'HC3', 'HR1', 'HR2', 'HR03', 'LN1', 'NC0', 'NC1',\n",
    "                  'NC2', 'NC3', 'PB2', 'PB3', 'SP1', 'SP2', 'WC1',\n",
    "                  'WC2', 'WC3'\n",
    "                  ]\n",
    "df = df[df['Sampling Location'].isin(survey_stations)]\n",
    "df = df.reset_index(drop=True)"
   ]
  },
  {
   "cell_type": "markdown",
   "metadata": {},
   "source": [
    "I don't want to look at data that is too old, so I am going to limit my dataset to readings from this millenium."
   ]
  },
  {
   "cell_type": "code",
   "execution_count": 9,
   "metadata": {},
   "outputs": [],
   "source": [
    "df = df[df['Sample Date'] >= datetime(2000, 1, 1)]\n",
    "df = df.reset_index(drop=True)"
   ]
  },
  {
   "cell_type": "markdown",
   "metadata": {},
   "source": [
    "I want to drop certain columns that do not have enough values or are not important to my question."
   ]
  },
  {
   "cell_type": "code",
   "execution_count": 10,
   "metadata": {},
   "outputs": [],
   "source": [
    "for col in df.columns:\n",
    "    if 'Oakwood' in col:\n",
    "        df = df.drop(columns=col)\n",
    "    elif len(df[df[col].notnull()]) < 10000:\n",
    "        df = df.drop(columns=col)\n",
    "df = df.reset_index(drop=True)"
   ]
  },
  {
   "cell_type": "markdown",
   "metadata": {},
   "source": [
    "Next I want to fix problematic columns"
   ]
  },
  {
   "cell_type": "code",
   "execution_count": 11,
   "metadata": {},
   "outputs": [],
   "source": [
    "# Drop columns that I don't need\n",
    "df = df.drop(['Current Direction (Current Direction)', 'Wind Direction (Wind Direction)',\n",
    "              'Current Speed (knot)', 'Wind Speed (mph)', 'Sea State ', 'Type',\n",
    "              'Enterococcus Top Sample Less Than or Greater Than Result'], axis=1)"
   ]
  },
  {
   "cell_type": "code",
   "execution_count": 12,
   "metadata": {},
   "outputs": [],
   "source": [
    "# Fix 'Weather Condition' column\n",
    "df['Weather Condition (Dry or Wet)'].unique()\n",
    "df = df.replace(['Dry', 'Wet'], ['D', 'W'])"
   ]
  },
  {
   "cell_type": "code",
   "execution_count": 13,
   "metadata": {},
   "outputs": [
    {
     "name": "stdout",
     "output_type": "stream",
     "text": [
      "Top Sample Photosysthetically Active Radiation Reference (400-700nm light (uE/S)\n",
      "Top Sample Par (uE/S m2)\n",
      "Secchi Depth (ft)\n",
      "Bottom PH\n",
      "Top Fecal Coliform Bacteria (Cells/100mL)\n",
      "Top Enterococci Bacteria (Cells/100mL)\n",
      "Top Nitrate/Nitrite (mg/L)\n",
      "Top Ammonium (mg/L)\n",
      "Top Ortho-Phosphorus (mg/L)\n",
      "Top Silica (mg/L)\n",
      "Total Phosphorus(mg/L)\n",
      "Bottom Total Suspended Solid (mg/L)\n",
      "Top Active Chlorophyll 'A' (µg/L)\n",
      "Long\n",
      "Lat\n"
     ]
    }
   ],
   "source": [
    "# Check which columns are numeric and create a list of object columns\n",
    "obj_cols = []\n",
    "ok_obj_cols = ['Sampling Location', 'Sample Date', 'Sample Time', 'Weather Condition (Dry or Wet)']\n",
    "for col in df:\n",
    "    if col not in ok_obj_cols:\n",
    "        try:\n",
    "            df[col] = pd.to_numeric(df[col])\n",
    "        except:\n",
    "            print(col)\n",
    "            obj_cols.append(col)"
   ]
  },
  {
   "cell_type": "code",
   "execution_count": 14,
   "metadata": {
    "scrolled": true
   },
   "outputs": [],
   "source": [
    "# Fix Bottom TSS\n",
    "df['Bottom Total Suspended Solid (mg/L)'] = df['Bottom Total Suspended Solid (mg/L)'].replace('.', np.nan)"
   ]
  },
  {
   "cell_type": "code",
   "execution_count": 15,
   "metadata": {},
   "outputs": [],
   "source": [
    "# Fix Secchi Disk\n",
    "df['Secchi Depth (ft)'] = df['Secchi Depth (ft)'].replace('3..5', '3.5')"
   ]
  },
  {
   "cell_type": "code",
   "execution_count": 16,
   "metadata": {},
   "outputs": [],
   "source": [
    "for i in df['Long']:\n",
    "    try:\n",
    "        pd.to_numeric(i)\n",
    "    except:\n",
    "        df['Long'] = df['Long'].replace(i, np.nan)"
   ]
  },
  {
   "cell_type": "code",
   "execution_count": 17,
   "metadata": {},
   "outputs": [],
   "source": [
    "# Fix Bottom PH\n",
    "df['Bottom PH'] = df['Bottom PH'].replace('N', np.nan)"
   ]
  },
  {
   "cell_type": "code",
   "execution_count": 18,
   "metadata": {},
   "outputs": [],
   "source": [
    "# Fix Top Active Chlorophyl\n",
    "df['Top Active Chlorophyll \\'A\\' (µg/L)'] = df['Top Active Chlorophyll \\'A\\' (µg/L)'].replace('.', np.nan)"
   ]
  },
  {
   "cell_type": "code",
   "execution_count": 19,
   "metadata": {},
   "outputs": [],
   "source": [
    "# Preprocess Top Fecal Col\n",
    "df['Top Fecal Coliform Bacteria (Cells/100mL)'] = df['Top Fecal Coliform Bacteria (Cells/100mL)'].replace('TNTC', np.nan)"
   ]
  },
  {
   "cell_type": "code",
   "execution_count": 20,
   "metadata": {},
   "outputs": [],
   "source": [
    "# Fix bacteria\n",
    "bacteria = ['Top Fecal Coliform Bacteria (Cells/100mL)',\n",
    "           'Top Enterococci Bacteria (Cells/100mL)']\n",
    "def fix_commas(string):\n",
    "    '''Removes commas from strings representing numbers\n",
    "    with values in the thousands'''\n",
    "    try:\n",
    "        string = pd.to_numeric(string)\n",
    "    except:\n",
    "        string = string.replace(',', '')\n",
    "    return string\n",
    "\n",
    "for col in bacteria:\n",
    "    try:\n",
    "        df[col] = df[col].apply(fix_commas)\n",
    "        df[col] = pd.to_numeric(df[col])\n",
    "    except:\n",
    "        print(col)"
   ]
  },
  {
   "cell_type": "code",
   "execution_count": 21,
   "metadata": {},
   "outputs": [],
   "source": [
    "# fix some of total phos\n",
    "df['Total Phosphorus(mg/L)'] = df['Total Phosphorus(mg/L)'].replace(['0..454', '0,968'], ['0.454', '0.968'])"
   ]
  },
  {
   "cell_type": "code",
   "execution_count": 22,
   "metadata": {},
   "outputs": [],
   "source": [
    "df['Top Ortho-Phosphorus (mg/L)'] = df['Top Ortho-Phosphorus (mg/L)'].replace('.', np.nan)"
   ]
  },
  {
   "cell_type": "code",
   "execution_count": 23,
   "metadata": {},
   "outputs": [],
   "source": [
    "# fix < sign\n",
    "less_than_cols = ['Top Nitrate/Nitrite (mg/L)', 'Top Ammonium (mg/L)',\n",
    "                 'Top Ortho-Phosphorus (mg/L)', 'Top Silica (mg/L)'\n",
    "                 ]\n",
    "def drop_less(string):\n",
    "    '''Removes commas from strings representing numbers\n",
    "    with values in the thousands'''\n",
    "    try:\n",
    "        string = pd.to_numeric(string)\n",
    "    except:\n",
    "        string = pd.to_numeric(string.replace('<', ''))\n",
    "    return string\n",
    "\n",
    "\n",
    "for col in less_than_cols:\n",
    "    try:\n",
    "        df[col] = df[col].apply(drop_less)\n",
    "        df[col] = pd.to_numeric(df[col])\n",
    "    except:\n",
    "        print(col)"
   ]
  },
  {
   "cell_type": "code",
   "execution_count": 24,
   "metadata": {},
   "outputs": [],
   "source": [
    "def col_strip(string):\n",
    "    '''Strips strings of trailing spaces and returns\n",
    "    stripped string or numeric value'''\n",
    "    if type(string) == str:\n",
    "        string = string.replace(' ', '')\n",
    "    return string"
   ]
  },
  {
   "cell_type": "code",
   "execution_count": 25,
   "metadata": {},
   "outputs": [
    {
     "name": "stderr",
     "output_type": "stream",
     "text": [
      "C:\\Users\\Drew\\Anaconda3\\lib\\site-packages\\ipykernel_launcher.py:7: SettingWithCopyWarning: \n",
      "A value is trying to be set on a copy of a slice from a DataFrame\n",
      "\n",
      "See the caveats in the documentation: http://pandas.pydata.org/pandas-docs/stable/indexing.html#indexing-view-versus-copy\n",
      "  import sys\n",
      "C:\\Users\\Drew\\Anaconda3\\lib\\site-packages\\ipykernel_launcher.py:9: SettingWithCopyWarning: \n",
      "A value is trying to be set on a copy of a slice from a DataFrame\n",
      "\n",
      "See the caveats in the documentation: http://pandas.pydata.org/pandas-docs/stable/indexing.html#indexing-view-versus-copy\n",
      "  if __name__ == '__main__':\n"
     ]
    }
   ],
   "source": [
    "for i, lat in enumerate(df['Lat']):\n",
    "    try:\n",
    "        pd.to_numeric(lat)\n",
    "    except:\n",
    "        lat_long = lat.split(',')\n",
    "        if len(lat_long) == 2:\n",
    "            df.loc[:, 'Lat'][i] = lat_long[0]\n",
    "            if len(lat_long[1]) > 1:\n",
    "                df.loc[:, 'Long'][i] = lat_long[1]\n"
   ]
  },
  {
   "cell_type": "code",
   "execution_count": 26,
   "metadata": {},
   "outputs": [
    {
     "name": "stdout",
     "output_type": "stream",
     "text": [
      "Sampling Location\n",
      "Sample Time\n",
      "Weather Condition (Dry or Wet)\n",
      "Total Phosphorus(mg/L)\n"
     ]
    }
   ],
   "source": [
    "for col in df:\n",
    "    if col != 'Sample Date':\n",
    "        try:\n",
    "            df[col] = df[col].apply(col_strip)\n",
    "            df[col] = pd.to_numeric(df[col])\n",
    "        except:\n",
    "            print(col)"
   ]
  },
  {
   "cell_type": "markdown",
   "metadata": {},
   "source": [
    "There are some longitude and latitudes that are switched."
   ]
  },
  {
   "cell_type": "code",
   "execution_count": 27,
   "metadata": {},
   "outputs": [],
   "source": [
    "for i, long in enumerate(df['Long']):\n",
    "    if long > 0:\n",
    "        lat = long\n",
    "        long = df.iloc[i]['Lat']\n",
    "        df.at[i,'Lat'] = lat\n",
    "        df.at[i,'Long'] = long"
   ]
  },
  {
   "cell_type": "code",
   "execution_count": 28,
   "metadata": {},
   "outputs": [],
   "source": [
    "times = []\n",
    "for i in df['Sample Time']:\n",
    "    try:\n",
    "        times.append(datetime.strptime(i, '%I:%M%p').time())\n",
    "    except:\n",
    "        times.append(np.nan)\n",
    "df['Sample Time'] = times"
   ]
  },
  {
   "cell_type": "code",
   "execution_count": 29,
   "metadata": {},
   "outputs": [],
   "source": [
    "# Drop duplicate measurements and columns that don't start being measured until 2005\n",
    "drop_cols =  ['Winkler Method Top Dissolved Oxygen (mg/L)',  \n",
    "              'Winkler Method Bottom Dissolved Oxygen (mg/L)', \n",
    "              'Percentage O2 Saturation Top Sample',  \n",
    "              'Percentage O2 Saturation Bottom sample',\n",
    "              'Total Phosphorus(mg/L)',\n",
    "              'Top Nitrate/Nitrite (mg/L)'\n",
    "             ]\n",
    "for col in df:\n",
    "    observation_df = df[df[col].notnull()]\n",
    "    if observation_df['Sample Date'].min().year > 2002:\n",
    "        drop_cols.append(col)\n",
    "df = df.drop(columns=drop_cols)"
   ]
  },
  {
   "cell_type": "markdown",
   "metadata": {},
   "source": [
    "Next I will examine the descriptive statistics of each column to identify values that are unexpectedly high or low. I looked at every column, but I will only include the problem column histograms here to save space."
   ]
  },
  {
   "cell_type": "code",
   "execution_count": 30,
   "metadata": {},
   "outputs": [],
   "source": [
    "prob_col = ['Site Actual Depth (ft)', 'Bottom Salinity  (psu)',\n",
    "            'Bottom Conductivity (S/m)', 'Top Sigma-T (kg/m3)',\n",
    "            'Top PH', 'Bottom PH', 'Top Enterococci Bacteria (Cells/100mL)',\n",
    "            'Top Total Suspended Solid (mg/L)', 'Bottom Total Suspended Solid (mg/L)',\n",
    "            'Top Active Chlorophyll \\'A\\' (µg/L)', 'Top Dissolved Organic Carbon (mg/L)'            \n",
    "           ]"
   ]
  },
  {
   "cell_type": "code",
   "execution_count": 31,
   "metadata": {
    "scrolled": true
   },
   "outputs": [
    {
     "data": {
      "text/html": [
       "<div>\n",
       "<style scoped>\n",
       "    .dataframe tbody tr th:only-of-type {\n",
       "        vertical-align: middle;\n",
       "    }\n",
       "\n",
       "    .dataframe tbody tr th {\n",
       "        vertical-align: top;\n",
       "    }\n",
       "\n",
       "    .dataframe thead th {\n",
       "        text-align: right;\n",
       "    }\n",
       "</style>\n",
       "<table border=\"1\" class=\"dataframe\">\n",
       "  <thead>\n",
       "    <tr style=\"text-align: right;\">\n",
       "      <th></th>\n",
       "      <th>Site Actual Depth (ft)</th>\n",
       "      <th>Bottom Salinity  (psu)</th>\n",
       "      <th>Bottom Conductivity (S/m)</th>\n",
       "      <th>Top Sigma-T (kg/m3)</th>\n",
       "      <th>Top PH</th>\n",
       "      <th>Bottom PH</th>\n",
       "      <th>Top Enterococci Bacteria (Cells/100mL)</th>\n",
       "      <th>Top Total Suspended Solid (mg/L)</th>\n",
       "      <th>Bottom Total Suspended Solid (mg/L)</th>\n",
       "      <th>Top Active Chlorophyll 'A' (µg/L)</th>\n",
       "      <th>Top Dissolved Organic Carbon (mg/L)</th>\n",
       "    </tr>\n",
       "  </thead>\n",
       "  <tbody>\n",
       "    <tr>\n",
       "      <th>count</th>\n",
       "      <td>27886.000000</td>\n",
       "      <td>17720.000000</td>\n",
       "      <td>17528.000000</td>\n",
       "      <td>18558.000000</td>\n",
       "      <td>27625.000000</td>\n",
       "      <td>20673.000000</td>\n",
       "      <td>28903.000000</td>\n",
       "      <td>28503.000000</td>\n",
       "      <td>20709.000000</td>\n",
       "      <td>28474.000000</td>\n",
       "      <td>27732.000000</td>\n",
       "    </tr>\n",
       "    <tr>\n",
       "      <th>mean</th>\n",
       "      <td>28.630030</td>\n",
       "      <td>24.809579</td>\n",
       "      <td>4.090200</td>\n",
       "      <td>15.648450</td>\n",
       "      <td>7.649962</td>\n",
       "      <td>7.624497</td>\n",
       "      <td>463.049614</td>\n",
       "      <td>14.555029</td>\n",
       "      <td>17.591278</td>\n",
       "      <td>16.219485</td>\n",
       "      <td>3.359917</td>\n",
       "    </tr>\n",
       "    <tr>\n",
       "      <th>std</th>\n",
       "      <td>21.298745</td>\n",
       "      <td>3.794550</td>\n",
       "      <td>4.665498</td>\n",
       "      <td>4.181427</td>\n",
       "      <td>0.557454</td>\n",
       "      <td>0.574186</td>\n",
       "      <td>5052.267825</td>\n",
       "      <td>18.827639</td>\n",
       "      <td>21.909812</td>\n",
       "      <td>25.121986</td>\n",
       "      <td>1.290050</td>\n",
       "    </tr>\n",
       "    <tr>\n",
       "      <th>min</th>\n",
       "      <td>0.020000</td>\n",
       "      <td>0.200000</td>\n",
       "      <td>0.000000</td>\n",
       "      <td>-2.720000</td>\n",
       "      <td>0.330000</td>\n",
       "      <td>0.000000</td>\n",
       "      <td>0.000000</td>\n",
       "      <td>0.000000</td>\n",
       "      <td>0.000000</td>\n",
       "      <td>0.090000</td>\n",
       "      <td>0.500000</td>\n",
       "    </tr>\n",
       "    <tr>\n",
       "      <th>25%</th>\n",
       "      <td>14.000000</td>\n",
       "      <td>23.060000</td>\n",
       "      <td>2.980000</td>\n",
       "      <td>14.130000</td>\n",
       "      <td>7.400000</td>\n",
       "      <td>7.400000</td>\n",
       "      <td>2.000000</td>\n",
       "      <td>7.000000</td>\n",
       "      <td>7.400000</td>\n",
       "      <td>2.650000</td>\n",
       "      <td>2.700000</td>\n",
       "    </tr>\n",
       "    <tr>\n",
       "      <th>50%</th>\n",
       "      <td>21.000000</td>\n",
       "      <td>25.240000</td>\n",
       "      <td>3.500000</td>\n",
       "      <td>16.320000</td>\n",
       "      <td>7.620000</td>\n",
       "      <td>7.600000</td>\n",
       "      <td>6.000000</td>\n",
       "      <td>11.000000</td>\n",
       "      <td>12.000000</td>\n",
       "      <td>6.780000</td>\n",
       "      <td>3.200000</td>\n",
       "    </tr>\n",
       "    <tr>\n",
       "      <th>75%</th>\n",
       "      <td>40.000000</td>\n",
       "      <td>27.270000</td>\n",
       "      <td>3.900000</td>\n",
       "      <td>18.110000</td>\n",
       "      <td>7.870000</td>\n",
       "      <td>7.830000</td>\n",
       "      <td>32.000000</td>\n",
       "      <td>18.000000</td>\n",
       "      <td>21.000000</td>\n",
       "      <td>19.600000</td>\n",
       "      <td>3.800000</td>\n",
       "    </tr>\n",
       "    <tr>\n",
       "      <th>max</th>\n",
       "      <td>230.000000</td>\n",
       "      <td>44.730000</td>\n",
       "      <td>62.560000</td>\n",
       "      <td>38.940000</td>\n",
       "      <td>78.000000</td>\n",
       "      <td>75.000000</td>\n",
       "      <td>200000.000000</td>\n",
       "      <td>1805.000000</td>\n",
       "      <td>704.400000</td>\n",
       "      <td>770.000000</td>\n",
       "      <td>97.000000</td>\n",
       "    </tr>\n",
       "  </tbody>\n",
       "</table>\n",
       "</div>"
      ],
      "text/plain": [
       "       Site Actual Depth (ft)  Bottom Salinity  (psu)  \\\n",
       "count            27886.000000            17720.000000   \n",
       "mean                28.630030               24.809579   \n",
       "std                 21.298745                3.794550   \n",
       "min                  0.020000                0.200000   \n",
       "25%                 14.000000               23.060000   \n",
       "50%                 21.000000               25.240000   \n",
       "75%                 40.000000               27.270000   \n",
       "max                230.000000               44.730000   \n",
       "\n",
       "       Bottom Conductivity (S/m)  Top Sigma-T (kg/m3)        Top PH  \\\n",
       "count               17528.000000         18558.000000  27625.000000   \n",
       "mean                    4.090200            15.648450      7.649962   \n",
       "std                     4.665498             4.181427      0.557454   \n",
       "min                     0.000000            -2.720000      0.330000   \n",
       "25%                     2.980000            14.130000      7.400000   \n",
       "50%                     3.500000            16.320000      7.620000   \n",
       "75%                     3.900000            18.110000      7.870000   \n",
       "max                    62.560000            38.940000     78.000000   \n",
       "\n",
       "          Bottom PH  Top Enterococci Bacteria (Cells/100mL)  \\\n",
       "count  20673.000000                            28903.000000   \n",
       "mean       7.624497                              463.049614   \n",
       "std        0.574186                             5052.267825   \n",
       "min        0.000000                                0.000000   \n",
       "25%        7.400000                                2.000000   \n",
       "50%        7.600000                                6.000000   \n",
       "75%        7.830000                               32.000000   \n",
       "max       75.000000                           200000.000000   \n",
       "\n",
       "       Top Total Suspended Solid (mg/L)  Bottom Total Suspended Solid (mg/L)  \\\n",
       "count                      28503.000000                         20709.000000   \n",
       "mean                          14.555029                            17.591278   \n",
       "std                           18.827639                            21.909812   \n",
       "min                            0.000000                             0.000000   \n",
       "25%                            7.000000                             7.400000   \n",
       "50%                           11.000000                            12.000000   \n",
       "75%                           18.000000                            21.000000   \n",
       "max                         1805.000000                           704.400000   \n",
       "\n",
       "       Top Active Chlorophyll 'A' (µg/L)  Top Dissolved Organic Carbon (mg/L)  \n",
       "count                       28474.000000                         27732.000000  \n",
       "mean                           16.219485                             3.359917  \n",
       "std                            25.121986                             1.290050  \n",
       "min                             0.090000                             0.500000  \n",
       "25%                             2.650000                             2.700000  \n",
       "50%                             6.780000                             3.200000  \n",
       "75%                            19.600000                             3.800000  \n",
       "max                           770.000000                            97.000000  "
      ]
     },
     "execution_count": 31,
     "metadata": {},
     "output_type": "execute_result"
    }
   ],
   "source": [
    "df[prob_col].describe()"
   ]
  },
  {
   "cell_type": "code",
   "execution_count": 34,
   "metadata": {},
   "outputs": [
    {
     "data": {
      "image/png": "[encoded data removed]",
      "text/plain": [
       "<Figure size 432x288 with 1 Axes>"
      ]
     },
     "metadata": {
      "needs_background": "light"
     },
     "output_type": "display_data"
    },
    {
     "data": {
      "image/png": "[encoded data removed]",
      "text/plain": [
       "<Figure size 432x288 with 1 Axes>"
      ]
     },
     "metadata": {
      "needs_background": "light"
     },
     "output_type": "display_data"
    },
    {
     "data": {
      "image/png": "[encoded data removed]",
      "text/plain": [
       "<Figure size 432x288 with 1 Axes>"
      ]
     },
     "metadata": {
      "needs_background": "light"
     },
     "output_type": "display_data"
    },
    {
     "data": {
      "image/png": "[encoded data removed]",
      "text/plain": [
       "<Figure size 432x288 with 1 Axes>"
      ]
     },
     "metadata": {
      "needs_background": "light"
     },
     "output_type": "display_data"
    },
    {
     "data": {
      "image/png": "[encoded data removed]",
      "text/plain": [
       "<Figure size 432x288 with 1 Axes>"
      ]
     },
     "metadata": {
      "needs_background": "light"
     },
     "output_type": "display_data"
    },
    {
     "data": {
      "image/png": "[encoded data removed]",
      "text/plain": [
       "<Figure size 432x288 with 1 Axes>"
      ]
     },
     "metadata": {
      "needs_background": "light"
     },
     "output_type": "display_data"
    },
    {
     "data": {
      "image/png": "[encoded data removed]",
      "text/plain": [
       "<Figure size 432x288 with 1 Axes>"
      ]
     },
     "metadata": {
      "needs_background": "light"
     },
     "output_type": "display_data"
    },
    {
     "data": {
      "image/png": "[encoded data removed]",
      "text/plain": [
       "<Figure size 432x288 with 1 Axes>"
      ]
     },
     "metadata": {
      "needs_background": "light"
     },
     "output_type": "display_data"
    },
    {
     "data": {
      "image/png": "[encoded data removed]",
      "text/plain": [
       "<Figure size 432x288 with 1 Axes>"
      ]
     },
     "metadata": {
      "needs_background": "light"
     },
     "output_type": "display_data"
    },
    {
     "data": {
      "image/png": "[encoded data removed]",
      "text/plain": [
       "<Figure size 432x288 with 1 Axes>"
      ]
     },
     "metadata": {
      "needs_background": "light"
     },
     "output_type": "display_data"
    },
    {
     "data": {
      "image/png": "[encoded data removed]",
      "text/plain": [
       "<Figure size 432x288 with 1 Axes>"
      ]
     },
     "metadata": {
      "needs_background": "light"
     },
     "output_type": "display_data"
    }
   ],
   "source": [
    "for col in prob_col:\n",
    "    _ = plt.figure()\n",
    "    _ = df[col].plot(kind='hist', bins=15)\n",
    "    _ = plt.yscale('log')\n",
    "    _ = plt.title(col)\n",
    "    _ = plt.show()"
   ]
  },
  {
   "cell_type": "code",
   "execution_count": 35,
   "metadata": {},
   "outputs": [
    {
     "data": {
      "text/html": [
       "<div>\n",
       "<style scoped>\n",
       "    .dataframe tbody tr th:only-of-type {\n",
       "        vertical-align: middle;\n",
       "    }\n",
       "\n",
       "    .dataframe tbody tr th {\n",
       "        vertical-align: top;\n",
       "    }\n",
       "\n",
       "    .dataframe thead th {\n",
       "        text-align: right;\n",
       "    }\n",
       "</style>\n",
       "<table border=\"1\" class=\"dataframe\">\n",
       "  <thead>\n",
       "    <tr style=\"text-align: right;\">\n",
       "      <th></th>\n",
       "      <th>Sampling Location</th>\n",
       "      <th>Sample Date</th>\n",
       "      <th>Sample Time</th>\n",
       "      <th>Weather Condition (Dry or Wet)</th>\n",
       "      <th>Top Sample Temperature (ºC)</th>\n",
       "      <th>Bottom Sample Temperature (ºC)</th>\n",
       "      <th>Site Actual Depth (ft)</th>\n",
       "      <th>Top Sample Depth(ft)</th>\n",
       "      <th>Bottom Sample Depth (ft)</th>\n",
       "      <th>Top Salinity  (psu)</th>\n",
       "      <th>...</th>\n",
       "      <th>Top Ammonium (mg/L)</th>\n",
       "      <th>Top Ortho-Phosphorus (mg/L)</th>\n",
       "      <th>Top Total Kjeldhal Nitrogen (mg/L)</th>\n",
       "      <th>Top Silica (mg/L)</th>\n",
       "      <th>Top Total Suspended Solid (mg/L)</th>\n",
       "      <th>Bottom Total Suspended Solid (mg/L)</th>\n",
       "      <th>Top Active Chlorophyll 'A' (µg/L)</th>\n",
       "      <th>Top Dissolved Organic Carbon (mg/L)</th>\n",
       "      <th>Long</th>\n",
       "      <th>Lat</th>\n",
       "    </tr>\n",
       "  </thead>\n",
       "  <tbody>\n",
       "    <tr>\n",
       "      <th>26577</th>\n",
       "      <td>E6</td>\n",
       "      <td>2018-05-24</td>\n",
       "      <td>13:05:00</td>\n",
       "      <td>D</td>\n",
       "      <td>15.18</td>\n",
       "      <td>13.95</td>\n",
       "      <td>230.0</td>\n",
       "      <td>3.0</td>\n",
       "      <td>19.0</td>\n",
       "      <td>22.39</td>\n",
       "      <td>...</td>\n",
       "      <td>0.225</td>\n",
       "      <td>0.087</td>\n",
       "      <td>0.786</td>\n",
       "      <td>1.086</td>\n",
       "      <td>8.00</td>\n",
       "      <td>8.0</td>\n",
       "      <td>3.38</td>\n",
       "      <td>2.82</td>\n",
       "      <td>-73.860830</td>\n",
       "      <td>40.78550</td>\n",
       "    </tr>\n",
       "    <tr>\n",
       "      <th>26153</th>\n",
       "      <td>NC2</td>\n",
       "      <td>2018-06-05</td>\n",
       "      <td>09:52:00</td>\n",
       "      <td>D</td>\n",
       "      <td>18.19</td>\n",
       "      <td>17.77</td>\n",
       "      <td>129.0</td>\n",
       "      <td>3.0</td>\n",
       "      <td>16.0</td>\n",
       "      <td>21.04</td>\n",
       "      <td>...</td>\n",
       "      <td>0.466</td>\n",
       "      <td>0.092</td>\n",
       "      <td>1.234</td>\n",
       "      <td>2.340</td>\n",
       "      <td>11.00</td>\n",
       "      <td>19.0</td>\n",
       "      <td>10.00</td>\n",
       "      <td>3.01</td>\n",
       "      <td>-73.935500</td>\n",
       "      <td>40.72883</td>\n",
       "    </tr>\n",
       "    <tr>\n",
       "      <th>24454</th>\n",
       "      <td>E8</td>\n",
       "      <td>2019-04-03</td>\n",
       "      <td>10:52:00</td>\n",
       "      <td>D</td>\n",
       "      <td>NaN</td>\n",
       "      <td>NaN</td>\n",
       "      <td>120.2</td>\n",
       "      <td>NaN</td>\n",
       "      <td>NaN</td>\n",
       "      <td>NaN</td>\n",
       "      <td>...</td>\n",
       "      <td>0.260</td>\n",
       "      <td>0.032</td>\n",
       "      <td>0.304</td>\n",
       "      <td>0.836</td>\n",
       "      <td>5.00</td>\n",
       "      <td>NaN</td>\n",
       "      <td>2.78</td>\n",
       "      <td>2.21</td>\n",
       "      <td>-73.820500</td>\n",
       "      <td>40.80500</td>\n",
       "    </tr>\n",
       "    <tr>\n",
       "      <th>24741</th>\n",
       "      <td>E8</td>\n",
       "      <td>2019-03-06</td>\n",
       "      <td>11:17:00</td>\n",
       "      <td>D</td>\n",
       "      <td>NaN</td>\n",
       "      <td>NaN</td>\n",
       "      <td>120.0</td>\n",
       "      <td>NaN</td>\n",
       "      <td>NaN</td>\n",
       "      <td>NaN</td>\n",
       "      <td>...</td>\n",
       "      <td>0.165</td>\n",
       "      <td>0.032</td>\n",
       "      <td>0.560</td>\n",
       "      <td>0.161</td>\n",
       "      <td>8.00</td>\n",
       "      <td>NaN</td>\n",
       "      <td>36.20</td>\n",
       "      <td>2.23</td>\n",
       "      <td>-73.820500</td>\n",
       "      <td>40.80500</td>\n",
       "    </tr>\n",
       "    <tr>\n",
       "      <th>18105</th>\n",
       "      <td>E8</td>\n",
       "      <td>2007-03-19</td>\n",
       "      <td>11:28:00</td>\n",
       "      <td>W</td>\n",
       "      <td>2.51</td>\n",
       "      <td>1.57</td>\n",
       "      <td>114.0</td>\n",
       "      <td>3.0</td>\n",
       "      <td>107.0</td>\n",
       "      <td>24.59</td>\n",
       "      <td>...</td>\n",
       "      <td>0.257</td>\n",
       "      <td>0.060</td>\n",
       "      <td>0.812</td>\n",
       "      <td>0.910</td>\n",
       "      <td>5.75</td>\n",
       "      <td>5.0</td>\n",
       "      <td>12.30</td>\n",
       "      <td>3.66</td>\n",
       "      <td>-73.783667</td>\n",
       "      <td>40.80050</td>\n",
       "    </tr>\n",
       "  </tbody>\n",
       "</table>\n",
       "<p>5 rows × 34 columns</p>\n",
       "</div>"
      ],
      "text/plain": [
       "      Sampling Location Sample Date Sample Time  \\\n",
       "26577                E6  2018-05-24    13:05:00   \n",
       "26153               NC2  2018-06-05    09:52:00   \n",
       "24454                E8  2019-04-03    10:52:00   \n",
       "24741                E8  2019-03-06    11:17:00   \n",
       "18105                E8  2007-03-19    11:28:00   \n",
       "\n",
       "      Weather Condition (Dry or Wet)  Top Sample Temperature (ºC)  \\\n",
       "26577                              D                        15.18   \n",
       "26153                              D                        18.19   \n",
       "24454                              D                          NaN   \n",
       "24741                              D                          NaN   \n",
       "18105                              W                         2.51   \n",
       "\n",
       "       Bottom Sample Temperature (ºC)  Site Actual Depth (ft)  \\\n",
       "26577                           13.95                   230.0   \n",
       "26153                           17.77                   129.0   \n",
       "24454                             NaN                   120.2   \n",
       "24741                             NaN                   120.0   \n",
       "18105                            1.57                   114.0   \n",
       "\n",
       "       Top Sample Depth(ft)  Bottom Sample Depth (ft)  Top Salinity  (psu)  \\\n",
       "26577                   3.0                      19.0                22.39   \n",
       "26153                   3.0                      16.0                21.04   \n",
       "24454                   NaN                       NaN                  NaN   \n",
       "24741                   NaN                       NaN                  NaN   \n",
       "18105                   3.0                     107.0                24.59   \n",
       "\n",
       "       ...  Top Ammonium (mg/L)  Top Ortho-Phosphorus (mg/L)  \\\n",
       "26577  ...                0.225                        0.087   \n",
       "26153  ...                0.466                        0.092   \n",
       "24454  ...                0.260                        0.032   \n",
       "24741  ...                0.165                        0.032   \n",
       "18105  ...                0.257                        0.060   \n",
       "\n",
       "       Top Total Kjeldhal Nitrogen (mg/L)  Top Silica (mg/L)  \\\n",
       "26577                               0.786              1.086   \n",
       "26153                               1.234              2.340   \n",
       "24454                               0.304              0.836   \n",
       "24741                               0.560              0.161   \n",
       "18105                               0.812              0.910   \n",
       "\n",
       "       Top Total Suspended Solid (mg/L)  Bottom Total Suspended Solid (mg/L)  \\\n",
       "26577                              8.00                                  8.0   \n",
       "26153                             11.00                                 19.0   \n",
       "24454                              5.00                                  NaN   \n",
       "24741                              8.00                                  NaN   \n",
       "18105                              5.75                                  5.0   \n",
       "\n",
       "       Top Active Chlorophyll 'A' (µg/L)  Top Dissolved Organic Carbon (mg/L)  \\\n",
       "26577                               3.38                                 2.82   \n",
       "26153                              10.00                                 3.01   \n",
       "24454                               2.78                                 2.21   \n",
       "24741                              36.20                                 2.23   \n",
       "18105                              12.30                                 3.66   \n",
       "\n",
       "            Long       Lat  \n",
       "26577 -73.860830  40.78550  \n",
       "26153 -73.935500  40.72883  \n",
       "24454 -73.820500  40.80500  \n",
       "24741 -73.820500  40.80500  \n",
       "18105 -73.783667  40.80050  \n",
       "\n",
       "[5 rows x 34 columns]"
      ]
     },
     "execution_count": 35,
     "metadata": {},
     "output_type": "execute_result"
    }
   ],
   "source": [
    "df.nlargest(5, 'Site Actual Depth (ft)')"
   ]
  },
  {
   "cell_type": "markdown",
   "metadata": {},
   "source": [
    "The max depth is almost twice as high as the next deepest location and is the only depth measurement from site `E6`. It is safe to assume that this point is an erroneous entry. After more exploration, it is clear that there was a decimal point was misplaced. The depth should be 23.0 not 230."
   ]
  },
  {
   "cell_type": "code",
   "execution_count": 36,
   "metadata": {},
   "outputs": [],
   "source": [
    "df.at[26577, 'Site Actual Depth (ft)'] = 23.0"
   ]
  },
  {
   "cell_type": "code",
   "execution_count": 37,
   "metadata": {},
   "outputs": [
    {
     "data": {
      "text/plain": [
       "17051    44.73\n",
       "19630    36.12\n",
       "19157    35.34\n",
       "202      35.23\n",
       "19198    34.94\n",
       "Name: Bottom Salinity  (psu), dtype: float64"
      ]
     },
     "execution_count": 37,
     "metadata": {},
     "output_type": "execute_result"
    }
   ],
   "source": [
    "df.nlargest(5, 'Bottom Salinity  (psu)')['Bottom Salinity  (psu)']"
   ]
  },
  {
   "cell_type": "markdown",
   "metadata": {},
   "source": [
    "While the maximum Bottom Salinity value is high, it does not appear to be an input error so I will keep it."
   ]
  },
  {
   "cell_type": "code",
   "execution_count": 38,
   "metadata": {},
   "outputs": [
    {
     "data": {
      "text/plain": [
       "17051    62.56\n",
       "202      49.38\n",
       "17208    43.66\n",
       "22574    43.59\n",
       "21503    43.47\n",
       "Name: Bottom Conductivity (S/m), dtype: float64"
      ]
     },
     "execution_count": 38,
     "metadata": {},
     "output_type": "execute_result"
    }
   ],
   "source": [
    "df.nlargest(5, 'Bottom Conductivity (S/m)')['Bottom Conductivity (S/m)']"
   ]
  },
  {
   "cell_type": "markdown",
   "metadata": {},
   "source": [
    "While the maximum Bottom Conductivity value is high, it does not appear to be an input error so I will keep it. It is from the same sampling event as the max Bottom Salinity value."
   ]
  },
  {
   "cell_type": "markdown",
   "metadata": {},
   "source": [
    "Despite being an exceedingly high measurement, dissolved oxygen can have wildly different values, so I will keep this outlier as well."
   ]
  },
  {
   "cell_type": "code",
   "execution_count": 39,
   "metadata": {},
   "outputs": [
    {
     "data": {
      "text/plain": [
       "9413     38.94\n",
       "23244    38.52\n",
       "14813    33.20\n",
       "4631     28.21\n",
       "2403     27.17\n",
       "Name: Top Sigma-T (kg/m3), dtype: float64"
      ]
     },
     "execution_count": 39,
     "metadata": {},
     "output_type": "execute_result"
    }
   ],
   "source": [
    "df.nlargest(5, 'Top Sigma-T (kg/m3)')['Top Sigma-T (kg/m3)']"
   ]
  },
  {
   "cell_type": "markdown",
   "metadata": {},
   "source": [
    "While high, these values appear to be outliers and not input errors."
   ]
  },
  {
   "cell_type": "code",
   "execution_count": 40,
   "metadata": {
    "scrolled": false
   },
   "outputs": [
    {
     "data": {
      "text/plain": [
       "25444    78.00\n",
       "1032     11.34\n",
       "11150    11.16\n",
       "25683     9.52\n",
       "20573     9.11\n",
       "Name: Top PH, dtype: float64"
      ]
     },
     "execution_count": 40,
     "metadata": {},
     "output_type": "execute_result"
    }
   ],
   "source": [
    "df.nlargest(5, 'Top PH')['Top PH']"
   ]
  },
  {
   "cell_type": "code",
   "execution_count": 41,
   "metadata": {},
   "outputs": [],
   "source": [
    "df.at[25444, 'Top PH'] = 7.80"
   ]
  },
  {
   "cell_type": "code",
   "execution_count": 42,
   "metadata": {
    "scrolled": false
   },
   "outputs": [
    {
     "data": {
      "text/plain": [
       "25344    75.00\n",
       "21549     8.96\n",
       "16150     8.92\n",
       "13185     8.90\n",
       "3130      8.88\n",
       "Name: Bottom PH, dtype: float64"
      ]
     },
     "execution_count": 42,
     "metadata": {},
     "output_type": "execute_result"
    }
   ],
   "source": [
    "df.nlargest(5, 'Bottom PH')['Bottom PH']"
   ]
  },
  {
   "cell_type": "code",
   "execution_count": 43,
   "metadata": {},
   "outputs": [],
   "source": [
    "df.at[25344, 'Bottom PH'] = 7.50"
   ]
  },
  {
   "cell_type": "code",
   "execution_count": 44,
   "metadata": {
    "scrolled": true
   },
   "outputs": [
    {
     "data": {
      "text/plain": [
       "2907     200000.0\n",
       "3423     200000.0\n",
       "8761     200000.0\n",
       "11484    200000.0\n",
       "18824    200000.0\n",
       "Name: Top Enterococci Bacteria (Cells/100mL), dtype: float64"
      ]
     },
     "execution_count": 44,
     "metadata": {},
     "output_type": "execute_result"
    }
   ],
   "source": [
    "df.nlargest(5, 'Top Enterococci Bacteria (Cells/100mL)')['Top Enterococci Bacteria (Cells/100mL)']"
   ]
  },
  {
   "cell_type": "markdown",
   "metadata": {},
   "source": [
    "Values don't appear to be errors."
   ]
  },
  {
   "cell_type": "code",
   "execution_count": 45,
   "metadata": {
    "scrolled": false
   },
   "outputs": [
    {
     "data": {
      "text/plain": [
       "2843     1805.0\n",
       "11396     536.0\n",
       "1927      535.0\n",
       "1412      488.0\n",
       "18597     442.0\n",
       "Name: Top Total Suspended Solid (mg/L), dtype: float64"
      ]
     },
     "execution_count": 45,
     "metadata": {},
     "output_type": "execute_result"
    }
   ],
   "source": [
    "df.nlargest(5, 'Top Total Suspended Solid (mg/L)')['Top Total Suspended Solid (mg/L)']"
   ]
  },
  {
   "cell_type": "code",
   "execution_count": 46,
   "metadata": {},
   "outputs": [],
   "source": [
    "df = df.drop(index=2843)"
   ]
  },
  {
   "cell_type": "code",
   "execution_count": 47,
   "metadata": {
    "scrolled": false
   },
   "outputs": [
    {
     "data": {
      "text/plain": [
       "2450     704.4\n",
       "22987    527.5\n",
       "4352     482.0\n",
       "600      442.0\n",
       "10874    388.0\n",
       "Name: Bottom Total Suspended Solid (mg/L), dtype: float64"
      ]
     },
     "execution_count": 47,
     "metadata": {},
     "output_type": "execute_result"
    }
   ],
   "source": [
    "df.nlargest(5, 'Bottom Total Suspended Solid (mg/L)')['Bottom Total Suspended Solid (mg/L)']"
   ]
  },
  {
   "cell_type": "code",
   "execution_count": 48,
   "metadata": {
    "scrolled": false
   },
   "outputs": [
    {
     "data": {
      "text/plain": [
       "12907    770.00\n",
       "20323    480.56\n",
       "27708    466.00\n",
       "29637    466.00\n",
       "21918    404.70\n",
       "Name: Top Active Chlorophyll 'A' (µg/L), dtype: float64"
      ]
     },
     "execution_count": 48,
     "metadata": {},
     "output_type": "execute_result"
    }
   ],
   "source": [
    "df.nlargest(5, 'Top Active Chlorophyll \\'A\\' (µg/L)')['Top Active Chlorophyll \\'A\\' (µg/L)']"
   ]
  },
  {
   "cell_type": "code",
   "execution_count": 49,
   "metadata": {
    "scrolled": true
   },
   "outputs": [
    {
     "data": {
      "text/plain": [
       "573      97.0\n",
       "23319    95.8\n",
       "28698    26.3\n",
       "29676    26.3\n",
       "28329    25.3\n",
       "Name: Top Dissolved Organic Carbon (mg/L), dtype: float64"
      ]
     },
     "execution_count": 49,
     "metadata": {},
     "output_type": "execute_result"
    }
   ],
   "source": [
    "df.nlargest(5, 'Top Dissolved Organic Carbon (mg/L)')['Top Dissolved Organic Carbon (mg/L)']"
   ]
  },
  {
   "cell_type": "code",
   "execution_count": 50,
   "metadata": {},
   "outputs": [],
   "source": [
    "df = df.drop(index=[573, 23319])"
   ]
  },
  {
   "cell_type": "code",
   "execution_count": 51,
   "metadata": {},
   "outputs": [],
   "source": [
    "df.reset_index(drop=True, inplace=True)"
   ]
  },
  {
   "cell_type": "code",
   "execution_count": 52,
   "metadata": {},
   "outputs": [
    {
     "data": {
      "text/plain": [
       "(31002, 34)"
      ]
     },
     "execution_count": 52,
     "metadata": {},
     "output_type": "execute_result"
    }
   ],
   "source": [
    "df.shape"
   ]
  },
  {
   "cell_type": "code",
   "execution_count": 53,
   "metadata": {},
   "outputs": [],
   "source": [
    "outpath = os.path.expanduser('~/Projects/capstone-two/data/processed/Clean_Harbor_Water_Quality.csv')\n",
    "df.to_csv(outpath)"
   ]
  }
 ],
 "metadata": {
  "kernelspec": {
   "display_name": "Python 3",
   "language": "python",
   "name": "python3"
  },
  "language_info": {
   "codemirror_mode": {
    "name": "ipython",
    "version": 3
   },
   "file_extension": ".py",
   "mimetype": "text/x-python",
   "name": "python",
   "nbconvert_exporter": "python",
   "pygments_lexer": "ipython3",
   "version": "3.6.7"
  }
 },
 "nbformat": 4,
 "nbformat_minor": 2
}
