{
 "cells": [
  {
   "cell_type": "code",
   "execution_count": 1,
   "metadata": {
    "scrolled": true
   },
   "outputs": [
    {
     "name": "stderr",
     "output_type": "stream",
     "text": [
      "C:\\Users\\Drew\\Anaconda3\\lib\\site-packages\\IPython\\core\\interactiveshell.py:2717: DtypeWarning: Columns (5,6,10,11,12,13,20,21,26,27,35,38,40,51,53,59,60,61,64,65,67,68,76,82,83,88,94,95,97,98) have mixed types. Specify dtype option on import or set low_memory=False.\n",
      "  interactivity=interactivity, compiler=compiler, result=result)\n"
     ]
    }
   ],
   "source": [
    "# Import the necessary packages and data\n",
    "from collections import defaultdict\n",
    "import matplotlib.pyplot as plt\n",
    "import numpy as np\n",
    "import os\n",
    "import pandas as pd\n",
    "import seaborn as sns\n",
    "sns.set()\n",
    "path = os.path.expanduser('~/Projects/capstone-two/data/raw/Harbor_Water_Quality.csv')\n",
    "df = pd.read_csv(path, parse_dates=['Sample Date', 'Sample Time'])"
   ]
  },
  {
   "cell_type": "markdown",
   "metadata": {},
   "source": [
    "There are dataype problems with certain columns, but before dealing with those, I first want to see what the dataframe looks like."
   ]
  },
  {
   "cell_type": "code",
   "execution_count": 2,
   "metadata": {},
   "outputs": [],
   "source": [
    "#df.shape"
   ]
  },
  {
   "cell_type": "code",
   "execution_count": 3,
   "metadata": {
    "scrolled": true
   },
   "outputs": [],
   "source": [
    "#df.head()"
   ]
  },
  {
   "cell_type": "code",
   "execution_count": 4,
   "metadata": {
    "scrolled": true
   },
   "outputs": [],
   "source": [
    "#df.info()"
   ]
  },
  {
   "cell_type": "code",
   "execution_count": 5,
   "metadata": {
    "scrolled": true
   },
   "outputs": [],
   "source": [
    "#df.describe()"
   ]
  },
  {
   "cell_type": "code",
   "execution_count": 6,
   "metadata": {},
   "outputs": [],
   "source": [
    "#len(df['Sampling Location'].unique())"
   ]
  },
  {
   "cell_type": "code",
   "execution_count": 7,
   "metadata": {},
   "outputs": [],
   "source": [
    "#df['Sampling Location'].unique()"
   ]
  },
  {
   "cell_type": "markdown",
   "metadata": {},
   "source": [
    "There are 230 distinct locations, but I have a list of New York City Harbor Water Quality Survey Stations that is much shorter. I want to see how many samples I have from those sites. If I have a good amount, then I can continue without having to figure out the undefined locations. If I do need to use those locations, I could try utilizing their lat/long values and group them with the nearest site."
   ]
  },
  {
   "cell_type": "code",
   "execution_count": 8,
   "metadata": {},
   "outputs": [
    {
     "name": "stdout",
     "output_type": "stream",
     "text": [
      "82\n"
     ]
    }
   ],
   "source": [
    "survey_stations = ['K1', 'K2', 'K3', 'K4', 'K5', 'K5A', 'K6',\n",
    "                  'N1', 'N3B', 'N4', 'N5', 'N6', 'G2', 'N7', 'N8',\n",
    "                  'N9', 'N16', 'NR1', 'E2', 'E4', 'E6', 'E7', 'E8',\n",
    "                  'E10', 'E11', 'E12', 'E13', 'E14', 'E15', 'J1', \n",
    "                  'J2', 'J3', 'J5', 'J7', 'J8', 'J9A', 'J10', 'J11',\n",
    "                  'J12', 'JA1', 'N9A', 'H3', 'J14', 'J16', 'AC1',\n",
    "                  'AC1', 'AC2', 'BB2', 'BB4', 'BR1', 'BR3', 'BR5',\n",
    "                  'CIC2', 'CIC3', 'F1', 'F5', 'FB1', 'FLC1', 'FLC2',\n",
    "                  'GB1', 'GC3', 'GC4', 'GC5', 'GC6', 'HC1', 'HC2', \n",
    "                  'HC3', 'HR1', 'HR2', 'HR03', 'LN1', 'NC0', 'NC1',\n",
    "                  'NC2', 'NC3', 'PB2', 'PB3', 'SP1', 'SP2', 'WC1',\n",
    "                  'WC2', 'WC3'\n",
    "                  ]\n",
    "print(len(survey_stations))"
   ]
  },
  {
   "cell_type": "code",
   "execution_count": 9,
   "metadata": {},
   "outputs": [
    {
     "data": {
      "text/plain": [
       "61967"
      ]
     },
     "execution_count": 9,
     "metadata": {},
     "output_type": "execute_result"
    }
   ],
   "source": [
    "df = df[df['Sampling Location'].isin(survey_stations)]\n",
    "df = df.reset_index(drop=True)\n",
    "len(df)"
   ]
  },
  {
   "cell_type": "markdown",
   "metadata": {},
   "source": [
    "From the dataset documentation, I am dropping columns from taken exclusively at the Oakwood Water Treatment Facility for now. I am also dropping all columns with less than 10,000 entries."
   ]
  },
  {
   "cell_type": "code",
   "execution_count": 10,
   "metadata": {
    "scrolled": false
   },
   "outputs": [],
   "source": [
    "#df.info()"
   ]
  },
  {
   "cell_type": "markdown",
   "metadata": {},
   "source": [
    "I don't want to look at data that is too old, so I am going to limit my dataset to readings from this millenium."
   ]
  },
  {
   "cell_type": "code",
   "execution_count": 11,
   "metadata": {},
   "outputs": [],
   "source": [
    "from datetime import datetime\n",
    "df = df[df['Sample Date'] >= datetime(2000, 1, 1)]\n",
    "df = df.reset_index(drop=True)"
   ]
  },
  {
   "cell_type": "code",
   "execution_count": 12,
   "metadata": {},
   "outputs": [],
   "source": [
    "#df.info()"
   ]
  },
  {
   "cell_type": "code",
   "execution_count": 13,
   "metadata": {},
   "outputs": [],
   "source": [
    "for col in df.columns:\n",
    "    if 'Oakwood' in col:\n",
    "        df = df.drop(columns=col)\n",
    "\n",
    "#    elif 'Bottom' in col:\n",
    "#        df = df.drop(columns=col)\n",
    "    elif len(df[df[col].notnull()]) < 10000:\n",
    "        df = df.drop(columns=col)\n",
    "df = df.reset_index(drop=True)"
   ]
  },
  {
   "cell_type": "code",
   "execution_count": 14,
   "metadata": {},
   "outputs": [],
   "source": [
    "#df.info()"
   ]
  },
  {
   "cell_type": "markdown",
   "metadata": {},
   "source": [
    "Next I want to fix problematic columns"
   ]
  },
  {
   "cell_type": "code",
   "execution_count": 15,
   "metadata": {},
   "outputs": [],
   "source": [
    "# Drop columns that I don't need\n",
    "df = df.drop(['Current Direction (Current Direction)', 'Wind Direction (Wind Direction)',\n",
    "              'Current Speed (knot)', 'Wind Speed (mph)', 'Sea State ', 'Type',\n",
    "              'Enterococcus Top Sample Less Than or Greater Than Result'], axis=1)"
   ]
  },
  {
   "cell_type": "code",
   "execution_count": 16,
   "metadata": {},
   "outputs": [],
   "source": [
    "# Fix 'Weather Condition' column\n",
    "df['Weather Condition (Dry or Wet)'].unique()\n",
    "df = df.replace(['Dry', 'Wet'], ['D', 'W'])"
   ]
  },
  {
   "cell_type": "code",
   "execution_count": 17,
   "metadata": {},
   "outputs": [
    {
     "name": "stdout",
     "output_type": "stream",
     "text": [
      "Top Sample Photosysthetically Active Radiation Reference (400-700nm light (uE/S)\n",
      "Top Sample Par (uE/S m2)\n",
      "Secchi Depth (ft)\n",
      "Bottom PH\n",
      "Top Fecal Coliform Bacteria (Cells/100mL)\n",
      "Top Enterococci Bacteria (Cells/100mL)\n",
      "Top Nitrate/Nitrite (mg/L)\n",
      "Top Ammonium (mg/L)\n",
      "Top Ortho-Phosphorus (mg/L)\n",
      "Top Silica (mg/L)\n",
      "Total Phosphorus(mg/L)\n",
      "Bottom Total Suspended Solid (mg/L)\n",
      "Top Active Chlorophyll 'A' (µg/L)\n",
      "Long\n",
      "Lat\n"
     ]
    }
   ],
   "source": [
    "# Check which columns are numeric and create a list of object columns\n",
    "obj_cols = []\n",
    "ok_obj_cols = ['Sampling Location', 'Sample Date', 'Sample Time', 'Weather Condition (Dry or Wet)']\n",
    "for col in df:\n",
    "    if col not in ok_obj_cols:\n",
    "        try:\n",
    "            df[col] = pd.to_numeric(df[col])\n",
    "        except:\n",
    "            print(col)\n",
    "            obj_cols.append(col)"
   ]
  },
  {
   "cell_type": "code",
   "execution_count": 18,
   "metadata": {
    "scrolled": true
   },
   "outputs": [],
   "source": [
    "# Fix Bottom TSS\n",
    "df['Bottom Total Suspended Solid (mg/L)'] = df['Bottom Total Suspended Solid (mg/L)'].replace('.', np.nan)"
   ]
  },
  {
   "cell_type": "code",
   "execution_count": 19,
   "metadata": {},
   "outputs": [],
   "source": [
    "# Fix Secchi Disk\n",
    "df['Secchi Depth (ft)'] = df['Secchi Depth (ft)'].replace('3..5', '3.5')"
   ]
  },
  {
   "cell_type": "code",
   "execution_count": 20,
   "metadata": {},
   "outputs": [],
   "source": [
    "for i in df['Long']:\n",
    "    try:\n",
    "        pd.to_numeric(i)\n",
    "    except:\n",
    "        df['Long'] = df['Long'].replace(i, np.nan)"
   ]
  },
  {
   "cell_type": "code",
   "execution_count": 21,
   "metadata": {},
   "outputs": [],
   "source": [
    "# Fix Bottom PH\n",
    "df['Bottom PH'] = df['Bottom PH'].replace('N', np.nan)"
   ]
  },
  {
   "cell_type": "code",
   "execution_count": 22,
   "metadata": {},
   "outputs": [],
   "source": [
    "# Fix Top Active Chlorophyl\n",
    "df['Top Active Chlorophyll \\'A\\' (µg/L)'] = df['Top Active Chlorophyll \\'A\\' (µg/L)'].replace('.', np.nan)"
   ]
  },
  {
   "cell_type": "code",
   "execution_count": 23,
   "metadata": {},
   "outputs": [],
   "source": [
    "# Preprocess Top Fecal Col\n",
    "df['Top Fecal Coliform Bacteria (Cells/100mL)'] = df['Top Fecal Coliform Bacteria (Cells/100mL)'].replace('TNTC', np.nan)"
   ]
  },
  {
   "cell_type": "code",
   "execution_count": 24,
   "metadata": {},
   "outputs": [],
   "source": [
    "# Fix bacteria\n",
    "bacteria = ['Top Fecal Coliform Bacteria (Cells/100mL)',\n",
    "           'Top Enterococci Bacteria (Cells/100mL)']\n",
    "def fix_commas(string):\n",
    "    '''Removes commas from strings representing numbers\n",
    "    with values in the thousands'''\n",
    "    try:\n",
    "        string = pd.to_numeric(string)\n",
    "    except:\n",
    "        string = string.replace(',', '')\n",
    "    return string\n",
    "\n",
    "for col in bacteria:\n",
    "    try:\n",
    "        df[col] = df[col].apply(fix_commas)\n",
    "        df[col] = pd.to_numeric(df[col])\n",
    "    except:\n",
    "        print(col)"
   ]
  },
  {
   "cell_type": "code",
   "execution_count": 25,
   "metadata": {},
   "outputs": [],
   "source": [
    "# fix some of total phos\n",
    "df['Total Phosphorus(mg/L)'] = df['Total Phosphorus(mg/L)'].replace(['0..454', '0,968'], ['0.454', '0.968'])"
   ]
  },
  {
   "cell_type": "code",
   "execution_count": 26,
   "metadata": {},
   "outputs": [],
   "source": [
    "df['Top Ortho-Phosphorus (mg/L)'] = df['Top Ortho-Phosphorus (mg/L)'].replace('.', np.nan)"
   ]
  },
  {
   "cell_type": "code",
   "execution_count": 27,
   "metadata": {},
   "outputs": [],
   "source": [
    "# fix < sign\n",
    "less_than_cols = ['Top Nitrate/Nitrite (mg/L)', 'Top Ammonium (mg/L)',\n",
    "                 'Top Ortho-Phosphorus (mg/L)', 'Top Silica (mg/L)',\n",
    "                  'Total Phosphorus(mg/L)' \n",
    "                 ]\n",
    "def drop_less(string):\n",
    "    '''Removes commas from strings representing numbers\n",
    "    with values in the thousands'''\n",
    "    try:\n",
    "        string = pd.to_numeric(string)\n",
    "    except:\n",
    "        string = pd.to_numeric(string.replace('<', ''))\n",
    "    return string\n",
    "\n",
    "\n",
    "for col in less_than_cols:\n",
    "    try:\n",
    "        df[col] = df[col].apply(drop_less)\n",
    "        df[col] = pd.to_numeric(df[col])\n",
    "    except:\n",
    "        print(col)"
   ]
  },
  {
   "cell_type": "code",
   "execution_count": 28,
   "metadata": {},
   "outputs": [],
   "source": [
    "def col_strip(string):\n",
    "    '''Strips strings of trailing spaces and returns\n",
    "    stripped string or numeric value'''\n",
    "    if type(string) == str:\n",
    "        string = string.replace(' ', '')\n",
    "    return string"
   ]
  },
  {
   "cell_type": "code",
   "execution_count": 29,
   "metadata": {},
   "outputs": [],
   "source": [
    "#df.info()"
   ]
  },
  {
   "cell_type": "code",
   "execution_count": 30,
   "metadata": {},
   "outputs": [],
   "source": [
    "for i in df['Top Ortho-Phosphorus (mg/L)']:\n",
    "    try:\n",
    "        pd.to_numeric(i)\n",
    "    except:\n",
    "        print(i)"
   ]
  },
  {
   "cell_type": "code",
   "execution_count": 31,
   "metadata": {},
   "outputs": [
    {
     "name": "stderr",
     "output_type": "stream",
     "text": [
      "C:\\Users\\Drew\\Anaconda3\\lib\\site-packages\\ipykernel_launcher.py:7: SettingWithCopyWarning: \n",
      "A value is trying to be set on a copy of a slice from a DataFrame\n",
      "\n",
      "See the caveats in the documentation: http://pandas.pydata.org/pandas-docs/stable/indexing.html#indexing-view-versus-copy\n",
      "  import sys\n",
      "C:\\Users\\Drew\\Anaconda3\\lib\\site-packages\\ipykernel_launcher.py:9: SettingWithCopyWarning: \n",
      "A value is trying to be set on a copy of a slice from a DataFrame\n",
      "\n",
      "See the caveats in the documentation: http://pandas.pydata.org/pandas-docs/stable/indexing.html#indexing-view-versus-copy\n",
      "  if __name__ == '__main__':\n"
     ]
    }
   ],
   "source": [
    "for i, lat in enumerate(df['Lat']):\n",
    "    try:\n",
    "        pd.to_numeric(lat)\n",
    "    except:\n",
    "        lat_long = lat.split(',')\n",
    "        if len(lat_long) == 2:\n",
    "            df.loc[:, 'Lat'][i] = lat_long[0]\n",
    "            if len(lat_long[1]) > 1:\n",
    "                df.loc[:, 'Long'][i] = lat_long[1]\n"
   ]
  },
  {
   "cell_type": "code",
   "execution_count": 32,
   "metadata": {},
   "outputs": [
    {
     "name": "stdout",
     "output_type": "stream",
     "text": [
      "Sampling Location\n",
      "Sample Time\n",
      "Weather Condition (Dry or Wet)\n"
     ]
    }
   ],
   "source": [
    "for col in df:\n",
    "    if col != 'Sample Date':\n",
    "        try:\n",
    "            df[col] = df[col].apply(col_strip)\n",
    "            df[col] = pd.to_numeric(df[col])\n",
    "        except:\n",
    "            print(col)"
   ]
  },
  {
   "cell_type": "code",
   "execution_count": 33,
   "metadata": {},
   "outputs": [
    {
     "name": "stdout",
     "output_type": "stream",
     "text": [
      "<class 'pandas.core.frame.DataFrame'>\n",
      "RangeIndex: 31005 entries, 0 to 31004\n",
      "Data columns (total 47 columns):\n",
      "Sampling Location                                                                   31005 non-null object\n",
      "Sample Date                                                                         31005 non-null datetime64[ns]\n",
      "Sample Time                                                                         31005 non-null object\n",
      "Weather Condition (Dry or Wet)                                                      30601 non-null object\n",
      "Top Sample Temperature (ºC)                                                         18996 non-null float64\n",
      "Bottom Sample Temperature (ºC)                                                      17733 non-null float64\n",
      "Site Actual Depth (ft)                                                              27886 non-null float64\n",
      "Top Sample Depth(ft)                                                                18939 non-null float64\n",
      "Bottom Sample Depth (ft)                                                            17836 non-null float64\n",
      "Top Salinity  (psu)                                                                 18968 non-null float64\n",
      "Bottom Salinity  (psu)                                                              17720 non-null float64\n",
      "Top Conductivity (S/m)                                                              18758 non-null float64\n",
      "Bottom Conductivity (S/m)                                                           17528 non-null float64\n",
      "CTD (conductivity, temperature, depth profiler) Top Dissolved Oxygen (mg/L)         16217 non-null float64\n",
      "CTD (conductivity, temperature, depth profiler) Bottom Dissolved Oxygen (mg/L)      15022 non-null float64\n",
      "Percentage O2 Saturation Top Sample                                                 17730 non-null float64\n",
      "Percentage O2 Saturation Bottom sample                                              16556 non-null float64\n",
      "Light Trans (% transparency) Top Sample                                             11998 non-null float64\n",
      "Light Trans (% transparency) Bottom Sample                                          11036 non-null float64\n",
      "Top Sigma-T (kg/m3)                                                                 18558 non-null float64\n",
      "Bottom Sigma-T (kg/m3)                                                              17365 non-null float64\n",
      "Top Fluorometer (mg/m3)                                                             15424 non-null float64\n",
      "Bottom Fluorometer mg/m3                                                            14169 non-null float64\n",
      "Top Sample Photosysthetically Active Radiation Reference (400-700nm light (uE/S)    11542 non-null float64\n",
      "Top Sample Par (uE/S m2)                                                            12577 non-null float64\n",
      "Bottom Sample Par uE/S (uE/S m2)                                                    11639 non-null float64\n",
      "Oxidation Reduction Potential (mV) Top Sample                                       12333 non-null float64\n",
      "Oxidation Reduction Potential (mV) Bottom Sample                                    11414 non-null float64\n",
      "Winkler Method Top Dissolved Oxygen (mg/L)                                          22797 non-null float64\n",
      "Winkler Method Bottom Dissolved Oxygen (mg/L)                                       20295 non-null float64\n",
      "Secchi Depth (ft)                                                                   23022 non-null float64\n",
      "Top PH                                                                              27625 non-null float64\n",
      "Bottom PH                                                                           20673 non-null float64\n",
      "Top Fecal Coliform Bacteria (Cells/100mL)                                           28862 non-null float64\n",
      "Top Enterococci Bacteria (Cells/100mL)                                              28903 non-null float64\n",
      "Top Nitrate/Nitrite (mg/L)                                                          28602 non-null float64\n",
      "Top Ammonium (mg/L)                                                                 28574 non-null float64\n",
      "Top Ortho-Phosphorus (mg/L)                                                         19297 non-null float64\n",
      "Top Total Kjeldhal Nitrogen (mg/L)                                                  28533 non-null float64\n",
      "Top Silica (mg/L)                                                                   28507 non-null float64\n",
      "Total Phosphorus(mg/L)                                                              28554 non-null float64\n",
      "Top Total Suspended Solid (mg/L)                                                    28503 non-null float64\n",
      "Bottom Total Suspended Solid (mg/L)                                                 20709 non-null float64\n",
      "Top Active Chlorophyll 'A' (µg/L)                                                   28474 non-null float64\n",
      "Top Dissolved Organic Carbon (mg/L)                                                 27732 non-null float64\n",
      "Long                                                                                31003 non-null float64\n",
      "Lat                                                                                 31003 non-null float64\n",
      "dtypes: datetime64[ns](1), float64(43), object(3)\n",
      "memory usage: 11.1+ MB\n"
     ]
    }
   ],
   "source": [
    "df.info()"
   ]
  },
  {
   "cell_type": "code",
   "execution_count": 34,
   "metadata": {},
   "outputs": [
    {
     "data": {
      "text/html": [
       "<div>\n",
       "<style scoped>\n",
       "    .dataframe tbody tr th:only-of-type {\n",
       "        vertical-align: middle;\n",
       "    }\n",
       "\n",
       "    .dataframe tbody tr th {\n",
       "        vertical-align: top;\n",
       "    }\n",
       "\n",
       "    .dataframe thead th {\n",
       "        text-align: right;\n",
       "    }\n",
       "</style>\n",
       "<table border=\"1\" class=\"dataframe\">\n",
       "  <thead>\n",
       "    <tr style=\"text-align: right;\">\n",
       "      <th></th>\n",
       "      <th>Top Sample Temperature (ºC)</th>\n",
       "      <th>Bottom Sample Temperature (ºC)</th>\n",
       "      <th>Site Actual Depth (ft)</th>\n",
       "      <th>Top Sample Depth(ft)</th>\n",
       "      <th>Bottom Sample Depth (ft)</th>\n",
       "      <th>Top Salinity  (psu)</th>\n",
       "      <th>Bottom Salinity  (psu)</th>\n",
       "      <th>Top Conductivity (S/m)</th>\n",
       "      <th>Bottom Conductivity (S/m)</th>\n",
       "      <th>CTD (conductivity, temperature, depth profiler) Top Dissolved Oxygen (mg/L)</th>\n",
       "      <th>...</th>\n",
       "      <th>Top Ortho-Phosphorus (mg/L)</th>\n",
       "      <th>Top Total Kjeldhal Nitrogen (mg/L)</th>\n",
       "      <th>Top Silica (mg/L)</th>\n",
       "      <th>Total Phosphorus(mg/L)</th>\n",
       "      <th>Top Total Suspended Solid (mg/L)</th>\n",
       "      <th>Bottom Total Suspended Solid (mg/L)</th>\n",
       "      <th>Top Active Chlorophyll 'A' (µg/L)</th>\n",
       "      <th>Top Dissolved Organic Carbon (mg/L)</th>\n",
       "      <th>Long</th>\n",
       "      <th>Lat</th>\n",
       "    </tr>\n",
       "  </thead>\n",
       "  <tbody>\n",
       "    <tr>\n",
       "      <th>count</th>\n",
       "      <td>18996.000000</td>\n",
       "      <td>17733.000000</td>\n",
       "      <td>27886.000000</td>\n",
       "      <td>18939.000000</td>\n",
       "      <td>17836.000000</td>\n",
       "      <td>18968.000000</td>\n",
       "      <td>17720.000000</td>\n",
       "      <td>18758.000000</td>\n",
       "      <td>17528.000000</td>\n",
       "      <td>16217.000000</td>\n",
       "      <td>...</td>\n",
       "      <td>19297.000000</td>\n",
       "      <td>28533.000000</td>\n",
       "      <td>28507.000000</td>\n",
       "      <td>28554.000000</td>\n",
       "      <td>28503.000000</td>\n",
       "      <td>20709.000000</td>\n",
       "      <td>28474.000000</td>\n",
       "      <td>27732.000000</td>\n",
       "      <td>31003.000000</td>\n",
       "      <td>31003.000000</td>\n",
       "    </tr>\n",
       "    <tr>\n",
       "      <th>mean</th>\n",
       "      <td>18.703483</td>\n",
       "      <td>18.002141</td>\n",
       "      <td>28.630030</td>\n",
       "      <td>3.380010</td>\n",
       "      <td>32.244005</td>\n",
       "      <td>22.866737</td>\n",
       "      <td>24.809579</td>\n",
       "      <td>3.837574</td>\n",
       "      <td>4.090200</td>\n",
       "      <td>6.851332</td>\n",
       "      <td>...</td>\n",
       "      <td>0.165340</td>\n",
       "      <td>1.183278</td>\n",
       "      <td>2.151428</td>\n",
       "      <td>0.249150</td>\n",
       "      <td>14.555029</td>\n",
       "      <td>17.591278</td>\n",
       "      <td>16.219485</td>\n",
       "      <td>3.359917</td>\n",
       "      <td>-73.922439</td>\n",
       "      <td>40.683739</td>\n",
       "    </tr>\n",
       "    <tr>\n",
       "      <th>std</th>\n",
       "      <td>6.801709</td>\n",
       "      <td>6.523780</td>\n",
       "      <td>21.298745</td>\n",
       "      <td>0.749955</td>\n",
       "      <td>20.358388</td>\n",
       "      <td>5.269741</td>\n",
       "      <td>3.794550</td>\n",
       "      <td>4.396670</td>\n",
       "      <td>4.665498</td>\n",
       "      <td>2.871964</td>\n",
       "      <td>...</td>\n",
       "      <td>0.275925</td>\n",
       "      <td>1.865418</td>\n",
       "      <td>2.331622</td>\n",
       "      <td>0.330311</td>\n",
       "      <td>18.827639</td>\n",
       "      <td>21.909812</td>\n",
       "      <td>25.121986</td>\n",
       "      <td>1.290050</td>\n",
       "      <td>0.927987</td>\n",
       "      <td>0.926517</td>\n",
       "    </tr>\n",
       "    <tr>\n",
       "      <th>min</th>\n",
       "      <td>-1.740000</td>\n",
       "      <td>-1.870000</td>\n",
       "      <td>0.020000</td>\n",
       "      <td>0.700000</td>\n",
       "      <td>1.000000</td>\n",
       "      <td>0.120000</td>\n",
       "      <td>0.200000</td>\n",
       "      <td>0.020000</td>\n",
       "      <td>0.000000</td>\n",
       "      <td>-1.120000</td>\n",
       "      <td>...</td>\n",
       "      <td>0.000000</td>\n",
       "      <td>0.033000</td>\n",
       "      <td>0.014000</td>\n",
       "      <td>0.009000</td>\n",
       "      <td>0.000000</td>\n",
       "      <td>0.000000</td>\n",
       "      <td>0.090000</td>\n",
       "      <td>0.500000</td>\n",
       "      <td>-74.258833</td>\n",
       "      <td>-73.990053</td>\n",
       "    </tr>\n",
       "    <tr>\n",
       "      <th>25%</th>\n",
       "      <td>15.737500</td>\n",
       "      <td>15.000000</td>\n",
       "      <td>14.000000</td>\n",
       "      <td>3.000000</td>\n",
       "      <td>17.000000</td>\n",
       "      <td>21.160000</td>\n",
       "      <td>23.060000</td>\n",
       "      <td>2.730000</td>\n",
       "      <td>2.980000</td>\n",
       "      <td>5.080000</td>\n",
       "      <td>...</td>\n",
       "      <td>0.070000</td>\n",
       "      <td>0.608000</td>\n",
       "      <td>1.020000</td>\n",
       "      <td>0.129000</td>\n",
       "      <td>7.000000</td>\n",
       "      <td>7.400000</td>\n",
       "      <td>2.650000</td>\n",
       "      <td>2.700000</td>\n",
       "      <td>-73.989073</td>\n",
       "      <td>40.627000</td>\n",
       "    </tr>\n",
       "    <tr>\n",
       "      <th>50%</th>\n",
       "      <td>21.190000</td>\n",
       "      <td>20.340000</td>\n",
       "      <td>21.000000</td>\n",
       "      <td>3.000000</td>\n",
       "      <td>25.000000</td>\n",
       "      <td>24.060000</td>\n",
       "      <td>25.240000</td>\n",
       "      <td>3.370000</td>\n",
       "      <td>3.500000</td>\n",
       "      <td>6.410000</td>\n",
       "      <td>...</td>\n",
       "      <td>0.115000</td>\n",
       "      <td>0.858000</td>\n",
       "      <td>1.697000</td>\n",
       "      <td>0.181000</td>\n",
       "      <td>11.000000</td>\n",
       "      <td>12.000000</td>\n",
       "      <td>6.780000</td>\n",
       "      <td>3.200000</td>\n",
       "      <td>-73.899833</td>\n",
       "      <td>40.666667</td>\n",
       "    </tr>\n",
       "    <tr>\n",
       "      <th>75%</th>\n",
       "      <td>23.570000</td>\n",
       "      <td>22.830000</td>\n",
       "      <td>40.000000</td>\n",
       "      <td>4.000000</td>\n",
       "      <td>43.000000</td>\n",
       "      <td>26.220000</td>\n",
       "      <td>27.270000</td>\n",
       "      <td>3.820000</td>\n",
       "      <td>3.900000</td>\n",
       "      <td>8.080000</td>\n",
       "      <td>...</td>\n",
       "      <td>0.164000</td>\n",
       "      <td>1.270000</td>\n",
       "      <td>2.540000</td>\n",
       "      <td>0.258000</td>\n",
       "      <td>18.000000</td>\n",
       "      <td>21.000000</td>\n",
       "      <td>19.600000</td>\n",
       "      <td>3.800000</td>\n",
       "      <td>-73.847613</td>\n",
       "      <td>40.782500</td>\n",
       "    </tr>\n",
       "    <tr>\n",
       "      <th>max</th>\n",
       "      <td>30.010000</td>\n",
       "      <td>29.230000</td>\n",
       "      <td>230.000000</td>\n",
       "      <td>12.000000</td>\n",
       "      <td>107.000000</td>\n",
       "      <td>34.760000</td>\n",
       "      <td>44.730000</td>\n",
       "      <td>43.960000</td>\n",
       "      <td>62.560000</td>\n",
       "      <td>28.560000</td>\n",
       "      <td>...</td>\n",
       "      <td>5.210000</td>\n",
       "      <td>44.800000</td>\n",
       "      <td>28.834000</td>\n",
       "      <td>15.500000</td>\n",
       "      <td>1805.000000</td>\n",
       "      <td>704.400000</td>\n",
       "      <td>770.000000</td>\n",
       "      <td>97.000000</td>\n",
       "      <td>40.679429</td>\n",
       "      <td>40.914500</td>\n",
       "    </tr>\n",
       "  </tbody>\n",
       "</table>\n",
       "<p>8 rows × 43 columns</p>\n",
       "</div>"
      ],
      "text/plain": [
       "       Top Sample Temperature (ºC)  Bottom Sample Temperature (ºC)  \\\n",
       "count                 18996.000000                    17733.000000   \n",
       "mean                     18.703483                       18.002141   \n",
       "std                       6.801709                        6.523780   \n",
       "min                      -1.740000                       -1.870000   \n",
       "25%                      15.737500                       15.000000   \n",
       "50%                      21.190000                       20.340000   \n",
       "75%                      23.570000                       22.830000   \n",
       "max                      30.010000                       29.230000   \n",
       "\n",
       "       Site Actual Depth (ft)  Top Sample Depth(ft)  Bottom Sample Depth (ft)  \\\n",
       "count            27886.000000          18939.000000              17836.000000   \n",
       "mean                28.630030              3.380010                 32.244005   \n",
       "std                 21.298745              0.749955                 20.358388   \n",
       "min                  0.020000              0.700000                  1.000000   \n",
       "25%                 14.000000              3.000000                 17.000000   \n",
       "50%                 21.000000              3.000000                 25.000000   \n",
       "75%                 40.000000              4.000000                 43.000000   \n",
       "max                230.000000             12.000000                107.000000   \n",
       "\n",
       "       Top Salinity  (psu)  Bottom Salinity  (psu)  Top Conductivity (S/m)  \\\n",
       "count         18968.000000            17720.000000            18758.000000   \n",
       "mean             22.866737               24.809579                3.837574   \n",
       "std               5.269741                3.794550                4.396670   \n",
       "min               0.120000                0.200000                0.020000   \n",
       "25%              21.160000               23.060000                2.730000   \n",
       "50%              24.060000               25.240000                3.370000   \n",
       "75%              26.220000               27.270000                3.820000   \n",
       "max              34.760000               44.730000               43.960000   \n",
       "\n",
       "       Bottom Conductivity (S/m)  \\\n",
       "count               17528.000000   \n",
       "mean                    4.090200   \n",
       "std                     4.665498   \n",
       "min                     0.000000   \n",
       "25%                     2.980000   \n",
       "50%                     3.500000   \n",
       "75%                     3.900000   \n",
       "max                    62.560000   \n",
       "\n",
       "       CTD (conductivity, temperature, depth profiler) Top Dissolved Oxygen (mg/L)  \\\n",
       "count                                       16217.000000                             \n",
       "mean                                            6.851332                             \n",
       "std                                             2.871964                             \n",
       "min                                            -1.120000                             \n",
       "25%                                             5.080000                             \n",
       "50%                                             6.410000                             \n",
       "75%                                             8.080000                             \n",
       "max                                            28.560000                             \n",
       "\n",
       "       ...  Top Ortho-Phosphorus (mg/L)  Top Total Kjeldhal Nitrogen (mg/L)  \\\n",
       "count  ...                 19297.000000                        28533.000000   \n",
       "mean   ...                     0.165340                            1.183278   \n",
       "std    ...                     0.275925                            1.865418   \n",
       "min    ...                     0.000000                            0.033000   \n",
       "25%    ...                     0.070000                            0.608000   \n",
       "50%    ...                     0.115000                            0.858000   \n",
       "75%    ...                     0.164000                            1.270000   \n",
       "max    ...                     5.210000                           44.800000   \n",
       "\n",
       "       Top Silica (mg/L)  Total Phosphorus(mg/L)  \\\n",
       "count       28507.000000            28554.000000   \n",
       "mean            2.151428                0.249150   \n",
       "std             2.331622                0.330311   \n",
       "min             0.014000                0.009000   \n",
       "25%             1.020000                0.129000   \n",
       "50%             1.697000                0.181000   \n",
       "75%             2.540000                0.258000   \n",
       "max            28.834000               15.500000   \n",
       "\n",
       "       Top Total Suspended Solid (mg/L)  Bottom Total Suspended Solid (mg/L)  \\\n",
       "count                      28503.000000                         20709.000000   \n",
       "mean                          14.555029                            17.591278   \n",
       "std                           18.827639                            21.909812   \n",
       "min                            0.000000                             0.000000   \n",
       "25%                            7.000000                             7.400000   \n",
       "50%                           11.000000                            12.000000   \n",
       "75%                           18.000000                            21.000000   \n",
       "max                         1805.000000                           704.400000   \n",
       "\n",
       "       Top Active Chlorophyll 'A' (µg/L)  Top Dissolved Organic Carbon (mg/L)  \\\n",
       "count                       28474.000000                         27732.000000   \n",
       "mean                           16.219485                             3.359917   \n",
       "std                            25.121986                             1.290050   \n",
       "min                             0.090000                             0.500000   \n",
       "25%                             2.650000                             2.700000   \n",
       "50%                             6.780000                             3.200000   \n",
       "75%                            19.600000                             3.800000   \n",
       "max                           770.000000                            97.000000   \n",
       "\n",
       "               Long           Lat  \n",
       "count  31003.000000  31003.000000  \n",
       "mean     -73.922439     40.683739  \n",
       "std        0.927987      0.926517  \n",
       "min      -74.258833    -73.990053  \n",
       "25%      -73.989073     40.627000  \n",
       "50%      -73.899833     40.666667  \n",
       "75%      -73.847613     40.782500  \n",
       "max       40.679429     40.914500  \n",
       "\n",
       "[8 rows x 43 columns]"
      ]
     },
     "execution_count": 34,
     "metadata": {},
     "output_type": "execute_result"
    }
   ],
   "source": [
    "df.describe()"
   ]
  },
  {
   "cell_type": "code",
   "execution_count": null,
   "metadata": {},
   "outputs": [],
   "source": []
  },
  {
   "cell_type": "code",
   "execution_count": null,
   "metadata": {},
   "outputs": [],
   "source": []
  },
  {
   "cell_type": "code",
   "execution_count": null,
   "metadata": {},
   "outputs": [],
   "source": []
  },
  {
   "cell_type": "code",
   "execution_count": null,
   "metadata": {},
   "outputs": [],
   "source": []
  },
  {
   "cell_type": "code",
   "execution_count": null,
   "metadata": {},
   "outputs": [],
   "source": []
  },
  {
   "cell_type": "code",
   "execution_count": null,
   "metadata": {
    "scrolled": true
   },
   "outputs": [],
   "source": []
  },
  {
   "cell_type": "code",
   "execution_count": null,
   "metadata": {},
   "outputs": [],
   "source": []
  },
  {
   "cell_type": "code",
   "execution_count": null,
   "metadata": {},
   "outputs": [],
   "source": [
    "\n"
   ]
  },
  {
   "cell_type": "code",
   "execution_count": null,
   "metadata": {},
   "outputs": [],
   "source": []
  },
  {
   "cell_type": "code",
   "execution_count": null,
   "metadata": {},
   "outputs": [],
   "source": []
  },
  {
   "cell_type": "code",
   "execution_count": null,
   "metadata": {},
   "outputs": [],
   "source": []
  },
  {
   "cell_type": "code",
   "execution_count": null,
   "metadata": {},
   "outputs": [],
   "source": []
  },
  {
   "cell_type": "code",
   "execution_count": null,
   "metadata": {},
   "outputs": [],
   "source": []
  },
  {
   "cell_type": "code",
   "execution_count": null,
   "metadata": {},
   "outputs": [],
   "source": []
  },
  {
   "cell_type": "code",
   "execution_count": null,
   "metadata": {},
   "outputs": [],
   "source": []
  },
  {
   "cell_type": "code",
   "execution_count": null,
   "metadata": {},
   "outputs": [],
   "source": []
  },
  {
   "cell_type": "code",
   "execution_count": null,
   "metadata": {},
   "outputs": [],
   "source": []
  },
  {
   "cell_type": "code",
   "execution_count": null,
   "metadata": {},
   "outputs": [],
   "source": []
  },
  {
   "cell_type": "code",
   "execution_count": null,
   "metadata": {},
   "outputs": [],
   "source": []
  },
  {
   "cell_type": "code",
   "execution_count": null,
   "metadata": {},
   "outputs": [],
   "source": []
  },
  {
   "cell_type": "code",
   "execution_count": null,
   "metadata": {},
   "outputs": [],
   "source": []
  },
  {
   "cell_type": "code",
   "execution_count": null,
   "metadata": {},
   "outputs": [],
   "source": []
  },
  {
   "cell_type": "code",
   "execution_count": null,
   "metadata": {},
   "outputs": [],
   "source": []
  },
  {
   "cell_type": "code",
   "execution_count": null,
   "metadata": {},
   "outputs": [],
   "source": []
  },
  {
   "cell_type": "code",
   "execution_count": null,
   "metadata": {},
   "outputs": [],
   "source": []
  },
  {
   "cell_type": "code",
   "execution_count": null,
   "metadata": {},
   "outputs": [],
   "source": []
  },
  {
   "cell_type": "code",
   "execution_count": null,
   "metadata": {},
   "outputs": [],
   "source": []
  },
  {
   "cell_type": "markdown",
   "metadata": {},
   "source": [
    "What would happen if I drop all rows that have fewer than 40 columns present?"
   ]
  },
  {
   "cell_type": "code",
   "execution_count": null,
   "metadata": {},
   "outputs": [],
   "source": [
    "from collections import defaultdict\n",
    "columns_represented = defaultdict(int)\n",
    "for i, row in df.iterrows():\n",
    "    columns_represented[row.notnull().sum()] +=1"
   ]
  },
  {
   "cell_type": "code",
   "execution_count": 39,
   "metadata": {},
   "outputs": [],
   "source": [
    "drop_cols = []\n",
    "for i, row in df.iterrows():\n",
    "    if row.notnull().sum() < 23:\n",
    "        drop_cols.append(i)\n",
    "df1 = df.drop(drop_cols)"
   ]
  },
  {
   "cell_type": "code",
   "execution_count": 40,
   "metadata": {},
   "outputs": [
    {
     "data": {
      "text/plain": [
       "(20068, 47)"
      ]
     },
     "execution_count": 40,
     "metadata": {},
     "output_type": "execute_result"
    }
   ],
   "source": [
    "df1.shape"
   ]
  },
  {
   "cell_type": "code",
   "execution_count": null,
   "metadata": {},
   "outputs": [],
   "source": [
    "for col in df:\n",
    "    print(col, df[col].count())"
   ]
  },
  {
   "cell_type": "markdown",
   "metadata": {},
   "source": [
    "I want to get an idea of the frequency each site is sampled."
   ]
  },
  {
   "cell_type": "code",
   "execution_count": null,
   "metadata": {},
   "outputs": [],
   "source": [
    "for site in survey_stations:\n",
    "    site_df = df[df['Sampling Location'] == site]\n",
    "    print(site, len(site_df), site_df['Sample Date'].min(), site_df['Sample Date'].max())"
   ]
  },
  {
   "cell_type": "code",
   "execution_count": null,
   "metadata": {},
   "outputs": [],
   "source": []
  },
  {
   "cell_type": "code",
   "execution_count": null,
   "metadata": {},
   "outputs": [],
   "source": []
  },
  {
   "cell_type": "code",
   "execution_count": null,
   "metadata": {},
   "outputs": [],
   "source": []
  },
  {
   "cell_type": "code",
   "execution_count": null,
   "metadata": {},
   "outputs": [],
   "source": []
  },
  {
   "cell_type": "code",
   "execution_count": null,
   "metadata": {},
   "outputs": [],
   "source": []
  },
  {
   "cell_type": "code",
   "execution_count": null,
   "metadata": {},
   "outputs": [],
   "source": []
  },
  {
   "cell_type": "code",
   "execution_count": null,
   "metadata": {},
   "outputs": [],
   "source": []
  },
  {
   "cell_type": "code",
   "execution_count": null,
   "metadata": {},
   "outputs": [],
   "source": []
  },
  {
   "cell_type": "code",
   "execution_count": null,
   "metadata": {},
   "outputs": [],
   "source": []
  },
  {
   "cell_type": "code",
   "execution_count": null,
   "metadata": {},
   "outputs": [],
   "source": []
  },
  {
   "cell_type": "code",
   "execution_count": null,
   "metadata": {},
   "outputs": [],
   "source": []
  },
  {
   "cell_type": "code",
   "execution_count": null,
   "metadata": {},
   "outputs": [],
   "source": []
  },
  {
   "cell_type": "code",
   "execution_count": null,
   "metadata": {},
   "outputs": [],
   "source": []
  },
  {
   "cell_type": "code",
   "execution_count": null,
   "metadata": {},
   "outputs": [],
   "source": []
  },
  {
   "cell_type": "code",
   "execution_count": null,
   "metadata": {},
   "outputs": [],
   "source": []
  },
  {
   "cell_type": "code",
   "execution_count": null,
   "metadata": {},
   "outputs": [],
   "source": []
  },
  {
   "cell_type": "code",
   "execution_count": null,
   "metadata": {},
   "outputs": [],
   "source": []
  },
  {
   "cell_type": "code",
   "execution_count": null,
   "metadata": {},
   "outputs": [],
   "source": []
  },
  {
   "cell_type": "code",
   "execution_count": null,
   "metadata": {},
   "outputs": [],
   "source": []
  },
  {
   "cell_type": "code",
   "execution_count": null,
   "metadata": {},
   "outputs": [],
   "source": []
  },
  {
   "cell_type": "code",
   "execution_count": null,
   "metadata": {},
   "outputs": [],
   "source": []
  },
  {
   "cell_type": "code",
   "execution_count": null,
   "metadata": {},
   "outputs": [],
   "source": []
  },
  {
   "cell_type": "code",
   "execution_count": null,
   "metadata": {},
   "outputs": [],
   "source": []
  },
  {
   "cell_type": "code",
   "execution_count": null,
   "metadata": {},
   "outputs": [],
   "source": []
  },
  {
   "cell_type": "code",
   "execution_count": null,
   "metadata": {},
   "outputs": [],
   "source": []
  },
  {
   "cell_type": "code",
   "execution_count": null,
   "metadata": {},
   "outputs": [],
   "source": []
  },
  {
   "cell_type": "code",
   "execution_count": null,
   "metadata": {},
   "outputs": [],
   "source": []
  },
  {
   "cell_type": "code",
   "execution_count": null,
   "metadata": {},
   "outputs": [],
   "source": []
  }
 ],
 "metadata": {
  "kernelspec": {
   "display_name": "Python 3",
   "language": "python",
   "name": "python3"
  },
  "language_info": {
   "codemirror_mode": {
    "name": "ipython",
    "version": 3
   },
   "file_extension": ".py",
   "mimetype": "text/x-python",
   "name": "python",
   "nbconvert_exporter": "python",
   "pygments_lexer": "ipython3",
   "version": "3.6.7"
  }
 },
 "nbformat": 4,
 "nbformat_minor": 2
}
