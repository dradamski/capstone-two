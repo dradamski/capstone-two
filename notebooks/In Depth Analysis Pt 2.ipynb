{
 "cells": [
  {
   "cell_type": "markdown",
   "metadata": {},
   "source": [
    "I want to create another column that says whether a certain site failure overlapped with others"
   ]
  },
  {
   "cell_type": "code",
   "execution_count": null,
   "metadata": {},
   "outputs": [],
   "source": [
    "import matplotlib.pyplot as plt\n",
    "import numpy as np\n",
    "import os\n",
    "import pandas as pd\n",
    "import seaborn as sns\n",
    "\n",
    "from sklearn.ensemble import RandomForestClassifier\n",
    "from sklearn.feature_selection import RFE\n",
    "from sklearn.linear_model import LogisticRegression\n",
    "from sklearn.metrics import auc, classification_report, f1_score, roc_curve\n",
    "from sklearn.model_selection import train_test_split\n",
    "\n",
    "from tqdm import tqdm\n",
    "\n",
    "sns.set()\n",
    "path = os.path.expanduser('~/Projects/capstone-two/data/processed/Final_Clean_Harbor_Water_Quality.csv', )\n",
    "wq_df = pd.read_csv(path, parse_dates=['Sample Date'], index_col=0)\n",
    "wq_df['Sampling Location'] = wq_df['Sampling Location'].astype('category')"
   ]
  },
  {
   "cell_type": "markdown",
   "metadata": {},
   "source": [
    "Having graph showing overlapping failures does not give me additional information on when sites fail in respect to each other. The most highly connected sites in the graph are also the most frequent ones that fail which makes sense. I want to now make a new dataframe that illustrates these connections more completely."
   ]
  },
  {
   "cell_type": "code",
   "execution_count": null,
   "metadata": {},
   "outputs": [],
   "source": [
    "def site_fail_col(df, site, col):\n",
    "    '''Creates a list of binary responses to whether the measurement failed (1) test \\'col\\' or not (0)\n",
    "        in reference to the date of the original \\'site\\' sample.\n",
    "        df  = pandas DataFrame from which to draw all data\n",
    "        site = sampling location being tested. When site fails, what other sites fail?\n",
    "        col = parameter being tested\n",
    "        '''\n",
    "    column = col + ' Failure'\n",
    "    fail_date_df = df[(df['Sampling Location'] == site) & (df[column] == 1)]['Sample Date']\n",
    "    site_set = set([(i.year, i.month) for i in fail_date_df])\n",
    "    \n",
    "    site_col_overlap = []\n",
    "    \n",
    "    # Checks to see if sample date is in set of dates where `site` failed  \n",
    "    # if failures overlap, appends 1 to site_col_overlap\n",
    "    for tup in df.itertuples():\n",
    "        if (tup[42] == 1) & ((tup[2].year, tup[2].month) in site_set):\n",
    "            site_col_overlap.append(1)\n",
    "        else:\n",
    "            site_col_overlap.append(0)\n",
    "    \n",
    "    return site_col_overlap"
   ]
  },
  {
   "cell_type": "code",
   "execution_count": null,
   "metadata": {},
   "outputs": [],
   "source": [
    "from tqdm import tqdm\n",
    "\n",
    "chl_overlap_df = pd.DataFrame(data=wq_df['Sampling Location'])\n",
    "\n",
    "for site in tqdm(wq_df['Sampling Location'].unique()):\n",
    "    col_name = site + '_fail_overlap_chl'\n",
    "    site_list = site_fail_col(wq_df, site, 'Top Active Chlorophyll \\'A\\' (µg/L)')\n",
    "    \n",
    "    chl_overlap_df[col_name] = site_list\n",
    "\n",
    "    \n",
    "ent_overlap_df = pd.DataFrame(data=wq_df['Sampling Location'])\n",
    "\n",
    "for site in tqdm(wq_df['Sampling Location'].unique()):\n",
    "    col_name = site + '_fail_overlap_ent'\n",
    "    site_list = site_fail_col(wq_df, site, 'Top Enterococci Bacteria (Cells/100mL)')\n",
    "    \n",
    "    ent_overlap_df[col_name] = site_list\n",
    "\n",
    "\n",
    "pho_overlap_df = pd.DataFrame(data=wq_df['Sampling Location'])\n",
    "\n",
    "for site in tqdm(wq_df['Sampling Location'].unique()):\n",
    "    col_name = site + '_fail_overlap_pho'\n",
    "    site_list = site_fail_col(wq_df, site, 'Top Ortho-Phosphorus (mg/L)')\n",
    "    \n",
    "    pho_overlap_df[col_name] = site_list\n"
   ]
  },
  {
   "cell_type": "markdown",
   "metadata": {},
   "source": [
    "For these graphs, the site along the x-axis is the one who's prediction ability we are testing. If site_x fails, then what is the probability that site_y fails too. I made it so the sum of each row and column had to be greater than 1 so if site_x fails, at least 1 of the shown sites should fail as well."
   ]
  },
  {
   "cell_type": "code",
   "execution_count": null,
   "metadata": {
    "scrolled": false
   },
   "outputs": [],
   "source": [
    "chl_means_df = chl_overlap_df.groupby('Sampling Location').mean()\n",
    "for i, row in chl_means_df.iterrows():\n",
    "    if row.sum() <= 1:\n",
    "        chl_means_df = chl_means_df.drop(index=[i])\n",
    "\n",
    "for col in chl_means_df:\n",
    "    if chl_means_df[col].sum() <= 1:\n",
    "        chl_means_df = chl_means_df.drop(columns=[col])\n",
    "        \n",
    "print(chl_means_df.shape)    \n",
    "_ = plt.figure(figsize=(10, 7))\n",
    "_ = sns.heatmap(data=chl_means_df, cmap='Greens')"
   ]
  },
  {
   "cell_type": "code",
   "execution_count": null,
   "metadata": {},
   "outputs": [],
   "source": [
    "ent_means_df = ent_overlap_df.groupby('Sampling Location').mean()\n",
    "for i, row in ent_means_df.iterrows():\n",
    "    if row.sum() <= 1:\n",
    "        ent_means_df = ent_means_df.drop(index=[i])\n",
    "for col in ent_means_df:\n",
    "    if ent_means_df[col].sum() <= 1:\n",
    "        ent_means_df = ent_means_df.drop(columns=[col])\n",
    "print(ent_means_df.shape)\n",
    "_ = plt.figure(figsize=(10, 7))\n",
    "_ = sns.heatmap(data=ent_means_df, cmap='Reds')"
   ]
  },
  {
   "cell_type": "code",
   "execution_count": null,
   "metadata": {},
   "outputs": [],
   "source": [
    "pho_means_df = pho_overlap_df.groupby('Sampling Location').mean()\n",
    "for i, row in pho_means_df.iterrows():\n",
    "    if row.sum() <= 1:\n",
    "        pho_means_df = pho_means_df.drop(index=[i])\n",
    "for col in pho_means_df:\n",
    "    if pho_means_df[col].sum() <= 1:\n",
    "        pho_means_df = pho_means_df.drop(columns=[col])\n",
    "print(pho_means_df.shape)\n",
    "_ = plt.figure(figsize=(10, 7))\n",
    "_ = plt.xticks()\n",
    "_ = sns.heatmap(data=pho_means_df, cmap='Blues')"
   ]
  },
  {
   "cell_type": "markdown",
   "metadata": {},
   "source": [
    "With the above heatmaps, I am able to see which sites I should focus my efforts on. For instance in the chlorophyll heatmap (green), J11 appears to have a relationship to a variety of sites. I will explore this later as well."
   ]
  },
  {
   "cell_type": "markdown",
   "metadata": {},
   "source": [
    "# Inverse Distance Weighted Maps\n",
    "\n",
    "It will be helpful for my analysis to put the heatmaps in the context of geography. For the following graphs, I took into account the distance between each site using latitude and longitude as well as the frequency of overlap. In following Tobler's First Law of Geography, sites that are closer together will have a greater likelihood of influencing each other. \n",
    "\n",
    "The following function was repurposed from [this](https://stackoverflow.com/questions/3104781/inverse-distance-weighted-idw-interpolation-with-python) Stack Overflow thread.\n",
    "\n",
    "\n",
    "In these visualizations, the darkest areas are the sites that predict a failure at the target site."
   ]
  },
  {
   "cell_type": "code",
   "execution_count": null,
   "metadata": {
    "scrolled": false
   },
   "outputs": [],
   "source": [
    "def main(df, site, param):\n",
    "    # Setup: Generate data...\n",
    "    nx, ny = 50, 50\n",
    "    x = df['Long']\n",
    "    y = df['Lat']\n",
    "    z = df[site + '_fail_overlap_' + param]\n",
    "    xi = np.linspace(x.min(), x.max(), nx)\n",
    "    yi = np.linspace(y.min(), y.max(), ny)\n",
    "    xi, yi = np.meshgrid(xi, yi)\n",
    "    xi, yi = xi.flatten(), yi.flatten()\n",
    "\n",
    "    # Calculate IDW\n",
    "    grid1 = simple_idw(x,y,z,xi,yi)\n",
    "    grid1 = grid1.reshape((nx, ny))\n",
    "\n",
    "    # Select color for graphs\n",
    "    if param == 'chl':\n",
    "        color = 'Greens'\n",
    "    elif param == 'ent':\n",
    "        color = 'Reds'\n",
    "    elif param == 'pho':\n",
    "        color = 'Blues'\n",
    "    # Comparisons...\n",
    "    if sum(z) > 0:\n",
    "        site_info = df[df.index == site]\n",
    "        plot(x,y,z,grid1,color)\n",
    "        plt.title('Heatmap Indicating Sites Overlapping with ' + site)\n",
    "        plt.xlabel('Longitude')\n",
    "        plt.ylabel('Latitude')\n",
    "        plt.scatter(x=site_info['Long'], y=site_info['Lat'],\n",
    "                    marker='o', c='k', label=site)\n",
    "        plt.legend()\n",
    "        plt.show()\n",
    "\n",
    "def simple_idw(x, y, z, xi, yi):\n",
    "    dist = distance_matrix(x,y, xi,yi)\n",
    "\n",
    "    # In IDW, weights are 1 / distance\n",
    "    weights = 1.0 / dist\n",
    "\n",
    "    # Make weights sum to one\n",
    "    weights /= weights.sum(axis=0)\n",
    "\n",
    "    # Multiply the weights for each interpolated point by all observed Z-values\n",
    "    zi = np.dot(weights.T, z)\n",
    "    return zi\n",
    "\n",
    "def distance_matrix(x0, y0, x1, y1):\n",
    "    obs = np.vstack((x0, y0)).T\n",
    "    interp = np.vstack((x1, y1)).T\n",
    "\n",
    "    # Make a distance matrix between pairwise observations\n",
    "    # Note: from <http://stackoverflow.com/questions/1871536>\n",
    "    d0 = np.subtract.outer(obs[:,0], interp[:,0])\n",
    "    d1 = np.subtract.outer(obs[:,1], interp[:,1])\n",
    "\n",
    "    return np.hypot(d0, d1)\n",
    "\n",
    "\n",
    "def plot(x,y,z,grid,color):\n",
    "    \n",
    "    plt.figure()\n",
    "    plt.tight_layout()\n",
    "    plt.imshow(grid, extent=(x.min(), x.max(), y.min(), y.max()),\n",
    "               cmap=color)\n",
    "    plt.colorbar()"
   ]
  },
  {
   "cell_type": "markdown",
   "metadata": {},
   "source": [
    "Next I want to create each parameter's joined dataframe using the overlap dataframes I created previously. These will be used to produce the IDW graphs."
   ]
  },
  {
   "cell_type": "code",
   "execution_count": null,
   "metadata": {},
   "outputs": [],
   "source": [
    "lat = wq_df.groupby('Sampling Location')['Lat'].mean()\n",
    "long = wq_df.groupby('Sampling Location')['Long'].mean()\n",
    "\n",
    "chl_df = chl_overlap_df.groupby('Sampling Location').mean()\n",
    "chl_joined_df = chl_df.join(lat)\n",
    "chl_joined_df = chl_joined_df.join(long)\n",
    "\n",
    "ent_df = ent_overlap_df.groupby('Sampling Location').mean()\n",
    "ent_joined_df = ent_df.join(lat)\n",
    "ent_joined_df = ent_joined_df.join(long)\n",
    "\n",
    "pho_df = pho_overlap_df.groupby('Sampling Location').mean()\n",
    "pho_joined_df = pho_df.join(lat)\n",
    "pho_joined_df = pho_joined_df.join(long)"
   ]
  },
  {
   "cell_type": "markdown",
   "metadata": {},
   "source": [
    "## Chlorophyll"
   ]
  },
  {
   "cell_type": "code",
   "execution_count": null,
   "metadata": {
    "scrolled": true
   },
   "outputs": [],
   "source": [
    "for site in chl_joined_df.index:\n",
    "    main(chl_joined_df, site, 'chl')"
   ]
  },
  {
   "cell_type": "markdown",
   "metadata": {},
   "source": [
    "## Enterococcus"
   ]
  },
  {
   "cell_type": "code",
   "execution_count": null,
   "metadata": {},
   "outputs": [],
   "source": [
    "for site in ent_joined_df.index:\n",
    "    main(ent_joined_df, site, 'ent')"
   ]
  },
  {
   "cell_type": "markdown",
   "metadata": {},
   "source": [
    "## Phosphorus"
   ]
  },
  {
   "cell_type": "code",
   "execution_count": null,
   "metadata": {
    "scrolled": true
   },
   "outputs": [],
   "source": [
    "for site in pho_joined_df.index:\n",
    "    main(pho_joined_df, site, 'pho')"
   ]
  },
  {
   "cell_type": "markdown",
   "metadata": {},
   "source": [
    "# Choosing Sites to Investigate Further\n",
    "\n",
    "In order determine which sites to target as predictors of quality elsewhere, I will look at a few different features of the heatmaps. The following ar in no particular order and are meant to be used in conjunction with each other.\n",
    "\n",
    "- **Map Scale**\n",
    "    If the maximum on the color bar is above 0.1, then I believe that the site may have good prediction power.\n",
    "\n",
    "- **Geography** \n",
    "    If a site is far away from the sites where it has fairly high overlap, then I believe it is reasonable that these overlaps are more anomalous than caused by the actual flow of water between sites.\n",
    "\n",
    "- **Overall Overlap**\n",
    "    If a site overlaps with a lot of other sites, it may be worthwhile to investigate whether this site could predict for a large swath of sites at once. If it proved successful, then it could be a huge time/money saver for state agencies performing sampling.\n",
    "    \n",
    "\n",
    "## Sites for Further Investigation\n",
    "\n",
    "### Chlorophyll:\n",
    "- `BB2`, `E11`, `FLC1`, `K6`, `NC2`\n",
    "\n",
    "### Enterococcus:\n",
    "- `BB2`, `E14`, `FLC1`, `G2`, `H3`\n",
    "\n",
    "### Phosphorus:\n",
    "- `E10`, `J8`, `K6`, `NC1`, `PB3`\n",
    "\n",
    "I am going to work through these systematically. I will showcase the full process first and show fewer steps for later sites."
   ]
  },
  {
   "cell_type": "markdown",
   "metadata": {},
   "source": [
    "# Model Selection and Testing"
   ]
  },
  {
   "cell_type": "markdown",
   "metadata": {},
   "source": [
    "To create my dataframe, I need to combine `wq_df` with the columns showing overlap in failures for each site I am investigating further."
   ]
  },
  {
   "cell_type": "code",
   "execution_count": 12,
   "metadata": {
    "scrolled": true
   },
   "outputs": [],
   "source": [
    "chl_class_df = wq_df.join(chl_overlap_df.loc[:, ['BB4_fail_overlap_chl',\n",
    "                                                 'E11_fail_overlap_chl', \n",
    "                                                 'FLC1_fail_overlap_chl', \n",
    "                                                 'K6_fail_overlap_chl',\n",
    "                                                 'NC2_fail_overlap_chl']])\n",
    "\n",
    "ent_class_df = wq_df.join(ent_overlap_df.loc[:, ['BB2_fail_overlap_ent', \n",
    "                                                 'E14_fail_overlap_ent',\n",
    "                                                 'FLC1_fail_overlap_ent', \n",
    "                                                 'G2_fail_overlap_ent',\n",
    "                                                 'H3_fail_overlap_ent']])\n",
    "\n",
    "pho_class_df = wq_df.join(pho_overlap_df.loc[:, ['E10_fail_overlap_pho', \n",
    "                                                 'J8_fail_overlap_pho', \n",
    "                                                 'K6_fail_overlap_pho', \n",
    "                                                 'NC1_fail_overlap_pho',\n",
    "                                                 'PB3_fail_overlap_pho']])"
   ]
  },
  {
   "cell_type": "markdown",
   "metadata": {},
   "source": [
    "## Data Preparation\n",
    "\n",
    "### Resampling\n",
    "All of the target variables I am working with are heavily imbalanced, so I need to have a way to fix this issue. The following function resamples so there are 2000 data of each target class. Since there are ~1000 positive responses in the entire dataset, I did not feel comfortable that upsampling the positive responses to ~20,000 would be an accurate representation of the data, and downsampling the negative responses to ~1000 would leave me with very few data points. I decided on a middle ground of 4000 of each."
   ]
  },
  {
   "cell_type": "code",
   "execution_count": 13,
   "metadata": {},
   "outputs": [],
   "source": [
    "def balance(df, site):\n",
    "    '''Resamples dataset to balance target variable categorizations.'''\n",
    "    \n",
    "    target = site + '_fail_overlap_chl'\n",
    "    int_df = df.select_dtypes(include=[float, 'int64'])\n",
    "    int_df = int_df.drop(columns=['Lat', 'Long'])\n",
    "    \n",
    "    class0 = int_df[int_df[target] == 0]\n",
    "    class1 = int_df[int_df[target] == 1]\n",
    "    nclass0 = len(class0)\n",
    "    nclass1 = len(class1)\n",
    "    class0_resampled = np.random.choice(class0.index, size=4000, replace=True)\n",
    "    class1_resampled = np.random.choice(class1.index, size=4000, replace=True)\n",
    "    resampled_int_df = int_df.iloc[class0_resampled]\n",
    "    resampled_int_df = resampled_int_df.append(int_df.iloc[class1_resampled])\n",
    "    \n",
    "    return resampled_int_df"
   ]
  },
  {
   "cell_type": "markdown",
   "metadata": {},
   "source": [
    "### Splitting\n",
    "\n",
    "It is important to split the data before making tuning models in order to avoid leakage from the test data into the training set."
   ]
  },
  {
   "cell_type": "code",
   "execution_count": 14,
   "metadata": {},
   "outputs": [],
   "source": [
    "balanced_overlap_df_chl = balance(chl_class_df, 'BB4')\n",
    "\n",
    "features = balanced_overlap_df_chl.iloc[:, :38].copy()\n",
    "target = balanced_overlap_df_chl.loc[:, 'BB4_fail_overlap_chl'].copy()\n",
    "\n",
    "x_train, x_test, target_train, target_test \\\n",
    "    = train_test_split(features, target, test_size=0.3, random_state=42)"
   ]
  },
  {
   "cell_type": "markdown",
   "metadata": {},
   "source": [
    "## Feature Selection\n",
    "\n",
    "I need to see which features I can drop. I am going to use Recursive Feature Elimination (RFE). RFE ranks the features and eliminates the worst predictors. First it is trained on the initial set of features and then it eliminates more based on the coef_ or feature_importances_ attribute."
   ]
  },
  {
   "cell_type": "code",
   "execution_count": 15,
   "metadata": {},
   "outputs": [],
   "source": [
    "estimator = RandomForestClassifier(n_estimators=10, random_state=42)\n",
    "selector = RFE(estimator, 10, step=1)\n",
    "selector = selector.fit(x_train, target_train)\n",
    "print(selector.support_)\n",
    "print(selector.ranking_)"
   ]
  },
  {
   "cell_type": "markdown",
   "metadata": {},
   "source": [
    "Now that I have the best features, I want to make sure that there are no instances of colinearity within them."
   ]
  },
  {
   "cell_type": "code",
   "execution_count": 16,
   "metadata": {},
   "outputs": [],
   "source": [
    "best_features = x_train[x_train.columns[selector.support_]].copy()\n",
    "best_features.head()"
   ]
  },
  {
   "cell_type": "code",
   "execution_count": 17,
   "metadata": {},
   "outputs": [],
   "source": [
    "best_features.join(target_train).corr()"
   ]
  },
  {
   "cell_type": "code",
   "execution_count": 18,
   "metadata": {},
   "outputs": [],
   "source": [
    "x_train = x_train.drop(columns=['Bottom Sigma-T (kg/m3)',\n",
    "                                'Bottom Conductivity (S/m)',\n",
    "                                'Top Ammonium (mg/L)',\n",
    "                                'Top Total Kjeldhal Nitrogen (mg/L)',\n",
    "                                'Top Ortho-Phosphorus (mg/L)',\n",
    "                                ]\n",
    "                       ).copy()"
   ]
  },
  {
   "cell_type": "markdown",
   "metadata": {},
   "source": [
    "I am going to do RFE a second time now that I have eliminated colinear columns."
   ]
  },
  {
   "cell_type": "code",
   "execution_count": 19,
   "metadata": {},
   "outputs": [],
   "source": [
    "estimator = RandomForestClassifier(n_estimators=10)\n",
    "selector = RFE(estimator, 10, step=1)\n",
    "selector = selector.fit(x_train, target_train)\n",
    "print(selector.support_)\n",
    "print(selector.ranking_)"
   ]
  },
  {
   "cell_type": "code",
   "execution_count": 20,
   "metadata": {},
   "outputs": [
    {
     "data": {
      "text/html": [
       "<div>\n",
       "<style scoped>\n",
       "    .dataframe tbody tr th:only-of-type {\n",
       "        vertical-align: middle;\n",
       "    }\n",
       "\n",
       "    .dataframe tbody tr th {\n",
       "        vertical-align: top;\n",
       "    }\n",
       "\n",
       "    .dataframe thead th {\n",
       "        text-align: right;\n",
       "    }\n",
       "</style>\n",
       "<table border=\"1\" class=\"dataframe\">\n",
       "  <thead>\n",
       "    <tr style=\"text-align: right;\">\n",
       "      <th></th>\n",
       "      <th>Top Sample Temperature (ºC)</th>\n",
       "      <th>Bottom Sample Temperature (ºC)</th>\n",
       "      <th>Site Actual Depth (ft)</th>\n",
       "      <th>Bottom Sample Depth (ft)</th>\n",
       "      <th>Top Conductivity (S/m)</th>\n",
       "      <th>Top Sigma-T (kg/m3)</th>\n",
       "      <th>Top Fecal Coliform Bacteria (Cells/100mL)</th>\n",
       "      <th>Top Silica (mg/L)</th>\n",
       "      <th>Top Ortho-Phosphorus (mg/L) Failure</th>\n",
       "      <th>Month</th>\n",
       "    </tr>\n",
       "  </thead>\n",
       "  <tbody>\n",
       "    <tr>\n",
       "      <th>21256</th>\n",
       "      <td>21.76</td>\n",
       "      <td>21.54</td>\n",
       "      <td>14.0</td>\n",
       "      <td>21.0</td>\n",
       "      <td>3.66</td>\n",
       "      <td>16.60</td>\n",
       "      <td>20.0</td>\n",
       "      <td>3.380</td>\n",
       "      <td>1</td>\n",
       "      <td>9</td>\n",
       "    </tr>\n",
       "    <tr>\n",
       "      <th>18431</th>\n",
       "      <td>26.90</td>\n",
       "      <td>24.92</td>\n",
       "      <td>10.0</td>\n",
       "      <td>13.0</td>\n",
       "      <td>4.30</td>\n",
       "      <td>16.60</td>\n",
       "      <td>72.0</td>\n",
       "      <td>3.014</td>\n",
       "      <td>1</td>\n",
       "      <td>7</td>\n",
       "    </tr>\n",
       "    <tr>\n",
       "      <th>18252</th>\n",
       "      <td>24.67</td>\n",
       "      <td>26.68</td>\n",
       "      <td>12.0</td>\n",
       "      <td>6.0</td>\n",
       "      <td>4.20</td>\n",
       "      <td>17.75</td>\n",
       "      <td>920.0</td>\n",
       "      <td>1.818</td>\n",
       "      <td>1</td>\n",
       "      <td>6</td>\n",
       "    </tr>\n",
       "    <tr>\n",
       "      <th>10064</th>\n",
       "      <td>21.73</td>\n",
       "      <td>21.65</td>\n",
       "      <td>22.0</td>\n",
       "      <td>21.0</td>\n",
       "      <td>3.80</td>\n",
       "      <td>17.41</td>\n",
       "      <td>83.0</td>\n",
       "      <td>2.660</td>\n",
       "      <td>0</td>\n",
       "      <td>9</td>\n",
       "    </tr>\n",
       "    <tr>\n",
       "      <th>16092</th>\n",
       "      <td>8.00</td>\n",
       "      <td>8.12</td>\n",
       "      <td>38.0</td>\n",
       "      <td>33.0</td>\n",
       "      <td>2.39</td>\n",
       "      <td>17.18</td>\n",
       "      <td>28.0</td>\n",
       "      <td>2.472</td>\n",
       "      <td>0</td>\n",
       "      <td>12</td>\n",
       "    </tr>\n",
       "  </tbody>\n",
       "</table>\n",
       "</div>"
      ],
      "text/plain": [
       "       Top Sample Temperature (ºC)  Bottom Sample Temperature (ºC)  \\\n",
       "21256                        21.76                           21.54   \n",
       "18431                        26.90                           24.92   \n",
       "18252                        24.67                           26.68   \n",
       "10064                        21.73                           21.65   \n",
       "16092                         8.00                            8.12   \n",
       "\n",
       "       Site Actual Depth (ft)  Bottom Sample Depth (ft)  \\\n",
       "21256                    14.0                      21.0   \n",
       "18431                    10.0                      13.0   \n",
       "18252                    12.0                       6.0   \n",
       "10064                    22.0                      21.0   \n",
       "16092                    38.0                      33.0   \n",
       "\n",
       "       Top Conductivity (S/m)  Top Sigma-T (kg/m3)  \\\n",
       "21256                    3.66                16.60   \n",
       "18431                    4.30                16.60   \n",
       "18252                    4.20                17.75   \n",
       "10064                    3.80                17.41   \n",
       "16092                    2.39                17.18   \n",
       "\n",
       "       Top Fecal Coliform Bacteria (Cells/100mL)  Top Silica (mg/L)  \\\n",
       "21256                                       20.0              3.380   \n",
       "18431                                       72.0              3.014   \n",
       "18252                                      920.0              1.818   \n",
       "10064                                       83.0              2.660   \n",
       "16092                                       28.0              2.472   \n",
       "\n",
       "       Top Ortho-Phosphorus (mg/L) Failure  Month  \n",
       "21256                                    1      9  \n",
       "18431                                    1      7  \n",
       "18252                                    1      6  \n",
       "10064                                    0      9  \n",
       "16092                                    0     12  "
      ]
     },
     "execution_count": 20,
     "metadata": {},
     "output_type": "execute_result"
    }
   ],
   "source": [
    "best_features = x_train[x_train.columns[selector.support_]].copy()\n",
    "best_features.head()"
   ]
  },
  {
   "cell_type": "code",
   "execution_count": 21,
   "metadata": {
    "scrolled": false
   },
   "outputs": [
    {
     "data": {
      "text/html": [
       "<div>\n",
       "<style scoped>\n",
       "    .dataframe tbody tr th:only-of-type {\n",
       "        vertical-align: middle;\n",
       "    }\n",
       "\n",
       "    .dataframe tbody tr th {\n",
       "        vertical-align: top;\n",
       "    }\n",
       "\n",
       "    .dataframe thead th {\n",
       "        text-align: right;\n",
       "    }\n",
       "</style>\n",
       "<table border=\"1\" class=\"dataframe\">\n",
       "  <thead>\n",
       "    <tr style=\"text-align: right;\">\n",
       "      <th></th>\n",
       "      <th>Top Sample Temperature (ºC)</th>\n",
       "      <th>Bottom Sample Temperature (ºC)</th>\n",
       "      <th>Site Actual Depth (ft)</th>\n",
       "      <th>Bottom Sample Depth (ft)</th>\n",
       "      <th>Top Conductivity (S/m)</th>\n",
       "      <th>Top Sigma-T (kg/m3)</th>\n",
       "      <th>Top Fecal Coliform Bacteria (Cells/100mL)</th>\n",
       "      <th>Top Silica (mg/L)</th>\n",
       "      <th>Top Ortho-Phosphorus (mg/L) Failure</th>\n",
       "      <th>Month</th>\n",
       "      <th>BB4_fail_overlap_chl</th>\n",
       "    </tr>\n",
       "  </thead>\n",
       "  <tbody>\n",
       "    <tr>\n",
       "      <th>Top Sample Temperature (ºC)</th>\n",
       "      <td>1.000000</td>\n",
       "      <td>0.934441</td>\n",
       "      <td>-0.177872</td>\n",
       "      <td>-0.189908</td>\n",
       "      <td>0.024240</td>\n",
       "      <td>-0.303790</td>\n",
       "      <td>0.132789</td>\n",
       "      <td>0.160352</td>\n",
       "      <td>0.368752</td>\n",
       "      <td>0.513482</td>\n",
       "      <td>0.372202</td>\n",
       "    </tr>\n",
       "    <tr>\n",
       "      <th>Bottom Sample Temperature (ºC)</th>\n",
       "      <td>0.934441</td>\n",
       "      <td>1.000000</td>\n",
       "      <td>-0.182973</td>\n",
       "      <td>-0.199251</td>\n",
       "      <td>0.128417</td>\n",
       "      <td>-0.223448</td>\n",
       "      <td>0.107482</td>\n",
       "      <td>0.184353</td>\n",
       "      <td>0.368351</td>\n",
       "      <td>0.545387</td>\n",
       "      <td>0.370706</td>\n",
       "    </tr>\n",
       "    <tr>\n",
       "      <th>Site Actual Depth (ft)</th>\n",
       "      <td>-0.177872</td>\n",
       "      <td>-0.182973</td>\n",
       "      <td>1.000000</td>\n",
       "      <td>0.950313</td>\n",
       "      <td>-0.058871</td>\n",
       "      <td>-0.015380</td>\n",
       "      <td>-0.169659</td>\n",
       "      <td>-0.217597</td>\n",
       "      <td>-0.397372</td>\n",
       "      <td>-0.066653</td>\n",
       "      <td>-0.396994</td>\n",
       "    </tr>\n",
       "    <tr>\n",
       "      <th>Bottom Sample Depth (ft)</th>\n",
       "      <td>-0.189908</td>\n",
       "      <td>-0.199251</td>\n",
       "      <td>0.950313</td>\n",
       "      <td>1.000000</td>\n",
       "      <td>-0.008648</td>\n",
       "      <td>-0.004317</td>\n",
       "      <td>-0.152457</td>\n",
       "      <td>-0.185065</td>\n",
       "      <td>-0.377681</td>\n",
       "      <td>-0.079267</td>\n",
       "      <td>-0.377301</td>\n",
       "    </tr>\n",
       "    <tr>\n",
       "      <th>Top Conductivity (S/m)</th>\n",
       "      <td>0.024240</td>\n",
       "      <td>0.128417</td>\n",
       "      <td>-0.058871</td>\n",
       "      <td>-0.008648</td>\n",
       "      <td>1.000000</td>\n",
       "      <td>0.109689</td>\n",
       "      <td>-0.018277</td>\n",
       "      <td>0.051973</td>\n",
       "      <td>0.053880</td>\n",
       "      <td>0.063971</td>\n",
       "      <td>0.056864</td>\n",
       "    </tr>\n",
       "    <tr>\n",
       "      <th>Top Sigma-T (kg/m3)</th>\n",
       "      <td>-0.303790</td>\n",
       "      <td>-0.223448</td>\n",
       "      <td>-0.015380</td>\n",
       "      <td>-0.004317</td>\n",
       "      <td>0.109689</td>\n",
       "      <td>1.000000</td>\n",
       "      <td>-0.195226</td>\n",
       "      <td>-0.323251</td>\n",
       "      <td>-0.029936</td>\n",
       "      <td>-0.070624</td>\n",
       "      <td>-0.037501</td>\n",
       "    </tr>\n",
       "    <tr>\n",
       "      <th>Top Fecal Coliform Bacteria (Cells/100mL)</th>\n",
       "      <td>0.132789</td>\n",
       "      <td>0.107482</td>\n",
       "      <td>-0.169659</td>\n",
       "      <td>-0.152457</td>\n",
       "      <td>-0.018277</td>\n",
       "      <td>-0.195226</td>\n",
       "      <td>1.000000</td>\n",
       "      <td>0.308303</td>\n",
       "      <td>0.117591</td>\n",
       "      <td>0.072636</td>\n",
       "      <td>0.120601</td>\n",
       "    </tr>\n",
       "    <tr>\n",
       "      <th>Top Silica (mg/L)</th>\n",
       "      <td>0.160352</td>\n",
       "      <td>0.184353</td>\n",
       "      <td>-0.217597</td>\n",
       "      <td>-0.185065</td>\n",
       "      <td>0.051973</td>\n",
       "      <td>-0.323251</td>\n",
       "      <td>0.308303</td>\n",
       "      <td>1.000000</td>\n",
       "      <td>0.169664</td>\n",
       "      <td>0.297445</td>\n",
       "      <td>0.168294</td>\n",
       "    </tr>\n",
       "    <tr>\n",
       "      <th>Top Ortho-Phosphorus (mg/L) Failure</th>\n",
       "      <td>0.368752</td>\n",
       "      <td>0.368351</td>\n",
       "      <td>-0.397372</td>\n",
       "      <td>-0.377681</td>\n",
       "      <td>0.053880</td>\n",
       "      <td>-0.029936</td>\n",
       "      <td>0.117591</td>\n",
       "      <td>0.169664</td>\n",
       "      <td>1.000000</td>\n",
       "      <td>0.128761</td>\n",
       "      <td>0.974494</td>\n",
       "    </tr>\n",
       "    <tr>\n",
       "      <th>Month</th>\n",
       "      <td>0.513482</td>\n",
       "      <td>0.545387</td>\n",
       "      <td>-0.066653</td>\n",
       "      <td>-0.079267</td>\n",
       "      <td>0.063971</td>\n",
       "      <td>-0.070624</td>\n",
       "      <td>0.072636</td>\n",
       "      <td>0.297445</td>\n",
       "      <td>0.128761</td>\n",
       "      <td>1.000000</td>\n",
       "      <td>0.116952</td>\n",
       "    </tr>\n",
       "    <tr>\n",
       "      <th>BB4_fail_overlap_chl</th>\n",
       "      <td>0.372202</td>\n",
       "      <td>0.370706</td>\n",
       "      <td>-0.396994</td>\n",
       "      <td>-0.377301</td>\n",
       "      <td>0.056864</td>\n",
       "      <td>-0.037501</td>\n",
       "      <td>0.120601</td>\n",
       "      <td>0.168294</td>\n",
       "      <td>0.974494</td>\n",
       "      <td>0.116952</td>\n",
       "      <td>1.000000</td>\n",
       "    </tr>\n",
       "  </tbody>\n",
       "</table>\n",
       "</div>"
      ],
      "text/plain": [
       "                                           Top Sample Temperature (ºC)  \\\n",
       "Top Sample Temperature (ºC)                                   1.000000   \n",
       "Bottom Sample Temperature (ºC)                                0.934441   \n",
       "Site Actual Depth (ft)                                       -0.177872   \n",
       "Bottom Sample Depth (ft)                                     -0.189908   \n",
       "Top Conductivity (S/m)                                        0.024240   \n",
       "Top Sigma-T (kg/m3)                                          -0.303790   \n",
       "Top Fecal Coliform Bacteria (Cells/100mL)                     0.132789   \n",
       "Top Silica (mg/L)                                             0.160352   \n",
       "Top Ortho-Phosphorus (mg/L) Failure                           0.368752   \n",
       "Month                                                         0.513482   \n",
       "BB4_fail_overlap_chl                                          0.372202   \n",
       "\n",
       "                                           Bottom Sample Temperature (ºC)  \\\n",
       "Top Sample Temperature (ºC)                                      0.934441   \n",
       "Bottom Sample Temperature (ºC)                                   1.000000   \n",
       "Site Actual Depth (ft)                                          -0.182973   \n",
       "Bottom Sample Depth (ft)                                        -0.199251   \n",
       "Top Conductivity (S/m)                                           0.128417   \n",
       "Top Sigma-T (kg/m3)                                             -0.223448   \n",
       "Top Fecal Coliform Bacteria (Cells/100mL)                        0.107482   \n",
       "Top Silica (mg/L)                                                0.184353   \n",
       "Top Ortho-Phosphorus (mg/L) Failure                              0.368351   \n",
       "Month                                                            0.545387   \n",
       "BB4_fail_overlap_chl                                             0.370706   \n",
       "\n",
       "                                           Site Actual Depth (ft)  \\\n",
       "Top Sample Temperature (ºC)                             -0.177872   \n",
       "Bottom Sample Temperature (ºC)                          -0.182973   \n",
       "Site Actual Depth (ft)                                   1.000000   \n",
       "Bottom Sample Depth (ft)                                 0.950313   \n",
       "Top Conductivity (S/m)                                  -0.058871   \n",
       "Top Sigma-T (kg/m3)                                     -0.015380   \n",
       "Top Fecal Coliform Bacteria (Cells/100mL)               -0.169659   \n",
       "Top Silica (mg/L)                                       -0.217597   \n",
       "Top Ortho-Phosphorus (mg/L) Failure                     -0.397372   \n",
       "Month                                                   -0.066653   \n",
       "BB4_fail_overlap_chl                                    -0.396994   \n",
       "\n",
       "                                           Bottom Sample Depth (ft)  \\\n",
       "Top Sample Temperature (ºC)                               -0.189908   \n",
       "Bottom Sample Temperature (ºC)                            -0.199251   \n",
       "Site Actual Depth (ft)                                     0.950313   \n",
       "Bottom Sample Depth (ft)                                   1.000000   \n",
       "Top Conductivity (S/m)                                    -0.008648   \n",
       "Top Sigma-T (kg/m3)                                       -0.004317   \n",
       "Top Fecal Coliform Bacteria (Cells/100mL)                 -0.152457   \n",
       "Top Silica (mg/L)                                         -0.185065   \n",
       "Top Ortho-Phosphorus (mg/L) Failure                       -0.377681   \n",
       "Month                                                     -0.079267   \n",
       "BB4_fail_overlap_chl                                      -0.377301   \n",
       "\n",
       "                                           Top Conductivity (S/m)  \\\n",
       "Top Sample Temperature (ºC)                              0.024240   \n",
       "Bottom Sample Temperature (ºC)                           0.128417   \n",
       "Site Actual Depth (ft)                                  -0.058871   \n",
       "Bottom Sample Depth (ft)                                -0.008648   \n",
       "Top Conductivity (S/m)                                   1.000000   \n",
       "Top Sigma-T (kg/m3)                                      0.109689   \n",
       "Top Fecal Coliform Bacteria (Cells/100mL)               -0.018277   \n",
       "Top Silica (mg/L)                                        0.051973   \n",
       "Top Ortho-Phosphorus (mg/L) Failure                      0.053880   \n",
       "Month                                                    0.063971   \n",
       "BB4_fail_overlap_chl                                     0.056864   \n",
       "\n",
       "                                           Top Sigma-T (kg/m3)  \\\n",
       "Top Sample Temperature (ºC)                          -0.303790   \n",
       "Bottom Sample Temperature (ºC)                       -0.223448   \n",
       "Site Actual Depth (ft)                               -0.015380   \n",
       "Bottom Sample Depth (ft)                             -0.004317   \n",
       "Top Conductivity (S/m)                                0.109689   \n",
       "Top Sigma-T (kg/m3)                                   1.000000   \n",
       "Top Fecal Coliform Bacteria (Cells/100mL)            -0.195226   \n",
       "Top Silica (mg/L)                                    -0.323251   \n",
       "Top Ortho-Phosphorus (mg/L) Failure                  -0.029936   \n",
       "Month                                                -0.070624   \n",
       "BB4_fail_overlap_chl                                 -0.037501   \n",
       "\n",
       "                                           Top Fecal Coliform Bacteria (Cells/100mL)  \\\n",
       "Top Sample Temperature (ºC)                                                 0.132789   \n",
       "Bottom Sample Temperature (ºC)                                              0.107482   \n",
       "Site Actual Depth (ft)                                                     -0.169659   \n",
       "Bottom Sample Depth (ft)                                                   -0.152457   \n",
       "Top Conductivity (S/m)                                                     -0.018277   \n",
       "Top Sigma-T (kg/m3)                                                        -0.195226   \n",
       "Top Fecal Coliform Bacteria (Cells/100mL)                                   1.000000   \n",
       "Top Silica (mg/L)                                                           0.308303   \n",
       "Top Ortho-Phosphorus (mg/L) Failure                                         0.117591   \n",
       "Month                                                                       0.072636   \n",
       "BB4_fail_overlap_chl                                                        0.120601   \n",
       "\n",
       "                                           Top Silica (mg/L)  \\\n",
       "Top Sample Temperature (ºC)                         0.160352   \n",
       "Bottom Sample Temperature (ºC)                      0.184353   \n",
       "Site Actual Depth (ft)                             -0.217597   \n",
       "Bottom Sample Depth (ft)                           -0.185065   \n",
       "Top Conductivity (S/m)                              0.051973   \n",
       "Top Sigma-T (kg/m3)                                -0.323251   \n",
       "Top Fecal Coliform Bacteria (Cells/100mL)           0.308303   \n",
       "Top Silica (mg/L)                                   1.000000   \n",
       "Top Ortho-Phosphorus (mg/L) Failure                 0.169664   \n",
       "Month                                               0.297445   \n",
       "BB4_fail_overlap_chl                                0.168294   \n",
       "\n",
       "                                           Top Ortho-Phosphorus (mg/L) Failure  \\\n",
       "Top Sample Temperature (ºC)                                           0.368752   \n",
       "Bottom Sample Temperature (ºC)                                        0.368351   \n",
       "Site Actual Depth (ft)                                               -0.397372   \n",
       "Bottom Sample Depth (ft)                                             -0.377681   \n",
       "Top Conductivity (S/m)                                                0.053880   \n",
       "Top Sigma-T (kg/m3)                                                  -0.029936   \n",
       "Top Fecal Coliform Bacteria (Cells/100mL)                             0.117591   \n",
       "Top Silica (mg/L)                                                     0.169664   \n",
       "Top Ortho-Phosphorus (mg/L) Failure                                   1.000000   \n",
       "Month                                                                 0.128761   \n",
       "BB4_fail_overlap_chl                                                  0.974494   \n",
       "\n",
       "                                              Month  BB4_fail_overlap_chl  \n",
       "Top Sample Temperature (ºC)                0.513482              0.372202  \n",
       "Bottom Sample Temperature (ºC)             0.545387              0.370706  \n",
       "Site Actual Depth (ft)                    -0.066653             -0.396994  \n",
       "Bottom Sample Depth (ft)                  -0.079267             -0.377301  \n",
       "Top Conductivity (S/m)                     0.063971              0.056864  \n",
       "Top Sigma-T (kg/m3)                       -0.070624             -0.037501  \n",
       "Top Fecal Coliform Bacteria (Cells/100mL)  0.072636              0.120601  \n",
       "Top Silica (mg/L)                          0.297445              0.168294  \n",
       "Top Ortho-Phosphorus (mg/L) Failure        0.128761              0.974494  \n",
       "Month                                      1.000000              0.116952  \n",
       "BB4_fail_overlap_chl                       0.116952              1.000000  "
      ]
     },
     "execution_count": 21,
     "metadata": {},
     "output_type": "execute_result"
    }
   ],
   "source": [
    "best_features.join(target_train).corr()"
   ]
  },
  {
   "cell_type": "code",
   "execution_count": 22,
   "metadata": {},
   "outputs": [],
   "source": [
    "best_features_train = best_features.drop(columns=['Bottom Sample Temperature (ºC)',\n",
    "                                                  'Bottom Sample Depth (ft)',\n",
    "                                                  'Month'\n",
    "                                                  ]\n",
    "                                         ).copy()\n",
    "best_features_test = x_test.loc[:, best_features_train.columns]"
   ]
  },
  {
   "cell_type": "code",
   "execution_count": 23,
   "metadata": {},
   "outputs": [],
   "source": [
    "best_features_test = x_test.loc[:, best_features_train.columns]"
   ]
  },
  {
   "cell_type": "markdown",
   "metadata": {},
   "source": [
    "Now that I have my features selected, I am going to begin my predictions."
   ]
  },
  {
   "cell_type": "markdown",
   "metadata": {},
   "source": [
    "## Take binary overlap results and predict other locations"
   ]
  },
  {
   "cell_type": "code",
   "execution_count": 24,
   "metadata": {},
   "outputs": [
    {
     "name": "stdout",
     "output_type": "stream",
     "text": [
      "RandomForestClassifier  F1:  0.9823118058412177\n",
      "              precision    recall  f1-score   support\n",
      "\n",
      "           0       0.96      1.00      0.98      1163\n",
      "           1       1.00      0.97      0.98      1237\n",
      "\n",
      "    accuracy                           0.98      2400\n",
      "   macro avg       0.98      0.98      0.98      2400\n",
      "weighted avg       0.98      0.98      0.98      2400\n",
      "\n",
      "LogisticRegression  F1:  0.9766871165644172\n",
      "              precision    recall  f1-score   support\n",
      "\n",
      "           0       0.95      1.00      0.98      1149\n",
      "           1       1.00      0.95      0.98      1251\n",
      "\n",
      "    accuracy                           0.98      2400\n",
      "   macro avg       0.98      0.98      0.98      2400\n",
      "weighted avg       0.98      0.98      0.98      2400\n",
      "\n"
     ]
    }
   ],
   "source": [
    "rf_model = RandomForestClassifier(n_estimators=100)\n",
    "lr_model = LogisticRegression(solver='lbfgs', max_iter=1000)\n",
    "\n",
    "models = [rf_model, lr_model]\n",
    "predictions = {}\n",
    "\n",
    "for m in models:\n",
    "    name = m.__class__.__name__\n",
    "    m.fit(best_features_train, target_train)\n",
    "    target_pred = m.predict(best_features_test)\n",
    "    predictions[name] = m.predict_proba(best_features_test)\n",
    "    print(name, ' F1: ', f1_score(target_pred, target_test))\n",
    "    print(classification_report(target_pred, target_test))\n",
    "    "
   ]
  },
  {
   "cell_type": "markdown",
   "metadata": {},
   "source": [
    "## Results\n",
    "\n",
    "Both classifiers performed incredibly well."
   ]
  },
  {
   "cell_type": "code",
   "execution_count": 25,
   "metadata": {},
   "outputs": [],
   "source": [
    "from sklearn.metrics import auc, roc_curve\n",
    "fprrfc, tprrfc, thresholdrfc = roc_curve(target_test, \n",
    "                                         predictions['RandomForestClassifier'][:, 1])\n",
    "roc_aucrfc = auc(fprrfc, tprrfc)\n",
    "\n",
    "fprlr, tprlr, thresholdlr = roc_curve(target_test, \n",
    "                                         predictions['LogisticRegression'][:, 1])\n",
    "roc_auclr = auc(fprlr, tprlr)"
   ]
  },
  {
   "cell_type": "code",
   "execution_count": 26,
   "metadata": {
    "scrolled": false
   },
   "outputs": [
    {
     "data": {
      "image/png": "[encoded data removed]",
      "text/plain": [
       "<Figure size 720x504 with 1 Axes>"
      ]
     },
     "metadata": {
      "needs_background": "light"
     },
     "output_type": "display_data"
    }
   ],
   "source": [
    "_ = plt.figure(figsize=(10,7))\n",
    "_ = plt.title('Receiver Operating Characteristic Comparison', size=20)\n",
    "_ = plt.plot(fprrfc, tprrfc, label='Rand Forest: %0.4f' % roc_aucrfc)\n",
    "_ = plt.plot(fprlr, tprlr, label='Log Reg: %0.4f' % roc_auclr)\n",
    "_ = plt.legend(title='AUC', loc = 'lower right')\n",
    "_ = plt.plot([0, 1.05], [0, 1.05],'r--')\n",
    "_ = plt.xlim([-0.05, 1.05])\n",
    "_ = plt.ylim([0, 1.05])\n",
    "_ = plt.ylabel('True Positive Rate')\n",
    "_ = plt.xlabel('False Positive Rate')\n",
    "_ = plt.show()"
   ]
  },
  {
   "cell_type": "markdown",
   "metadata": {},
   "source": [
    "## Applying model to original data\n",
    "\n",
    "I am going to apply this model to my original data and see how accurate it is at predicting on new data."
   ]
  },
  {
   "cell_type": "code",
   "execution_count": 27,
   "metadata": {
    "scrolled": true
   },
   "outputs": [],
   "source": [
    "features = wq_df.loc[:, best_features_test.columns]\n",
    "features = features.drop(index=best_features_test.index)\n",
    "target = chl_overlap_df['BB4_fail_overlap_chl']\n",
    "target = target.drop(index=best_features_test.index)\n",
    "\n",
    "x_train, x_test, y_train, y_test = train_test_split(features, target,\n",
    "                                                    test_size=.3,\n",
    "                                                    stratify=target,\n",
    "                                                    random_state=42)"
   ]
  },
  {
   "cell_type": "code",
   "execution_count": 28,
   "metadata": {},
   "outputs": [
    {
     "name": "stdout",
     "output_type": "stream",
     "text": [
      "              precision    recall  f1-score   support\n",
      "\n",
      "           0       0.99      1.00      1.00      6540\n",
      "           1       0.75      0.15      0.25        60\n",
      "\n",
      "    accuracy                           0.99      6600\n",
      "   macro avg       0.87      0.57      0.62      6600\n",
      "weighted avg       0.99      0.99      0.99      6600\n",
      "\n",
      "Random Forest F1 Score:  0.24999999999999997\n"
     ]
    }
   ],
   "source": [
    "rf_model.fit(x_train, y_train)\n",
    "y_pred = rf_model.predict(x_test)\n",
    "\n",
    "print(classification_report(y_test, y_pred))\n",
    "print('Random Forest F1 Score: ', f1_score(y_test, y_pred))"
   ]
  },
  {
   "cell_type": "code",
   "execution_count": 29,
   "metadata": {},
   "outputs": [
    {
     "name": "stderr",
     "output_type": "stream",
     "text": [
      "C:\\Users\\Drew\\AppData\\Roaming\\Python\\Python36\\site-packages\\sklearn\\metrics\\classification.py:1437: UndefinedMetricWarning: Precision and F-score are ill-defined and being set to 0.0 in labels with no predicted samples.\n",
      "  'precision', 'predicted', average, warn_for)\n"
     ]
    },
    {
     "name": "stdout",
     "output_type": "stream",
     "text": [
      "              precision    recall  f1-score   support\n",
      "\n",
      "           0       0.99      1.00      1.00      6540\n",
      "           1       0.00      0.00      0.00        60\n",
      "\n",
      "    accuracy                           0.99      6600\n",
      "   macro avg       0.50      0.50      0.50      6600\n",
      "weighted avg       0.98      0.99      0.99      6600\n",
      "\n"
     ]
    },
    {
     "name": "stderr",
     "output_type": "stream",
     "text": [
      "C:\\Users\\Drew\\AppData\\Roaming\\Python\\Python36\\site-packages\\sklearn\\metrics\\classification.py:1437: UndefinedMetricWarning: F-score is ill-defined and being set to 0.0 due to no predicted samples.\n",
      "  'precision', 'predicted', average, warn_for)\n"
     ]
    },
    {
     "name": "stdout",
     "output_type": "stream",
     "text": [
      "Random Forest F1 Score:  0.0\n"
     ]
    }
   ],
   "source": [
    "lr_model.fit(x_train, y_train)\n",
    "y_pred = lr_model.predict(x_test)\n",
    "\n",
    "print(classification_report(y_test, y_pred))\n",
    "print('Random Forest F1 Score: ', f1_score(y_test, y_pred))"
   ]
  },
  {
   "cell_type": "markdown",
   "metadata": {},
   "source": [
    "# Discussion\n",
    "\n",
    "The model did terrible on the real world data. Potential reasons for this:\n",
    "\n",
    "- **Leakage** from training data into test data would result in overfitting and poor application to new data\n",
    "- **Incorrect assumptions** may have been made about the relationships between sites which would greatly impact the ability of my produced models to perform on the real world data.\n",
    "\n",
    "Performing Root Cause Analysis could help me to locate where the error originates."
   ]
  },
  {
   "cell_type": "code",
   "execution_count": null,
   "metadata": {},
   "outputs": [],
   "source": []
  },
  {
   "cell_type": "code",
   "execution_count": null,
   "metadata": {},
   "outputs": [],
   "source": []
  },
  {
   "cell_type": "code",
   "execution_count": null,
   "metadata": {},
   "outputs": [],
   "source": []
  },
  {
   "cell_type": "code",
   "execution_count": null,
   "metadata": {},
   "outputs": [],
   "source": []
  },
  {
   "cell_type": "code",
   "execution_count": null,
   "metadata": {},
   "outputs": [],
   "source": []
  },
  {
   "cell_type": "code",
   "execution_count": null,
   "metadata": {},
   "outputs": [],
   "source": []
  },
  {
   "cell_type": "code",
   "execution_count": null,
   "metadata": {},
   "outputs": [],
   "source": [
    "full_overlap_df_pho = wq_df.join(pho_overlap_df, rsuffix='_r')\n",
    "full_overlap_df_pho.drop(columns=['Sampling Location_r', 'Sample Time',\n",
    "                                  'Sample Date', 'Sampling Location'], inplace=True)"
   ]
  },
  {
   "cell_type": "markdown",
   "metadata": {},
   "source": [
    "I am going to take the top 10 sites from the phosphate heatmap based on the sum of their probabilities and develop a geospatial representation of their likelihoods."
   ]
  },
  {
   "cell_type": "code",
   "execution_count": null,
   "metadata": {
    "scrolled": true
   },
   "outputs": [],
   "source": [
    "pho_means_df.sum(axis=0).sort_values(ascending=False)[:10]"
   ]
  },
  {
   "cell_type": "markdown",
   "metadata": {},
   "source": [
    "In order to perform kriging, data has to be normal. I transform the numeric value of Ortho-phosphorus using np.log."
   ]
  },
  {
   "cell_type": "code",
   "execution_count": null,
   "metadata": {},
   "outputs": [],
   "source": [
    "krige_df = wq_df[wq_df['Sampling Location'].isin(['BB2', 'NC0', 'BB4',\n",
    "                                                  'E14', 'NC1', 'PB3',\n",
    "                                                  'J9A', 'J7', 'PB2',\n",
    "                                                  'NC2'])]\n",
    "krige_df = krige_df.select_dtypes([np.int64, np.float64])\n",
    "krige_df = krige_df.drop(columns=['Top Ortho-Phosphorus (mg/L) Failure'])\n",
    "krige_df['Top Ortho-Phosphorus (mg/L)'] = krige_df['Top Ortho-Phosphorus (mg/L)'].apply(np.log)"
   ]
  },
  {
   "cell_type": "code",
   "execution_count": null,
   "metadata": {},
   "outputs": [],
   "source": [
    "from sklearn.svm import SVR\n",
    "from sklearn.ensemble import RandomForestRegressor\n",
    "from sklearn.linear_model import LinearRegression\n",
    "\n",
    "from pykrige.rk import RegressionKriging\n",
    "from pykrige.compat import train_test_split\n",
    "\n",
    "svr_model = SVR(C=0.1, gamma='scale')\n",
    "rf_model = RandomForestRegressor(n_estimators=100)\n",
    "lr_model = LinearRegression(normalize=True, copy_X=True, fit_intercept=False)\n",
    "\n",
    "models = [svr_model, rf_model, lr_model]\n",
    "\n",
    "\n",
    "\n",
    "p = np.array(krige_df.drop(columns=['Lat', 'Long', 'Top Ortho-Phosphorus (mg/L)']))\n",
    "x = np.array(krige_df.loc[:, ['Lat', 'Long']])\n",
    "target = np.array(krige_df.loc[:, 'Top Ortho-Phosphorus (mg/L)'])\n",
    "\n",
    "p_train, p_test, x_train, x_test, target_train, target_test \\\n",
    "    = train_test_split(p, x, target, test_size=0.3, random_state=42)\n",
    "\n",
    "fitted_models = dict()\n",
    "for m in models:\n",
    "    print('=' * 40)\n",
    "    print('regression model:', m.__class__.__name__)\n",
    "    m_rk = RegressionKriging(regression_model=m, n_closest_points=10)\n",
    "    m_rk.fit(p_train, x_train, target_train)\n",
    "    fitted_models[m.__class__.__name__] = m_rk\n",
    "    print('Regression Score: ', m_rk.regression_model.score(p_test, target_test))\n",
    "    print('RK score: ', m_rk.score(p_test, x_test, target_test))\n"
   ]
  },
  {
   "cell_type": "markdown",
   "metadata": {},
   "source": [
    "Based on these scores, the best model is the Random Forest Regressor as it has the highest Regression Score. Approximately 64% of the variance is explained with this model."
   ]
  },
  {
   "cell_type": "code",
   "execution_count": null,
   "metadata": {},
   "outputs": [],
   "source": [
    "residuals = fitted_models['RandomForestRegressor'].krige_residual(x)\n",
    "_ = sns.residplot(target, residuals, lowess=True)"
   ]
  },
  {
   "cell_type": "markdown",
   "metadata": {},
   "source": [
    "I want to now do this with the binary classifier and see what the regression results look like."
   ]
  },
  {
   "cell_type": "code",
   "execution_count": null,
   "metadata": {},
   "outputs": [],
   "source": [
    "krige_df = wq_df[wq_df['Sampling Location'].isin(['BB2', 'NC0', 'BB4',\n",
    "                                                  'E14', 'NC1', 'PB3',\n",
    "                                                  'J9A', 'J7', 'PB2',\n",
    "                                                  'NC2'])]\n",
    "krige_df = krige_df.select_dtypes([np.int64, np.float64])\n",
    "krige_df = krige_df.drop(columns=['Top Ortho-Phosphorus (mg/L)'])"
   ]
  },
  {
   "cell_type": "code",
   "execution_count": null,
   "metadata": {
    "scrolled": true
   },
   "outputs": [],
   "source": [
    "from sklearn.svm import SVR\n",
    "from sklearn.ensemble import RandomForestRegressor\n",
    "from sklearn.linear_model import LinearRegression\n",
    "\n",
    "from pykrige.rk import RegressionKriging\n",
    "from pykrige.compat import train_test_split\n",
    "\n",
    "svr_model = SVR(C=0.1, gamma='scale')\n",
    "rf_model = RandomForestRegressor(n_estimators=100)\n",
    "lr_model = LinearRegression(normalize=True, copy_X=True, fit_intercept=False)\n",
    "\n",
    "models = [svr_model, rf_model, lr_model]\n",
    "\n",
    "\n",
    "\n",
    "p = np.array(krige_df.drop(columns=['Lat', 'Long', 'Top Ortho-Phosphorus (mg/L) Failure']))\n",
    "x = np.array(krige_df.loc[:, ['Lat', 'Long']])\n",
    "target = np.array(krige_df.loc[:, 'Top Ortho-Phosphorus (mg/L) Failure'])\n",
    "\n",
    "p_train, p_test, x_train, x_test, target_train, target_test \\\n",
    "    = train_test_split(p, x, target, test_size=0.3, random_state=42)\n",
    "\n",
    "fitted_models = dict()\n",
    "for m in models:\n",
    "    print('=' * 40)\n",
    "    print('regression model:', m.__class__.__name__)\n",
    "    m_rk = RegressionKriging(regression_model=m, n_closest_points=10)\n",
    "    m_rk.fit(p_train, x_train, target_train)\n",
    "    fitted_models[m.__class__.__name__] = m_rk\n",
    "    print('Regression Score: ', m_rk.regression_model.score(p_test, target_test))\n",
    "    print('RK score: ', m_rk.score(p_test, x_test, target_test))\n"
   ]
  },
  {
   "cell_type": "markdown",
   "metadata": {},
   "source": [
    "The Random Forest Regressor is still the best classifier, but I want to inspect the predicted values."
   ]
  },
  {
   "cell_type": "code",
   "execution_count": null,
   "metadata": {
    "scrolled": true
   },
   "outputs": [],
   "source": [
    "rf_rk = RegressionKriging(regression_model=rf_model, n_closest_points=10)\n",
    "rf_rk.fit(p_train, x_train, target_train)\n",
    "target_pred = rf_rk.predict(p_test, x_test)"
   ]
  },
  {
   "cell_type": "markdown",
   "metadata": {},
   "source": [
    "While my model has very high accuracy, but since it is unbalanced, it is not fair to use accuracy as the metric. I will look at F1 score instead which takes into account false positives and negatives as well."
   ]
  },
  {
   "cell_type": "code",
   "execution_count": null,
   "metadata": {},
   "outputs": [],
   "source": [
    "from sklearn.metrics import accuracy_score, classification_report, f1_score\n",
    "print('Accuracy: ', accuracy_score(target_test, (target_pred > 0.5)))\n",
    "print('F1 Score: ',f1_score(target_test, (target_pred > 0.5)))\n",
    "print(classification_report(target_test, (target_pred > 0.5)))\n"
   ]
  },
  {
   "cell_type": "markdown",
   "metadata": {},
   "source": [
    "I am creating a dataframe containing information on where each location failure overlaps with failures of another site. I am looking at phosphate in this dataframe. My intention is to iterate through each of the "
   ]
  }
 ],
 "metadata": {
  "kernelspec": {
   "display_name": "Python 3",
   "language": "python",
   "name": "python3"
  },
  "language_info": {
   "codemirror_mode": {
    "name": "ipython",
    "version": 3
   },
   "file_extension": ".py",
   "mimetype": "text/x-python",
   "name": "python",
   "nbconvert_exporter": "python",
   "pygments_lexer": "ipython3",
   "version": "3.6.7"
  }
 },
 "nbformat": 4,
 "nbformat_minor": 2
}
